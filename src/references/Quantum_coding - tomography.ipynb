{
 "cells": [
  {
   "cell_type": "markdown",
   "metadata": {
    "id": "j4QY3sxxjEtt"
   },
   "source": [
    "Libs"
   ]
  },
  {
   "cell_type": "code",
   "execution_count": 1,
   "metadata": {
    "colab": {
     "base_uri": "https://localhost:8080/"
    },
    "collapsed": true,
    "id": "Isy43Wcah7EF",
    "outputId": "7b82af52-715c-4133-942d-413fe97cea3b"
   },
   "outputs": [
    {
     "name": "stdout",
     "output_type": "stream",
     "text": [
      "Requirement already satisfied: qiskit-aer==0.14.2 in c:\\users\\gaming\\appdata\\local\\programs\\python\\python312\\lib\\site-packages (0.14.2)\n",
      "Requirement already satisfied: qiskit>=0.45.2 in c:\\users\\gaming\\appdata\\local\\programs\\python\\python312\\lib\\site-packages (from qiskit-aer==0.14.2) (1.1.1)\n",
      "Requirement already satisfied: numpy>=1.16.3 in c:\\users\\gaming\\appdata\\local\\programs\\python\\python312\\lib\\site-packages (from qiskit-aer==0.14.2) (2.2.3)\n",
      "Requirement already satisfied: scipy>=1.0 in c:\\users\\gaming\\appdata\\local\\programs\\python\\python312\\lib\\site-packages (from qiskit-aer==0.14.2) (1.15.2)\n",
      "Requirement already satisfied: psutil>=5 in c:\\users\\gaming\\appdata\\roaming\\python\\python312\\site-packages (from qiskit-aer==0.14.2) (7.0.0)\n",
      "Requirement already satisfied: rustworkx>=0.14.0 in c:\\users\\gaming\\appdata\\local\\programs\\python\\python312\\lib\\site-packages (from qiskit>=0.45.2->qiskit-aer==0.14.2) (0.16.0)\n",
      "Requirement already satisfied: sympy>=1.3 in c:\\users\\gaming\\appdata\\local\\programs\\python\\python312\\lib\\site-packages (from qiskit>=0.45.2->qiskit-aer==0.14.2) (1.13.3)\n",
      "Requirement already satisfied: dill>=0.3 in c:\\users\\gaming\\appdata\\local\\programs\\python\\python312\\lib\\site-packages (from qiskit>=0.45.2->qiskit-aer==0.14.2) (0.3.9)\n",
      "Requirement already satisfied: python-dateutil>=2.8.0 in c:\\users\\gaming\\appdata\\roaming\\python\\python312\\site-packages (from qiskit>=0.45.2->qiskit-aer==0.14.2) (2.9.0.post0)\n",
      "Requirement already satisfied: stevedore>=3.0.0 in c:\\users\\gaming\\appdata\\local\\programs\\python\\python312\\lib\\site-packages (from qiskit>=0.45.2->qiskit-aer==0.14.2) (5.4.0)\n",
      "Requirement already satisfied: typing-extensions in c:\\users\\gaming\\appdata\\local\\programs\\python\\python312\\lib\\site-packages (from qiskit>=0.45.2->qiskit-aer==0.14.2) (4.12.2)\n",
      "Requirement already satisfied: symengine>=0.11 in c:\\users\\gaming\\appdata\\local\\programs\\python\\python312\\lib\\site-packages (from qiskit>=0.45.2->qiskit-aer==0.14.2) (0.13.0)\n",
      "Requirement already satisfied: six>=1.5 in c:\\users\\gaming\\appdata\\roaming\\python\\python312\\site-packages (from python-dateutil>=2.8.0->qiskit>=0.45.2->qiskit-aer==0.14.2) (1.17.0)\n",
      "Requirement already satisfied: pbr>=2.0.0 in c:\\users\\gaming\\appdata\\local\\programs\\python\\python312\\lib\\site-packages (from stevedore>=3.0.0->qiskit>=0.45.2->qiskit-aer==0.14.2) (6.1.1)\n",
      "Requirement already satisfied: mpmath<1.4,>=1.1.0 in c:\\users\\gaming\\appdata\\local\\programs\\python\\python312\\lib\\site-packages (from sympy>=1.3->qiskit>=0.45.2->qiskit-aer==0.14.2) (1.3.0)\n",
      "Requirement already satisfied: setuptools in c:\\users\\gaming\\appdata\\local\\programs\\python\\python312\\lib\\site-packages (from pbr>=2.0.0->stevedore>=3.0.0->qiskit>=0.45.2->qiskit-aer==0.14.2) (75.8.0)\n"
     ]
    },
    {
     "name": "stderr",
     "output_type": "stream",
     "text": [
      "\n",
      "[notice] A new release of pip is available: 24.2 -> 25.0.1\n",
      "[notice] To update, run: python.exe -m pip install --upgrade pip\n"
     ]
    },
    {
     "name": "stdout",
     "output_type": "stream",
     "text": [
      "Requirement already satisfied: qiskit==1.1.1 in c:\\users\\gaming\\appdata\\local\\programs\\python\\python312\\lib\\site-packages (1.1.1)\n",
      "Requirement already satisfied: rustworkx>=0.14.0 in c:\\users\\gaming\\appdata\\local\\programs\\python\\python312\\lib\\site-packages (from qiskit==1.1.1) (0.16.0)\n",
      "Requirement already satisfied: numpy<3,>=1.17 in c:\\users\\gaming\\appdata\\local\\programs\\python\\python312\\lib\\site-packages (from qiskit==1.1.1) (2.2.3)\n",
      "Requirement already satisfied: scipy>=1.5 in c:\\users\\gaming\\appdata\\local\\programs\\python\\python312\\lib\\site-packages (from qiskit==1.1.1) (1.15.2)\n",
      "Requirement already satisfied: sympy>=1.3 in c:\\users\\gaming\\appdata\\local\\programs\\python\\python312\\lib\\site-packages (from qiskit==1.1.1) (1.13.3)\n",
      "Requirement already satisfied: dill>=0.3 in c:\\users\\gaming\\appdata\\local\\programs\\python\\python312\\lib\\site-packages (from qiskit==1.1.1) (0.3.9)\n",
      "Requirement already satisfied: python-dateutil>=2.8.0 in c:\\users\\gaming\\appdata\\roaming\\python\\python312\\site-packages (from qiskit==1.1.1) (2.9.0.post0)\n",
      "Requirement already satisfied: stevedore>=3.0.0 in c:\\users\\gaming\\appdata\\local\\programs\\python\\python312\\lib\\site-packages (from qiskit==1.1.1) (5.4.0)\n",
      "Requirement already satisfied: typing-extensions in c:\\users\\gaming\\appdata\\local\\programs\\python\\python312\\lib\\site-packages (from qiskit==1.1.1) (4.12.2)\n",
      "Requirement already satisfied: symengine>=0.11 in c:\\users\\gaming\\appdata\\local\\programs\\python\\python312\\lib\\site-packages (from qiskit==1.1.1) (0.13.0)\n",
      "Requirement already satisfied: six>=1.5 in c:\\users\\gaming\\appdata\\roaming\\python\\python312\\site-packages (from python-dateutil>=2.8.0->qiskit==1.1.1) (1.17.0)\n",
      "Requirement already satisfied: pbr>=2.0.0 in c:\\users\\gaming\\appdata\\local\\programs\\python\\python312\\lib\\site-packages (from stevedore>=3.0.0->qiskit==1.1.1) (6.1.1)\n",
      "Requirement already satisfied: mpmath<1.4,>=1.1.0 in c:\\users\\gaming\\appdata\\local\\programs\\python\\python312\\lib\\site-packages (from sympy>=1.3->qiskit==1.1.1) (1.3.0)\n",
      "Requirement already satisfied: setuptools in c:\\users\\gaming\\appdata\\local\\programs\\python\\python312\\lib\\site-packages (from pbr>=2.0.0->stevedore>=3.0.0->qiskit==1.1.1) (75.8.0)\n"
     ]
    },
    {
     "name": "stderr",
     "output_type": "stream",
     "text": [
      "\n",
      "[notice] A new release of pip is available: 24.2 -> 25.0.1\n",
      "[notice] To update, run: python.exe -m pip install --upgrade pip\n"
     ]
    },
    {
     "name": "stdout",
     "output_type": "stream",
     "text": [
      "Requirement already satisfied: qiskit-ibm-runtime==0.26.0 in c:\\users\\gaming\\appdata\\local\\programs\\python\\python312\\lib\\site-packages (0.26.0)\n",
      "Requirement already satisfied: requests>=2.19 in c:\\users\\gaming\\appdata\\local\\programs\\python\\python312\\lib\\site-packages (from qiskit-ibm-runtime==0.26.0) (2.32.3)\n",
      "Requirement already satisfied: requests-ntlm>=1.1.0 in c:\\users\\gaming\\appdata\\local\\programs\\python\\python312\\lib\\site-packages (from qiskit-ibm-runtime==0.26.0) (1.3.0)\n",
      "Requirement already satisfied: numpy>=1.13 in c:\\users\\gaming\\appdata\\local\\programs\\python\\python312\\lib\\site-packages (from qiskit-ibm-runtime==0.26.0) (2.2.3)\n",
      "Requirement already satisfied: urllib3>=1.21.1 in c:\\users\\gaming\\appdata\\local\\programs\\python\\python312\\lib\\site-packages (from qiskit-ibm-runtime==0.26.0) (2.2.3)\n",
      "Requirement already satisfied: python-dateutil>=2.8.0 in c:\\users\\gaming\\appdata\\roaming\\python\\python312\\site-packages (from qiskit-ibm-runtime==0.26.0) (2.9.0.post0)\n",
      "Requirement already satisfied: websocket-client>=1.5.1 in c:\\users\\gaming\\appdata\\local\\programs\\python\\python312\\lib\\site-packages (from qiskit-ibm-runtime==0.26.0) (1.8.0)\n",
      "Requirement already satisfied: ibm-platform-services>=0.22.6 in c:\\users\\gaming\\appdata\\local\\programs\\python\\python312\\lib\\site-packages (from qiskit-ibm-runtime==0.26.0) (0.59.1)\n",
      "Requirement already satisfied: pydantic>=2.5.0 in c:\\users\\gaming\\appdata\\local\\programs\\python\\python312\\lib\\site-packages (from qiskit-ibm-runtime==0.26.0) (2.9.2)\n",
      "Requirement already satisfied: qiskit>=1.1.0 in c:\\users\\gaming\\appdata\\local\\programs\\python\\python312\\lib\\site-packages (from qiskit-ibm-runtime==0.26.0) (1.1.1)\n",
      "Requirement already satisfied: ibm_cloud_sdk_core<4.0.0,>=3.22.0 in c:\\users\\gaming\\appdata\\local\\programs\\python\\python312\\lib\\site-packages (from ibm-platform-services>=0.22.6->qiskit-ibm-runtime==0.26.0) (3.22.1)\n",
      "Requirement already satisfied: annotated-types>=0.6.0 in c:\\users\\gaming\\appdata\\local\\programs\\python\\python312\\lib\\site-packages (from pydantic>=2.5.0->qiskit-ibm-runtime==0.26.0) (0.7.0)\n",
      "Requirement already satisfied: pydantic-core==2.23.4 in c:\\users\\gaming\\appdata\\local\\programs\\python\\python312\\lib\\site-packages (from pydantic>=2.5.0->qiskit-ibm-runtime==0.26.0) (2.23.4)\n",
      "Requirement already satisfied: typing-extensions>=4.6.1 in c:\\users\\gaming\\appdata\\local\\programs\\python\\python312\\lib\\site-packages (from pydantic>=2.5.0->qiskit-ibm-runtime==0.26.0) (4.12.2)\n",
      "Requirement already satisfied: six>=1.5 in c:\\users\\gaming\\appdata\\roaming\\python\\python312\\site-packages (from python-dateutil>=2.8.0->qiskit-ibm-runtime==0.26.0) (1.17.0)\n",
      "Requirement already satisfied: rustworkx>=0.14.0 in c:\\users\\gaming\\appdata\\local\\programs\\python\\python312\\lib\\site-packages (from qiskit>=1.1.0->qiskit-ibm-runtime==0.26.0) (0.16.0)\n",
      "Requirement already satisfied: scipy>=1.5 in c:\\users\\gaming\\appdata\\local\\programs\\python\\python312\\lib\\site-packages (from qiskit>=1.1.0->qiskit-ibm-runtime==0.26.0) (1.15.2)\n",
      "Requirement already satisfied: sympy>=1.3 in c:\\users\\gaming\\appdata\\local\\programs\\python\\python312\\lib\\site-packages (from qiskit>=1.1.0->qiskit-ibm-runtime==0.26.0) (1.13.3)\n",
      "Requirement already satisfied: dill>=0.3 in c:\\users\\gaming\\appdata\\local\\programs\\python\\python312\\lib\\site-packages (from qiskit>=1.1.0->qiskit-ibm-runtime==0.26.0) (0.3.9)\n",
      "Requirement already satisfied: stevedore>=3.0.0 in c:\\users\\gaming\\appdata\\local\\programs\\python\\python312\\lib\\site-packages (from qiskit>=1.1.0->qiskit-ibm-runtime==0.26.0) (5.4.0)\n",
      "Requirement already satisfied: symengine>=0.11 in c:\\users\\gaming\\appdata\\local\\programs\\python\\python312\\lib\\site-packages (from qiskit>=1.1.0->qiskit-ibm-runtime==0.26.0) (0.13.0)\n",
      "Requirement already satisfied: charset-normalizer<4,>=2 in c:\\users\\gaming\\appdata\\local\\programs\\python\\python312\\lib\\site-packages (from requests>=2.19->qiskit-ibm-runtime==0.26.0) (3.3.2)\n",
      "Requirement already satisfied: idna<4,>=2.5 in c:\\users\\gaming\\appdata\\local\\programs\\python\\python312\\lib\\site-packages (from requests>=2.19->qiskit-ibm-runtime==0.26.0) (3.10)\n",
      "Requirement already satisfied: certifi>=2017.4.17 in c:\\users\\gaming\\appdata\\local\\programs\\python\\python312\\lib\\site-packages (from requests>=2.19->qiskit-ibm-runtime==0.26.0) (2024.8.30)\n",
      "Requirement already satisfied: cryptography>=1.3 in c:\\users\\gaming\\appdata\\local\\programs\\python\\python312\\lib\\site-packages (from requests-ntlm>=1.1.0->qiskit-ibm-runtime==0.26.0) (44.0.1)\n",
      "Requirement already satisfied: pyspnego>=0.4.0 in c:\\users\\gaming\\appdata\\local\\programs\\python\\python312\\lib\\site-packages (from requests-ntlm>=1.1.0->qiskit-ibm-runtime==0.26.0) (0.11.2)\n",
      "Requirement already satisfied: cffi>=1.12 in c:\\users\\gaming\\appdata\\local\\programs\\python\\python312\\lib\\site-packages (from cryptography>=1.3->requests-ntlm>=1.1.0->qiskit-ibm-runtime==0.26.0) (1.17.1)\n",
      "Requirement already satisfied: PyJWT<3.0.0,>=2.8.0 in c:\\users\\gaming\\appdata\\local\\programs\\python\\python312\\lib\\site-packages (from ibm_cloud_sdk_core<4.0.0,>=3.22.0->ibm-platform-services>=0.22.6->qiskit-ibm-runtime==0.26.0) (2.10.1)\n",
      "Requirement already satisfied: sspilib>=0.1.0 in c:\\users\\gaming\\appdata\\local\\programs\\python\\python312\\lib\\site-packages (from pyspnego>=0.4.0->requests-ntlm>=1.1.0->qiskit-ibm-runtime==0.26.0) (0.2.0)\n",
      "Requirement already satisfied: pbr>=2.0.0 in c:\\users\\gaming\\appdata\\local\\programs\\python\\python312\\lib\\site-packages (from stevedore>=3.0.0->qiskit>=1.1.0->qiskit-ibm-runtime==0.26.0) (6.1.1)\n",
      "Requirement already satisfied: mpmath<1.4,>=1.1.0 in c:\\users\\gaming\\appdata\\local\\programs\\python\\python312\\lib\\site-packages (from sympy>=1.3->qiskit>=1.1.0->qiskit-ibm-runtime==0.26.0) (1.3.0)\n",
      "Requirement already satisfied: pycparser in c:\\users\\gaming\\appdata\\local\\programs\\python\\python312\\lib\\site-packages (from cffi>=1.12->cryptography>=1.3->requests-ntlm>=1.1.0->qiskit-ibm-runtime==0.26.0) (2.22)\n",
      "Requirement already satisfied: setuptools in c:\\users\\gaming\\appdata\\local\\programs\\python\\python312\\lib\\site-packages (from pbr>=2.0.0->stevedore>=3.0.0->qiskit>=1.1.0->qiskit-ibm-runtime==0.26.0) (75.8.0)\n"
     ]
    },
    {
     "name": "stderr",
     "output_type": "stream",
     "text": [
      "\n",
      "[notice] A new release of pip is available: 24.2 -> 25.0.1\n",
      "[notice] To update, run: python.exe -m pip install --upgrade pip\n"
     ]
    },
    {
     "name": "stdout",
     "output_type": "stream",
     "text": [
      "Requirement already satisfied: qiskit_experiments==0.7.0 in c:\\users\\gaming\\appdata\\local\\programs\\python\\python312\\lib\\site-packages (0.7.0)\n",
      "Requirement already satisfied: numpy>=1.17 in c:\\users\\gaming\\appdata\\local\\programs\\python\\python312\\lib\\site-packages (from qiskit_experiments==0.7.0) (2.2.3)\n",
      "Requirement already satisfied: scipy>=1.4 in c:\\users\\gaming\\appdata\\local\\programs\\python\\python312\\lib\\site-packages (from qiskit_experiments==0.7.0) (1.15.2)\n",
      "Requirement already satisfied: qiskit>=0.45 in c:\\users\\gaming\\appdata\\local\\programs\\python\\python312\\lib\\site-packages (from qiskit_experiments==0.7.0) (1.1.1)\n",
      "Requirement already satisfied: qiskit-ibm-experiment>=0.4.6 in c:\\users\\gaming\\appdata\\local\\programs\\python\\python312\\lib\\site-packages (from qiskit_experiments==0.7.0) (0.4.8)\n",
      "Requirement already satisfied: matplotlib>=3.4 in c:\\users\\gaming\\appdata\\local\\programs\\python\\python312\\lib\\site-packages (from qiskit_experiments==0.7.0) (3.8.4)\n",
      "Requirement already satisfied: uncertainties in c:\\users\\gaming\\appdata\\local\\programs\\python\\python312\\lib\\site-packages (from qiskit_experiments==0.7.0) (3.2.2)\n",
      "Requirement already satisfied: lmfit in c:\\users\\gaming\\appdata\\local\\programs\\python\\python312\\lib\\site-packages (from qiskit_experiments==0.7.0) (1.3.2)\n",
      "Requirement already satisfied: rustworkx in c:\\users\\gaming\\appdata\\local\\programs\\python\\python312\\lib\\site-packages (from qiskit_experiments==0.7.0) (0.16.0)\n",
      "Requirement already satisfied: pandas>=1.1.5 in c:\\users\\gaming\\appdata\\local\\programs\\python\\python312\\lib\\site-packages (from qiskit_experiments==0.7.0) (2.2.3)\n",
      "Requirement already satisfied: packaging in c:\\users\\gaming\\appdata\\roaming\\python\\python312\\site-packages (from qiskit_experiments==0.7.0) (24.2)\n",
      "Requirement already satisfied: contourpy>=1.0.1 in c:\\users\\gaming\\appdata\\local\\programs\\python\\python312\\lib\\site-packages (from matplotlib>=3.4->qiskit_experiments==0.7.0) (1.3.1)\n",
      "Requirement already satisfied: cycler>=0.10 in c:\\users\\gaming\\appdata\\local\\programs\\python\\python312\\lib\\site-packages (from matplotlib>=3.4->qiskit_experiments==0.7.0) (0.12.1)\n",
      "Requirement already satisfied: fonttools>=4.22.0 in c:\\users\\gaming\\appdata\\local\\programs\\python\\python312\\lib\\site-packages (from matplotlib>=3.4->qiskit_experiments==0.7.0) (4.56.0)\n",
      "Requirement already satisfied: kiwisolver>=1.3.1 in c:\\users\\gaming\\appdata\\local\\programs\\python\\python312\\lib\\site-packages (from matplotlib>=3.4->qiskit_experiments==0.7.0) (1.4.8)\n",
      "Requirement already satisfied: pillow>=8 in c:\\users\\gaming\\appdata\\local\\programs\\python\\python312\\lib\\site-packages (from matplotlib>=3.4->qiskit_experiments==0.7.0) (11.1.0)\n",
      "Requirement already satisfied: pyparsing>=2.3.1 in c:\\users\\gaming\\appdata\\local\\programs\\python\\python312\\lib\\site-packages (from matplotlib>=3.4->qiskit_experiments==0.7.0) (3.2.1)\n",
      "Requirement already satisfied: python-dateutil>=2.7 in c:\\users\\gaming\\appdata\\roaming\\python\\python312\\site-packages (from matplotlib>=3.4->qiskit_experiments==0.7.0) (2.9.0.post0)\n",
      "Requirement already satisfied: pytz>=2020.1 in c:\\users\\gaming\\appdata\\local\\programs\\python\\python312\\lib\\site-packages (from pandas>=1.1.5->qiskit_experiments==0.7.0) (2025.1)\n",
      "Requirement already satisfied: tzdata>=2022.7 in c:\\users\\gaming\\appdata\\local\\programs\\python\\python312\\lib\\site-packages (from pandas>=1.1.5->qiskit_experiments==0.7.0) (2025.1)\n",
      "Requirement already satisfied: sympy>=1.3 in c:\\users\\gaming\\appdata\\local\\programs\\python\\python312\\lib\\site-packages (from qiskit>=0.45->qiskit_experiments==0.7.0) (1.13.3)\n",
      "Requirement already satisfied: dill>=0.3 in c:\\users\\gaming\\appdata\\local\\programs\\python\\python312\\lib\\site-packages (from qiskit>=0.45->qiskit_experiments==0.7.0) (0.3.9)\n",
      "Requirement already satisfied: stevedore>=3.0.0 in c:\\users\\gaming\\appdata\\local\\programs\\python\\python312\\lib\\site-packages (from qiskit>=0.45->qiskit_experiments==0.7.0) (5.4.0)\n",
      "Requirement already satisfied: typing-extensions in c:\\users\\gaming\\appdata\\local\\programs\\python\\python312\\lib\\site-packages (from qiskit>=0.45->qiskit_experiments==0.7.0) (4.12.2)\n",
      "Requirement already satisfied: symengine>=0.11 in c:\\users\\gaming\\appdata\\local\\programs\\python\\python312\\lib\\site-packages (from qiskit>=0.45->qiskit_experiments==0.7.0) (0.13.0)\n",
      "Requirement already satisfied: requests>=2.19 in c:\\users\\gaming\\appdata\\local\\programs\\python\\python312\\lib\\site-packages (from qiskit-ibm-experiment>=0.4.6->qiskit_experiments==0.7.0) (2.32.3)\n",
      "Requirement already satisfied: requests-ntlm>=1.1.0 in c:\\users\\gaming\\appdata\\local\\programs\\python\\python312\\lib\\site-packages (from qiskit-ibm-experiment>=0.4.6->qiskit_experiments==0.7.0) (1.3.0)\n",
      "Requirement already satisfied: urllib3>=1.21.1 in c:\\users\\gaming\\appdata\\local\\programs\\python\\python312\\lib\\site-packages (from qiskit-ibm-experiment>=0.4.6->qiskit_experiments==0.7.0) (2.2.3)\n",
      "Requirement already satisfied: websocket-client>=1.0.1 in c:\\users\\gaming\\appdata\\local\\programs\\python\\python312\\lib\\site-packages (from qiskit-ibm-experiment>=0.4.6->qiskit_experiments==0.7.0) (1.8.0)\n",
      "Requirement already satisfied: pyyaml>=6.0.0 in c:\\users\\gaming\\appdata\\local\\programs\\python\\python312\\lib\\site-packages (from qiskit-ibm-experiment>=0.4.6->qiskit_experiments==0.7.0) (6.0.2)\n",
      "Requirement already satisfied: asteval>=1.0 in c:\\users\\gaming\\appdata\\local\\programs\\python\\python312\\lib\\site-packages (from lmfit->qiskit_experiments==0.7.0) (1.0.6)\n",
      "Requirement already satisfied: six>=1.5 in c:\\users\\gaming\\appdata\\roaming\\python\\python312\\site-packages (from python-dateutil>=2.7->matplotlib>=3.4->qiskit_experiments==0.7.0) (1.17.0)\n",
      "Requirement already satisfied: charset-normalizer<4,>=2 in c:\\users\\gaming\\appdata\\local\\programs\\python\\python312\\lib\\site-packages (from requests>=2.19->qiskit-ibm-experiment>=0.4.6->qiskit_experiments==0.7.0) (3.3.2)\n",
      "Requirement already satisfied: idna<4,>=2.5 in c:\\users\\gaming\\appdata\\local\\programs\\python\\python312\\lib\\site-packages (from requests>=2.19->qiskit-ibm-experiment>=0.4.6->qiskit_experiments==0.7.0) (3.10)\n",
      "Requirement already satisfied: certifi>=2017.4.17 in c:\\users\\gaming\\appdata\\local\\programs\\python\\python312\\lib\\site-packages (from requests>=2.19->qiskit-ibm-experiment>=0.4.6->qiskit_experiments==0.7.0) (2024.8.30)\n",
      "Requirement already satisfied: cryptography>=1.3 in c:\\users\\gaming\\appdata\\local\\programs\\python\\python312\\lib\\site-packages (from requests-ntlm>=1.1.0->qiskit-ibm-experiment>=0.4.6->qiskit_experiments==0.7.0) (44.0.1)\n",
      "Requirement already satisfied: pyspnego>=0.4.0 in c:\\users\\gaming\\appdata\\local\\programs\\python\\python312\\lib\\site-packages (from requests-ntlm>=1.1.0->qiskit-ibm-experiment>=0.4.6->qiskit_experiments==0.7.0) (0.11.2)\n",
      "Requirement already satisfied: pbr>=2.0.0 in c:\\users\\gaming\\appdata\\local\\programs\\python\\python312\\lib\\site-packages (from stevedore>=3.0.0->qiskit>=0.45->qiskit_experiments==0.7.0) (6.1.1)\n",
      "Requirement already satisfied: mpmath<1.4,>=1.1.0 in c:\\users\\gaming\\appdata\\local\\programs\\python\\python312\\lib\\site-packages (from sympy>=1.3->qiskit>=0.45->qiskit_experiments==0.7.0) (1.3.0)\n",
      "Requirement already satisfied: cffi>=1.12 in c:\\users\\gaming\\appdata\\local\\programs\\python\\python312\\lib\\site-packages (from cryptography>=1.3->requests-ntlm>=1.1.0->qiskit-ibm-experiment>=0.4.6->qiskit_experiments==0.7.0) (1.17.1)\n",
      "Requirement already satisfied: setuptools in c:\\users\\gaming\\appdata\\local\\programs\\python\\python312\\lib\\site-packages (from pbr>=2.0.0->stevedore>=3.0.0->qiskit>=0.45->qiskit_experiments==0.7.0) (75.8.0)\n",
      "Requirement already satisfied: sspilib>=0.1.0 in c:\\users\\gaming\\appdata\\local\\programs\\python\\python312\\lib\\site-packages (from pyspnego>=0.4.0->requests-ntlm>=1.1.0->qiskit-ibm-experiment>=0.4.6->qiskit_experiments==0.7.0) (0.2.0)\n",
      "Requirement already satisfied: pycparser in c:\\users\\gaming\\appdata\\local\\programs\\python\\python312\\lib\\site-packages (from cffi>=1.12->cryptography>=1.3->requests-ntlm>=1.1.0->qiskit-ibm-experiment>=0.4.6->qiskit_experiments==0.7.0) (2.22)\n"
     ]
    },
    {
     "name": "stderr",
     "output_type": "stream",
     "text": [
      "\n",
      "[notice] A new release of pip is available: 24.2 -> 25.0.1\n",
      "[notice] To update, run: python.exe -m pip install --upgrade pip\n"
     ]
    },
    {
     "name": "stdout",
     "output_type": "stream",
     "text": [
      "Requirement already satisfied: matplotlib==3.8.4 in c:\\users\\gaming\\appdata\\local\\programs\\python\\python312\\lib\\site-packages (3.8.4)"
     ]
    },
    {
     "name": "stderr",
     "output_type": "stream",
     "text": [
      "\n",
      "[notice] A new release of pip is available: 24.2 -> 25.0.1\n",
      "[notice] To update, run: python.exe -m pip install --upgrade pip\n"
     ]
    },
    {
     "name": "stdout",
     "output_type": "stream",
     "text": [
      "\n",
      "Requirement already satisfied: contourpy>=1.0.1 in c:\\users\\gaming\\appdata\\local\\programs\\python\\python312\\lib\\site-packages (from matplotlib==3.8.4) (1.3.1)\n",
      "Requirement already satisfied: cycler>=0.10 in c:\\users\\gaming\\appdata\\local\\programs\\python\\python312\\lib\\site-packages (from matplotlib==3.8.4) (0.12.1)\n",
      "Requirement already satisfied: fonttools>=4.22.0 in c:\\users\\gaming\\appdata\\local\\programs\\python\\python312\\lib\\site-packages (from matplotlib==3.8.4) (4.56.0)\n",
      "Requirement already satisfied: kiwisolver>=1.3.1 in c:\\users\\gaming\\appdata\\local\\programs\\python\\python312\\lib\\site-packages (from matplotlib==3.8.4) (1.4.8)\n",
      "Requirement already satisfied: numpy>=1.21 in c:\\users\\gaming\\appdata\\local\\programs\\python\\python312\\lib\\site-packages (from matplotlib==3.8.4) (2.2.3)\n",
      "Requirement already satisfied: packaging>=20.0 in c:\\users\\gaming\\appdata\\roaming\\python\\python312\\site-packages (from matplotlib==3.8.4) (24.2)\n",
      "Requirement already satisfied: pillow>=8 in c:\\users\\gaming\\appdata\\local\\programs\\python\\python312\\lib\\site-packages (from matplotlib==3.8.4) (11.1.0)\n",
      "Requirement already satisfied: pyparsing>=2.3.1 in c:\\users\\gaming\\appdata\\local\\programs\\python\\python312\\lib\\site-packages (from matplotlib==3.8.4) (3.2.1)\n",
      "Requirement already satisfied: python-dateutil>=2.7 in c:\\users\\gaming\\appdata\\roaming\\python\\python312\\site-packages (from matplotlib==3.8.4) (2.9.0.post0)\n",
      "Requirement already satisfied: six>=1.5 in c:\\users\\gaming\\appdata\\roaming\\python\\python312\\site-packages (from python-dateutil>=2.7->matplotlib==3.8.4) (1.17.0)\n",
      "Requirement already satisfied: pylatexenc==2.10 in c:\\users\\gaming\\appdata\\local\\programs\\python\\python312\\lib\\site-packages (2.10)\n"
     ]
    },
    {
     "name": "stderr",
     "output_type": "stream",
     "text": [
      "\n",
      "[notice] A new release of pip is available: 24.2 -> 25.0.1\n",
      "[notice] To update, run: python.exe -m pip install --upgrade pip\n"
     ]
    },
    {
     "name": "stdout",
     "output_type": "stream",
     "text": [
      "Requirement already satisfied: seaborn==0.13.2 in c:\\users\\gaming\\appdata\\local\\programs\\python\\python312\\lib\\site-packages (0.13.2)"
     ]
    },
    {
     "name": "stderr",
     "output_type": "stream",
     "text": [
      "\n",
      "[notice] A new release of pip is available: 24.2 -> 25.0.1\n",
      "[notice] To update, run: python.exe -m pip install --upgrade pip\n"
     ]
    },
    {
     "name": "stdout",
     "output_type": "stream",
     "text": [
      "\n",
      "Requirement already satisfied: numpy!=1.24.0,>=1.20 in c:\\users\\gaming\\appdata\\local\\programs\\python\\python312\\lib\\site-packages (from seaborn==0.13.2) (2.2.3)\n",
      "Requirement already satisfied: pandas>=1.2 in c:\\users\\gaming\\appdata\\local\\programs\\python\\python312\\lib\\site-packages (from seaborn==0.13.2) (2.2.3)\n",
      "Requirement already satisfied: matplotlib!=3.6.1,>=3.4 in c:\\users\\gaming\\appdata\\local\\programs\\python\\python312\\lib\\site-packages (from seaborn==0.13.2) (3.8.4)\n",
      "Requirement already satisfied: contourpy>=1.0.1 in c:\\users\\gaming\\appdata\\local\\programs\\python\\python312\\lib\\site-packages (from matplotlib!=3.6.1,>=3.4->seaborn==0.13.2) (1.3.1)\n",
      "Requirement already satisfied: cycler>=0.10 in c:\\users\\gaming\\appdata\\local\\programs\\python\\python312\\lib\\site-packages (from matplotlib!=3.6.1,>=3.4->seaborn==0.13.2) (0.12.1)\n",
      "Requirement already satisfied: fonttools>=4.22.0 in c:\\users\\gaming\\appdata\\local\\programs\\python\\python312\\lib\\site-packages (from matplotlib!=3.6.1,>=3.4->seaborn==0.13.2) (4.56.0)\n",
      "Requirement already satisfied: kiwisolver>=1.3.1 in c:\\users\\gaming\\appdata\\local\\programs\\python\\python312\\lib\\site-packages (from matplotlib!=3.6.1,>=3.4->seaborn==0.13.2) (1.4.8)\n",
      "Requirement already satisfied: packaging>=20.0 in c:\\users\\gaming\\appdata\\roaming\\python\\python312\\site-packages (from matplotlib!=3.6.1,>=3.4->seaborn==0.13.2) (24.2)\n",
      "Requirement already satisfied: pillow>=8 in c:\\users\\gaming\\appdata\\local\\programs\\python\\python312\\lib\\site-packages (from matplotlib!=3.6.1,>=3.4->seaborn==0.13.2) (11.1.0)\n",
      "Requirement already satisfied: pyparsing>=2.3.1 in c:\\users\\gaming\\appdata\\local\\programs\\python\\python312\\lib\\site-packages (from matplotlib!=3.6.1,>=3.4->seaborn==0.13.2) (3.2.1)\n",
      "Requirement already satisfied: python-dateutil>=2.7 in c:\\users\\gaming\\appdata\\roaming\\python\\python312\\site-packages (from matplotlib!=3.6.1,>=3.4->seaborn==0.13.2) (2.9.0.post0)\n",
      "Requirement already satisfied: pytz>=2020.1 in c:\\users\\gaming\\appdata\\local\\programs\\python\\python312\\lib\\site-packages (from pandas>=1.2->seaborn==0.13.2) (2025.1)\n",
      "Requirement already satisfied: tzdata>=2022.7 in c:\\users\\gaming\\appdata\\local\\programs\\python\\python312\\lib\\site-packages (from pandas>=1.2->seaborn==0.13.2) (2025.1)\n",
      "Requirement already satisfied: six>=1.5 in c:\\users\\gaming\\appdata\\roaming\\python\\python312\\site-packages (from python-dateutil>=2.7->matplotlib!=3.6.1,>=3.4->seaborn==0.13.2) (1.17.0)\n"
     ]
    }
   ],
   "source": [
    "!pip install qiskit-aer==0.14.2\n",
    "!pip install qiskit==1.1.1\n",
    "!pip install qiskit-ibm-runtime==0.26.0\n",
    "!pip install qiskit_experiments==0.7.0\n",
    "!pip install matplotlib==3.8.4\n",
    "!pip install pylatexenc==2.10\n",
    "!pip install seaborn==0.13.2"
   ]
  },
  {
   "cell_type": "code",
   "execution_count": 2,
   "metadata": {
    "id": "BumUdj7PjEWu"
   },
   "outputs": [],
   "source": [
    "from qiskit import QuantumCircuit, transpile, QuantumRegister\n",
    "from qiskit.providers.basic_provider import BasicSimulator\n",
    "from qiskit_aer import AerSimulator\n",
    "from qiskit_experiments.library import ProcessTomography\n",
    "from qiskit.visualization import plot_bloch_multivector, plot_state_city, array_to_latex\n",
    "from qiskit.quantum_info import partial_trace, Statevector, DensityMatrix, Operator"
   ]
  },
  {
   "cell_type": "markdown",
   "metadata": {
    "id": "iP4y3NASmuiT"
   },
   "source": [
    "Examples"
   ]
  },
  {
   "cell_type": "code",
   "execution_count": 3,
   "metadata": {
    "colab": {
     "base_uri": "https://localhost:8080/",
     "height": 191
    },
    "id": "fRrhDUCRmwoE",
    "outputId": "40601e3d-8436-4555-f4d7-a45c163c3110"
   },
   "outputs": [
    {
     "data": {
      "image/png": "[encoded data removed]",
      "text/plain": [
       "<Figure size 287.294x200.667 with 1 Axes>"
      ]
     },
     "execution_count": 3,
     "metadata": {},
     "output_type": "execute_result"
    }
   ],
   "source": [
    "# Create a new circuit with two qubits\n",
    "qc = QuantumCircuit(2)\n",
    "\n",
    "# Add a Hadamard gate to qubit 0\n",
    "qc.h(0)\n",
    "\n",
    "# Perform a controlled-X gate on qubit 1, controlled by qubit 0\n",
    "qc.cx(0, 1)\n",
    "\n",
    "# Return a drawing of the circuit using MatPlotLib (\"mpl\"). This is the\n",
    "# last line of the cell, so the drawing appears in the cell output.\n",
    "# Remove the \"mpl\" argument to get a text drawing.\n",
    "qc.draw(\"mpl\")"
   ]
  },
  {
   "cell_type": "code",
   "execution_count": 4,
   "metadata": {
    "colab": {
     "base_uri": "https://localhost:8080/",
     "height": 255
    },
    "id": "BatITfwuya15",
    "outputId": "72702207-bbb1-45ef-8a08-97f8fda65075"
   },
   "outputs": [
    {
     "data": {
      "image/png": "[encoded data removed]",
      "text/plain": [
       "<Figure size 221.914x284.278 with 1 Axes>"
      ]
     },
     "execution_count": 4,
     "metadata": {},
     "output_type": "execute_result"
    }
   ],
   "source": [
    "%matplotlib inline\n",
    "from qiskit.circuit import Register, ClassicalRegister\n",
    "\n",
    "qr=QuantumRegister(2)\n",
    "cr=ClassicalRegister(2)\n",
    "circuit=QuantumCircuit(qr,cr)\n",
    "circuit.draw()\n",
    "circuit.h(qr[0])\n",
    "circuit.draw(output='mpl')"
   ]
  },
  {
   "cell_type": "code",
   "execution_count": 5,
   "metadata": {
    "colab": {
     "base_uri": "https://localhost:8080/",
     "height": 125
    },
    "id": "ZKy95smlycoE",
    "outputId": "61fa33f7-823a-4f15-881e-429d2eb5b62e"
   },
   "outputs": [
    {
     "data": {
      "text/html": [
       "<pre style=\"word-wrap: normal;white-space: pre;background: #fff0;line-height: 1.1;font-family: &quot;Courier New&quot;,Courier,monospace\">      ┌───┐     ┌─┐   \n",
       "q1_0: ┤ H ├──■──┤M├───\n",
       "      └───┘┌─┴─┐└╥┘┌─┐\n",
       "q1_1: ─────┤ X ├─╫─┤M├\n",
       "           └───┘ ║ └╥┘\n",
       "c0: 2/═══════════╩══╩═\n",
       "                 0  1 </pre>"
      ],
      "text/plain": [
       "      ┌───┐     ┌─┐   \n",
       "q1_0: ┤ H ├──■──┤M├───\n",
       "      └───┘┌─┴─┐└╥┘┌─┐\n",
       "q1_1: ─────┤ X ├─╫─┤M├\n",
       "           └───┘ ║ └╥┘\n",
       "c0: 2/═══════════╩══╩═\n",
       "                 0  1 "
      ]
     },
     "execution_count": 5,
     "metadata": {},
     "output_type": "execute_result"
    }
   ],
   "source": [
    "circuit.cx(qr[0],qr[1])\n",
    "circuit.measure(qr,cr)\n",
    "circuit.draw()"
   ]
  },
  {
   "cell_type": "code",
   "execution_count": 6,
   "metadata": {
    "colab": {
     "base_uri": "https://localhost:8080/",
     "height": 255
    },
    "id": "Vyt71sBlyexR",
    "outputId": "6155eaa3-d715-4925-ebc8-1810ea95e119"
   },
   "outputs": [
    {
     "data": {
      "image/png": "[encoded data removed]",
      "text/plain": [
       "<Figure size 723.581x284.278 with 1 Axes>"
      ]
     },
     "execution_count": 6,
     "metadata": {},
     "output_type": "execute_result"
    }
   ],
   "source": [
    "circuit.cx(qr[0],qr[1])\n",
    "circuit.measure(qr,cr)\n",
    "circuit.draw()\n",
    "circuit.draw(output='mpl')\n"
   ]
  },
  {
   "cell_type": "markdown",
   "metadata": {
    "id": "uz9ebC2wontv"
   },
   "source": [
    "LEZ. 11/12\n"
   ]
  },
  {
   "cell_type": "markdown",
   "metadata": {},
   "source": [
    "Stato noto e caratterizziamo il processo, e tramite state tomography valutiamo cosa è successo.\n",
    "\n",
    "Processo ignoto che voglio caratterizzare e fare poi state tomography (ricostruirlo tramite serie di misure) usando degli stati di ingresso fissati (ripetiamo n volte per ottenere n setup di misura e n possibili stati di input)\n",
    "\n",
    "La process tomography è un insieme di state tomography (con il quale cerchiamo di inferire un comportamento), dove l'output è una Choi Matrix.\n",
    "Il risultato viene poi confrontato con il risultato che ci aspettiamo di ottenere (quando possibile ovviamente) e la fidelity ci permette di valutare la distanza del process noto con quello ottenuto sperimentalmente"
   ]
  },
  {
   "cell_type": "markdown",
   "metadata": {},
   "source": [
    "\"Processo ignoto che voglio caratterizzare e fare poi state tomography (ricostruirlo tramite serie di misure) usando stati di ingresso fissati (ripetiamo n volte per ottenere n setup di misura e n possibili stati di input)\":\n",
    "\n",
    "Immagina di avere una scatola nera, il cui funzionamento interno non ti è noto. Questa scatola rappresenta un processo ignoto, ovvero una trasformazione che il tuo sistema quantistico subisce, ma che tu non conosci. Il tuo obiettivo è capire cosa succede dentro questa scatola, ovvero caratterizzare il processo.\n",
    "\n",
    "Per farlo, utilizzi una tecnica chiamata tomografia di processo. Questa tecnica prevede di \"interrogare\" la scatola nera con diverse \"domande\" e osservare le \"risposte\".\n",
    "\n",
    "Le \"domande\" sono rappresentate da stati di ingresso fissati, ovvero stati quantistici che tu prepari e invii alla scatola nera. Immagina di avere un numero di stati di ingresso diversi, che chiami ad esempio |0⟩, |1⟩, |+⟩, |−⟩.\n",
    "\n",
    "Le \"risposte\" sono gli stati quantistici che emergono dalla scatola nera dopo aver subito la trasformazione del processo ignoto. Questi stati di uscita dipenderanno sia dallo stato di ingresso che dal processo stesso.\n",
    "\n",
    "Per ottenere informazioni sul processo, devi ripetere questo esperimento più volte, utilizzando ogni volta uno stato di ingresso diverso. Ripetiamo n volte per ottenere n setup di misura e n possibili stati di input. Questo significa che prepari n copie del tuo sistema quantistico, le prepari in n stati di ingresso diversi, e le invii una alla volta alla scatola nera.\n",
    "\n",
    "Per ogni stato di ingresso, misuri lo stato di uscita del sistema quantistico. Questa misura ti fornisce alcune informazioni sul processo.\n",
    "\n",
    "Raccolti tutti i risultati delle misure, utilizzi una tecnica matematica per ricostruire la mappa di Kraus del processo ignoto. La mappa di Kraus è una descrizione matematica completa del processo, che ti permette di capire come il processo trasforma qualsiasi stato quantistico.\n",
    "\n",
    "Una volta che hai la mappa di Kraus, puoi utilizzare la tomografia di stato per capire come il processo trasforma uno stato quantistico specifico. In altre parole, puoi prendere uno stato quantistico di tuo interesse, applicare il processo (utilizzando la mappa di Kraus) e ottenere lo stato di uscita."
   ]
  },
  {
   "cell_type": "markdown",
   "metadata": {},
   "source": [
    "\"La process tomography è un insieme di state tomography (con il quale cerchiamo di inferire un comportamento), dove l'output è una Choi Matrix.\"\n",
    "\n",
    "Stati di input: Prepariamo diversi stati quantistici di input, ad esempio |0⟩, |1⟩, |+⟩, |−⟩.\n",
    "Processo incognito: Questi stati vengono \"inviati\" al processo che vogliamo caratterizzare (la \"scatola nera\").\n",
    "Stati di output: Il processo trasforma gli stati di input in stati di output.\n",
    "Tomografia di stato: Eseguiamo una tomografia di stato su ciascuno stato di output per ricostruirne la matrice di densità.\n",
    "Raccolta dati: Raccogliamo i risultati di tutte le tomografie di stato.\n",
    "Ricostruzione del processo: Utilizziamo questi dati per ricostruire la rappresentazione matematica completa del processo, che è la Choi matrix."
   ]
  },
  {
   "cell_type": "code",
   "execution_count": 7,
   "metadata": {
    "colab": {
     "base_uri": "https://localhost:8080/",
     "height": 127
    },
    "id": "cfdRKy3BocX9",
    "outputId": "80191bf0-5d5c-47c8-903a-25394998e5da"
   },
   "outputs": [
    {
     "data": {
      "image/png": "[encoded data removed]",
      "text/plain": [
       "<Figure size 185.453x117.056 with 1 Axes>"
      ]
     },
     "execution_count": 7,
     "metadata": {},
     "output_type": "execute_result"
    }
   ],
   "source": [
    "# modello porta di Hadamard\n",
    "\n",
    "q = QuantumRegister(1, 'q')\n",
    "circuit = QuantumCircuit(q)\n",
    "\n",
    "circuit.h(q[0])\n",
    "\n",
    "circuit.draw(output=\"mpl\")"
   ]
  },
  {
   "cell_type": "markdown",
   "metadata": {
    "id": "EHuEgd7eo8Z3"
   },
   "source": [
    "Classe Operator, prende ingresso array (come l'intero circuito) e restituisce porta corrispondente"
   ]
  },
  {
   "cell_type": "code",
   "execution_count": 8,
   "metadata": {
    "colab": {
     "base_uri": "https://localhost:8080/",
     "height": 68
    },
    "id": "SpSVuRFzpDq2",
    "outputId": "faa10ef3-b234-4268-b842-fd4f3923f98d"
   },
   "outputs": [
    {
     "data": {
      "text/latex": [
       "$$\n",
       "\n",
       "\\begin{bmatrix}\n",
       "\\frac{\\sqrt{2}}{2} & \\frac{\\sqrt{2}}{2}  \\\\\n",
       " \\frac{\\sqrt{2}}{2} & - \\frac{\\sqrt{2}}{2}  \\\\\n",
       " \\end{bmatrix}\n",
       "$$"
      ],
      "text/plain": [
       "<IPython.core.display.Latex object>"
      ]
     },
     "execution_count": 8,
     "metadata": {},
     "output_type": "execute_result"
    }
   ],
   "source": [
    "target_unitary = Operator(circuit)\n",
    "array_to_latex(target_unitary)"
   ]
  },
  {
   "cell_type": "code",
   "execution_count": 9,
   "metadata": {
    "colab": {
     "base_uri": "https://localhost:8080/",
     "height": 52
    },
    "id": "hB1kAl1vqW_c",
    "outputId": "3b70919a-bcb6-4321-90f3-4ff2cae78484"
   },
   "outputs": [
    {
     "name": "stdout",
     "output_type": "stream",
     "text": [
      "CircuitInstruction(operation=Instruction(name='h', num_qubits=1, num_clbits=0, params=[]), qubits=(Qubit(QuantumRegister(1, 'q'), 0),), clbits=())\n"
     ]
    },
    {
     "data": {
      "text/plain": [
       "CircuitInstruction(operation=Instruction(name='h', num_qubits=1, num_clbits=0, params=[]), qubits=(Qubit(QuantumRegister(1, 'q'), 0),), clbits=())"
      ]
     },
     "metadata": {},
     "output_type": "display_data"
    }
   ],
   "source": [
    "sim = AerSimulator()\n",
    "\n",
    "circuit_tomo = ProcessTomography(circuit, sim)\n",
    "\n",
    "for circ in circuit:\n",
    "  print(circ)\n",
    "  display(circ)"
   ]
  },
  {
   "cell_type": "markdown",
   "metadata": {
    "id": "iiQdJaK0rPpu"
   },
   "source": [
    "Ma fino ad adesso non abbiamo ancora eseguito nulla, abbiamo solo visto cosa c'è dentro"
   ]
  },
  {
   "cell_type": "code",
   "execution_count": 10,
   "metadata": {
    "colab": {
     "base_uri": "https://localhost:8080/"
    },
    "id": "ERG5YemqrY0N",
    "outputId": "31754adf-ae7c-42c1-f3fb-49575e12293f"
   },
   "outputs": [
    {
     "name": "stdout",
     "output_type": "stream",
     "text": [
      "[{'counts': {'1': 9, '0': 1}, 'job_id': 'fdba9ae1-ff18-4dec-b421-1e68a0e9150c', 'metadata': {'clbits': [0], 'cond_clbits': None, 'm_idx': [0], 'p_idx': [0]}, 'shots': 10, 'meas_level': <MeasLevel.CLASSIFIED: 2>}, {'counts': {'0': 10}, 'job_id': 'fdba9ae1-ff18-4dec-b421-1e68a0e9150c', 'metadata': {'clbits': [0], 'cond_clbits': None, 'm_idx': [1], 'p_idx': [0]}, 'shots': 10, 'meas_level': <MeasLevel.CLASSIFIED: 2>}, {'counts': {'1': 5, '0': 5}, 'job_id': 'fdba9ae1-ff18-4dec-b421-1e68a0e9150c', 'metadata': {'clbits': [0], 'cond_clbits': None, 'm_idx': [2], 'p_idx': [0]}, 'shots': 10, 'meas_level': <MeasLevel.CLASSIFIED: 2>}, {'counts': {'1': 7, '0': 3}, 'job_id': 'fdba9ae1-ff18-4dec-b421-1e68a0e9150c', 'metadata': {'clbits': [0], 'cond_clbits': None, 'm_idx': [0], 'p_idx': [1]}, 'shots': 10, 'meas_level': <MeasLevel.CLASSIFIED: 2>}, {'counts': {'1': 10}, 'job_id': 'fdba9ae1-ff18-4dec-b421-1e68a0e9150c', 'metadata': {'clbits': [0], 'cond_clbits': None, 'm_idx': [1], 'p_idx': [1]}, 'shots': 10, 'meas_level': <MeasLevel.CLASSIFIED: 2>}, {'counts': {'1': 4, '0': 6}, 'job_id': 'fdba9ae1-ff18-4dec-b421-1e68a0e9150c', 'metadata': {'clbits': [0], 'cond_clbits': None, 'm_idx': [2], 'p_idx': [1]}, 'shots': 10, 'meas_level': <MeasLevel.CLASSIFIED: 2>}, {'counts': {'0': 10}, 'job_id': 'fdba9ae1-ff18-4dec-b421-1e68a0e9150c', 'metadata': {'clbits': [0], 'cond_clbits': None, 'm_idx': [0], 'p_idx': [2]}, 'shots': 10, 'meas_level': <MeasLevel.CLASSIFIED: 2>}, {'counts': {'1': 5, '0': 5}, 'job_id': 'fdba9ae1-ff18-4dec-b421-1e68a0e9150c', 'metadata': {'clbits': [0], 'cond_clbits': None, 'm_idx': [1], 'p_idx': [2]}, 'shots': 10, 'meas_level': <MeasLevel.CLASSIFIED: 2>}, {'counts': {'1': 5, '0': 5}, 'job_id': 'fdba9ae1-ff18-4dec-b421-1e68a0e9150c', 'metadata': {'clbits': [0], 'cond_clbits': None, 'm_idx': [2], 'p_idx': [2]}, 'shots': 10, 'meas_level': <MeasLevel.CLASSIFIED: 2>}, {'counts': {'1': 6, '0': 4}, 'job_id': 'fdba9ae1-ff18-4dec-b421-1e68a0e9150c', 'metadata': {'clbits': [0], 'cond_clbits': None, 'm_idx': [0], 'p_idx': [3]}, 'shots': 10, 'meas_level': <MeasLevel.CLASSIFIED: 2>}, {'counts': {'1': 5, '0': 5}, 'job_id': 'fdba9ae1-ff18-4dec-b421-1e68a0e9150c', 'metadata': {'clbits': [0], 'cond_clbits': None, 'm_idx': [1], 'p_idx': [3]}, 'shots': 10, 'meas_level': <MeasLevel.CLASSIFIED: 2>}, {'counts': {'1': 10}, 'job_id': 'fdba9ae1-ff18-4dec-b421-1e68a0e9150c', 'metadata': {'clbits': [0], 'cond_clbits': None, 'm_idx': [2], 'p_idx': [3]}, 'shots': 10, 'meas_level': <MeasLevel.CLASSIFIED: 2>}]\n"
     ]
    }
   ],
   "source": [
    "res = circuit_tomo.run(sim, shots=10) # shot = num esperimenti\n",
    "print(res.data())"
   ]
  },
  {
   "cell_type": "code",
   "execution_count": 11,
   "metadata": {
    "colab": {
     "base_uri": "https://localhost:8080/",
     "height": 98
    },
    "id": "nLkJblN6r0DS",
    "outputId": "8872a191-4441-49b0-b132-3061b5d7e012"
   },
   "outputs": [
    {
     "data": {
      "text/latex": [
       "$$\n",
       "\n",
       "\\begin{bmatrix}\n",
       "0.3313653362 & 0.4799255762 - 0.0028379103 i & 0.3574486931 + 0.0153963522 i & -0.4354339058 - 0.0705816667 i  \\\\\n",
       " 0.4799255762 + 0.0028379103 i & 0.6951137833 & 0.5175709642 + 0.0253602584 i & -0.6300464802 - 0.1059545632 i  \\\\\n",
       " 0.3574486931 - 0.0153963522 i & 0.5175709642 - 0.0253602584 i & 0.3863005628 & -0.4729884621 - 0.0559057594 i  \\\\\n",
       " -0.4354339058 + 0.0705816667 i & -0.6300464802 + 0.1059545632 i & -0.4729884621 + 0.0559057594 i & 0.5872203178  \\\\\n",
       " \\end{bmatrix}\n",
       "$$"
      ],
      "text/plain": [
       "<IPython.core.display.Latex object>"
      ]
     },
     "execution_count": 11,
     "metadata": {},
     "output_type": "execute_result"
    }
   ],
   "source": [
    "experimental_res =  res.analysis_results(\"state\").value\n",
    "array_to_latex(experimental_res)"
   ]
  },
  {
   "cell_type": "markdown",
   "metadata": {
    "id": "RZzPZMK6sSZb"
   },
   "source": [
    "Ora valuto la process fidelity (sui ps per Qiskit è la fidelity applicata sulle Choi matrix invece di usare le Ro)"
   ]
  },
  {
   "cell_type": "code",
   "execution_count": 12,
   "metadata": {
    "colab": {
     "base_uri": "https://localhost:8080/"
    },
    "id": "M5tNus8LsU3L",
    "outputId": "4f222dd3-c834-4ec9-f916-d41d0d32232b"
   },
   "outputs": [
    {
     "name": "stderr",
     "output_type": "stream",
     "text": [
      "Target channel is not TP. Tr_2[Choi] - I has non-zero eigenvalues: [-0.28846401  0.28846401]\n"
     ]
    },
    {
     "name": "stdout",
     "output_type": "stream",
     "text": [
      "Process fidelity: 0.9733535204140862\n"
     ]
    }
   ],
   "source": [
    "from qiskit.quantum_info import process_fidelity, Choi\n",
    "\n",
    "choi_unitary = Choi(circuit)\n",
    "\n",
    "fid = process_fidelity(choi_unitary, experimental_res)\n",
    "\n",
    "print(f\"Process fidelity: {fid}\")"
   ]
  },
  {
   "cell_type": "markdown",
   "metadata": {
    "id": "JKT641jMt3JJ"
   },
   "source": [
    "Simulazione con RUMORE"
   ]
  },
  {
   "cell_type": "code",
   "execution_count": 13,
   "metadata": {
    "colab": {
     "base_uri": "https://localhost:8080/",
     "height": 384
    },
    "id": "cWwAuqp4t4-Z",
    "outputId": "f1c94f1b-f258-4c7d-c8dc-c30fc28363e9"
   },
   "outputs": [
    {
     "ename": "ModuleNotFoundError",
     "evalue": "No module named 'qiskit._ibm_runtime'",
     "output_type": "error",
     "traceback": [
      "\u001b[1;31m---------------------------------------------------------------------------\u001b[0m",
      "\u001b[1;31mModuleNotFoundError\u001b[0m                       Traceback (most recent call last)",
      "Cell \u001b[1;32mIn[13], line 1\u001b[0m\n\u001b[1;32m----> 1\u001b[0m \u001b[38;5;28;01mfrom\u001b[39;00m\u001b[38;5;250m \u001b[39m\u001b[38;5;21;01mqiskit\u001b[39;00m\u001b[38;5;21;01m.\u001b[39;00m\u001b[38;5;21;01m_ibm_runtime\u001b[39;00m\u001b[38;5;21;01m.\u001b[39;00m\u001b[38;5;21;01mfake_provider\u001b[39;00m\u001b[38;5;250m \u001b[39m\u001b[38;5;28;01mimport\u001b[39;00m FakeManilaN2, FakeNairobiN2\n\u001b[0;32m      3\u001b[0m \u001b[38;5;66;03m# fake_backend = FakeNairobiN2()\u001b[39;00m\n\u001b[0;32m      5\u001b[0m fake_backend \u001b[38;5;241m=\u001b[39m FakeManilaN2()\n",
      "\u001b[1;31mModuleNotFoundError\u001b[0m: No module named 'qiskit._ibm_runtime'"
     ]
    }
   ],
   "source": [
    "from qiskit._ibm_runtime.fake_provider import FakeManilaN2, FakeNairobiN2\n",
    "\n",
    "# fake_backend = FakeNairobiN2()\n",
    "\n",
    "fake_backend = FakeManilaN2()\n",
    "\n",
    "res_noise = circuit_tomo.run(fake_backend, shots=10)"
   ]
  },
  {
   "cell_type": "markdown",
   "metadata": {
    "id": "1V8Cblldu6Ss"
   },
   "source": [
    "Gli stabilizer vengono usati anche per la state tomography, dato che quest'ultima non scala facilmente con il numero di qubit"
   ]
  },
  {
   "cell_type": "markdown",
   "metadata": {
    "id": "HFVMR9T5xIV8"
   },
   "source": [
    "ESECUZIONE IN CLOUD (verrà condiviso il codice)\n",
    "\n",
    "qui il backend non sarà più un simulatore ma un backend reale, e non viene eseguito il circuito direttamente ma viene schedulato lo Job (che può anche essere visto dalla piattaforma di IBM).\n",
    "Ci verrà restituito un array [risultato, metadati...]"
   ]
  }
 ],
 "metadata": {
  "colab": {
   "provenance": []
  },
  "kernelspec": {
   "display_name": "Python 3",
   "name": "python3"
  },
  "language_info": {
   "codemirror_mode": {
    "name": "ipython",
    "version": 3
   },
   "file_extension": ".py",
   "mimetype": "text/x-python",
   "name": "python",
   "nbconvert_exporter": "python",
   "pygments_lexer": "ipython3",
   "version": "3.12.4"
  }
 },
 "nbformat": 4,
 "nbformat_minor": 0
}

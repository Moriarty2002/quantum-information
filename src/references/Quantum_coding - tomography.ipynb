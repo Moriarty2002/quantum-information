{
 "cells": [
  {
   "cell_type": "markdown",
   "metadata": {
    "id": "j4QY3sxxjEtt"
   },
   "source": [
    "Libs"
   ]
  },
  {
   "cell_type": "code",
   "execution_count": null,
   "metadata": {
    "colab": {
     "base_uri": "https://localhost:8080/"
    },
    "collapsed": true,
    "id": "Isy43Wcah7EF",
    "outputId": "7b82af52-715c-4133-942d-413fe97cea3b"
   },
   "outputs": [],
   "source": [
    "!pip install qiskit-aer==0.14.2\n",
    "!pip install qiskit==1.1.1\n",
    "!pip install qiskit-ibm-runtime==0.26.0\n",
    "!pip install qiskit_experiments==0.7.0\n",
    "!pip install matplotlib==3.8.4\n",
    "!pip install pylatexenc==2.10\n",
    "!pip install seaborn==0.13.2"
   ]
  },
  {
   "cell_type": "code",
   "execution_count": null,
   "metadata": {
    "id": "BumUdj7PjEWu"
   },
   "outputs": [],
   "source": [
    "from qiskit import QuantumCircuit, transpile, QuantumRegister\n",
    "from qiskit.providers.basic_provider import BasicSimulator\n",
    "from qiskit_aer import AerSimulator\n",
    "from qiskit_experiments.library import ProcessTomography\n",
    "from qiskit.visualization import plot_bloch_multivector, plot_state_city, array_to_latex\n",
    "from qiskit.quantum_info import partial_trace, Statevector, DensityMatrix, Operator"
   ]
  },
  {
   "cell_type": "markdown",
   "metadata": {
    "id": "iP4y3NASmuiT"
   },
   "source": [
    "Examples"
   ]
  },
  {
   "cell_type": "code",
   "execution_count": null,
   "metadata": {
    "colab": {
     "base_uri": "https://localhost:8080/",
     "height": 191
    },
    "id": "fRrhDUCRmwoE",
    "outputId": "40601e3d-8436-4555-f4d7-a45c163c3110"
   },
   "outputs": [],
   "source": [
    "# Create a new circuit with two qubits\n",
    "qc = QuantumCircuit(2)\n",
    "\n",
    "# Add a Hadamard gate to qubit 0\n",
    "qc.h(0)\n",
    "\n",
    "# Perform a controlled-X gate on qubit 1, controlled by qubit 0\n",
    "qc.cx(0, 1)\n",
    "\n",
    "# Return a drawing of the circuit using MatPlotLib (\"mpl\"). This is the\n",
    "# last line of the cell, so the drawing appears in the cell output.\n",
    "# Remove the \"mpl\" argument to get a text drawing.\n",
    "qc.draw(\"mpl\")"
   ]
  },
  {
   "cell_type": "code",
   "execution_count": null,
   "metadata": {
    "colab": {
     "base_uri": "https://localhost:8080/",
     "height": 255
    },
    "id": "BatITfwuya15",
    "outputId": "72702207-bbb1-45ef-8a08-97f8fda65075"
   },
   "outputs": [],
   "source": [
    "%matplotlib inline\n",
    "from qiskit.circuit import Register, ClassicalRegister\n",
    "\n",
    "qr=QuantumRegister(2)\n",
    "cr=ClassicalRegister(2)\n",
    "circuit=QuantumCircuit(qr,cr)\n",
    "circuit.draw()\n",
    "circuit.h(qr[0])\n",
    "circuit.draw(output='mpl')"
   ]
  },
  {
   "cell_type": "code",
   "execution_count": null,
   "metadata": {
    "colab": {
     "base_uri": "https://localhost:8080/",
     "height": 125
    },
    "id": "ZKy95smlycoE",
    "outputId": "61fa33f7-823a-4f15-881e-429d2eb5b62e"
   },
   "outputs": [],
   "source": [
    "circuit.cx(qr[0],qr[1])\n",
    "circuit.measure(qr,cr)\n",
    "circuit.draw()"
   ]
  },
  {
   "cell_type": "code",
   "execution_count": null,
   "metadata": {
    "colab": {
     "base_uri": "https://localhost:8080/",
     "height": 255
    },
    "id": "Vyt71sBlyexR",
    "outputId": "6155eaa3-d715-4925-ebc8-1810ea95e119"
   },
   "outputs": [],
   "source": [
    "circuit.cx(qr[0],qr[1])\n",
    "circuit.measure(qr,cr)\n",
    "circuit.draw()\n",
    "circuit.draw(output='mpl')\n"
   ]
  },
  {
   "cell_type": "markdown",
   "metadata": {
    "id": "uz9ebC2wontv"
   },
   "source": [
    "LEZ. 11/12\n"
   ]
  },
  {
   "cell_type": "markdown",
   "metadata": {},
   "source": [
    "Stato noto e caratterizziamo il processo, e tramite state tomography valutiamo cosa è successo.\n",
    "\n",
    "Processo ignoto che voglio caratterizzare e fare poi state tomography (ricostruirlo tramite serie di misure) usando degli stati di ingresso fissati (ripetiamo n volte per ottenere n setup di misura e n possibili stati di input)\n",
    "\n",
    "La process tomography è un insieme di state tomography (con il quale cerchiamo di inferire un comportamento), dove l'output è una Choi Matrix.\n",
    "Il risultato viene poi confrontato con il risultato che ci aspettiamo di ottenere (quando possibile ovviamente) e la fidelity ci permette di valutare la distanza del process noto con quello ottenuto sperimentalmente"
   ]
  },
  {
   "cell_type": "markdown",
   "metadata": {},
   "source": [
    "\"Processo ignoto che voglio caratterizzare e fare poi state tomography (ricostruirlo tramite serie di misure) usando stati di ingresso fissati (ripetiamo n volte per ottenere n setup di misura e n possibili stati di input)\":\n",
    "\n",
    "Immagina di avere una scatola nera, il cui funzionamento interno non ti è noto. Questa scatola rappresenta un processo ignoto, ovvero una trasformazione che il tuo sistema quantistico subisce, ma che tu non conosci. Il tuo obiettivo è capire cosa succede dentro questa scatola, ovvero caratterizzare il processo.\n",
    "\n",
    "Per farlo, utilizzi una tecnica chiamata tomografia di processo. Questa tecnica prevede di \"interrogare\" la scatola nera con diverse \"domande\" e osservare le \"risposte\".\n",
    "\n",
    "Le \"domande\" sono rappresentate da stati di ingresso fissati, ovvero stati quantistici che tu prepari e invii alla scatola nera. Immagina di avere un numero di stati di ingresso diversi, che chiami ad esempio |0⟩, |1⟩, |+⟩, |−⟩.\n",
    "\n",
    "Le \"risposte\" sono gli stati quantistici che emergono dalla scatola nera dopo aver subito la trasformazione del processo ignoto. Questi stati di uscita dipenderanno sia dallo stato di ingresso che dal processo stesso.\n",
    "\n",
    "Per ottenere informazioni sul processo, devi ripetere questo esperimento più volte, utilizzando ogni volta uno stato di ingresso diverso. Ripetiamo n volte per ottenere n setup di misura e n possibili stati di input. Questo significa che prepari n copie del tuo sistema quantistico, le prepari in n stati di ingresso diversi, e le invii una alla volta alla scatola nera.\n",
    "\n",
    "Per ogni stato di ingresso, misuri lo stato di uscita del sistema quantistico. Questa misura ti fornisce alcune informazioni sul processo.\n",
    "\n",
    "Raccolti tutti i risultati delle misure, utilizzi una tecnica matematica per ricostruire la mappa di Kraus del processo ignoto. La mappa di Kraus è una descrizione matematica completa del processo, che ti permette di capire come il processo trasforma qualsiasi stato quantistico.\n",
    "\n",
    "Una volta che hai la mappa di Kraus, puoi utilizzare la tomografia di stato per capire come il processo trasforma uno stato quantistico specifico. In altre parole, puoi prendere uno stato quantistico di tuo interesse, applicare il processo (utilizzando la mappa di Kraus) e ottenere lo stato di uscita."
   ]
  },
  {
   "cell_type": "markdown",
   "metadata": {},
   "source": [
    "\"La process tomography è un insieme di state tomography (con il quale cerchiamo di inferire un comportamento), dove l'output è una Choi Matrix.\"\n",
    "\n",
    "Stati di input: Prepariamo diversi stati quantistici di input, ad esempio |0⟩, |1⟩, |+⟩, |−⟩.\n",
    "Processo incognito: Questi stati vengono \"inviati\" al processo che vogliamo caratterizzare (la \"scatola nera\").\n",
    "Stati di output: Il processo trasforma gli stati di input in stati di output.\n",
    "Tomografia di stato: Eseguiamo una tomografia di stato su ciascuno stato di output per ricostruirne la matrice di densità.\n",
    "Raccolta dati: Raccogliamo i risultati di tutte le tomografie di stato.\n",
    "Ricostruzione del processo: Utilizziamo questi dati per ricostruire la rappresentazione matematica completa del processo, che è la Choi matrix."
   ]
  },
  {
   "cell_type": "code",
   "execution_count": null,
   "metadata": {
    "colab": {
     "base_uri": "https://localhost:8080/",
     "height": 127
    },
    "id": "cfdRKy3BocX9",
    "outputId": "80191bf0-5d5c-47c8-903a-25394998e5da"
   },
   "outputs": [],
   "source": [
    "# modello porta di Hadamard\n",
    "\n",
    "q = QuantumRegister(1, 'q')\n",
    "circuit = QuantumCircuit(q)\n",
    "\n",
    "circuit.h(q[0])\n",
    "\n",
    "circuit.draw(output=\"mpl\")"
   ]
  },
  {
   "cell_type": "markdown",
   "metadata": {
    "id": "EHuEgd7eo8Z3"
   },
   "source": [
    "Classe Operator, prende ingresso array (come l'intero circuito) e restituisce porta corrispondente"
   ]
  },
  {
   "cell_type": "code",
   "execution_count": null,
   "metadata": {
    "colab": {
     "base_uri": "https://localhost:8080/",
     "height": 68
    },
    "id": "SpSVuRFzpDq2",
    "outputId": "faa10ef3-b234-4268-b842-fd4f3923f98d"
   },
   "outputs": [],
   "source": [
    "target_unitary = Operator(circuit)\n",
    "array_to_latex(target_unitary)"
   ]
  },
  {
   "cell_type": "code",
   "execution_count": null,
   "metadata": {
    "colab": {
     "base_uri": "https://localhost:8080/",
     "height": 52
    },
    "id": "hB1kAl1vqW_c",
    "outputId": "3b70919a-bcb6-4321-90f3-4ff2cae78484"
   },
   "outputs": [],
   "source": [
    "sim = AerSimulator()\n",
    "\n",
    "circuit_tomo = ProcessTomography(circuit, sim)\n",
    "\n",
    "for circ in circuit:\n",
    "  print(circ)\n",
    "  display(circ)"
   ]
  },
  {
   "cell_type": "markdown",
   "metadata": {
    "id": "iiQdJaK0rPpu"
   },
   "source": [
    "Ma fino ad adesso non abbiamo ancora eseguito nulla, abbiamo solo visto cosa c'è dentro"
   ]
  },
  {
   "cell_type": "code",
   "execution_count": null,
   "metadata": {
    "colab": {
     "base_uri": "https://localhost:8080/"
    },
    "id": "ERG5YemqrY0N",
    "outputId": "31754adf-ae7c-42c1-f3fb-49575e12293f"
   },
   "outputs": [],
   "source": [
    "res = circuit_tomo.run(sim, shots=10) # shot = num esperimenti\n",
    "print(res.data())"
   ]
  },
  {
   "cell_type": "code",
   "execution_count": null,
   "metadata": {
    "colab": {
     "base_uri": "https://localhost:8080/",
     "height": 98
    },
    "id": "nLkJblN6r0DS",
    "outputId": "8872a191-4441-49b0-b132-3061b5d7e012"
   },
   "outputs": [],
   "source": [
    "experimental_res =  res.analysis_results(\"state\").value\n",
    "array_to_latex(experimental_res)"
   ]
  },
  {
   "cell_type": "markdown",
   "metadata": {
    "id": "RZzPZMK6sSZb"
   },
   "source": [
    "Ora valuto la process fidelity (sui ps per Qiskit è la fidelity applicata sulle Choi matrix invece di usare le Ro)"
   ]
  },
  {
   "cell_type": "code",
   "execution_count": null,
   "metadata": {
    "colab": {
     "base_uri": "https://localhost:8080/"
    },
    "id": "M5tNus8LsU3L",
    "outputId": "4f222dd3-c834-4ec9-f916-d41d0d32232b"
   },
   "outputs": [],
   "source": [
    "from qiskit.quantum_info import process_fidelity, Choi\n",
    "\n",
    "choi_unitary = Choi(circuit)\n",
    "\n",
    "fid = process_fidelity(choi_unitary, experimental_res)\n",
    "\n",
    "print(f\"Process fidelity: {fid}\")"
   ]
  },
  {
   "cell_type": "markdown",
   "metadata": {
    "id": "JKT641jMt3JJ"
   },
   "source": [
    "Simulazione con RUMORE"
   ]
  },
  {
   "cell_type": "code",
   "execution_count": null,
   "metadata": {
    "colab": {
     "base_uri": "https://localhost:8080/",
     "height": 384
    },
    "id": "cWwAuqp4t4-Z",
    "outputId": "f1c94f1b-f258-4c7d-c8dc-c30fc28363e9"
   },
   "outputs": [],
   "source": [
    "from qiskit._ibm_runtime.fake_provider import FakeManilaN2, FakeNairobiN2\n",
    "\n",
    "# fake_backend = FakeNairobiN2()\n",
    "\n",
    "fake_backend = FakeManilaN2()\n",
    "\n",
    "res_noise = circuit_tomo.run(fake_backend, shots=10)"
   ]
  },
  {
   "cell_type": "markdown",
   "metadata": {
    "id": "1V8Cblldu6Ss"
   },
   "source": [
    "Gli stabilizer vengono usati anche per la state tomography, dato che quest'ultima non scala facilmente con il numero di qubit"
   ]
  },
  {
   "cell_type": "markdown",
   "metadata": {
    "id": "HFVMR9T5xIV8"
   },
   "source": [
    "ESECUZIONE IN CLOUD (verrà condiviso il codice)\n",
    "\n",
    "qui il backend non sarà più un simulatore ma un backend reale, e non viene eseguito il circuito direttamente ma viene schedulato lo Job (che può anche essere visto dalla piattaforma di IBM).\n",
    "Ci verrà restituito un array [risultato, metadati...]"
   ]
  }
 ],
 "metadata": {
  "colab": {
   "provenance": []
  },
  "kernelspec": {
   "display_name": "Python 3",
   "name": "python3"
  },
  "language_info": {
   "codemirror_mode": {
    "name": "ipython",
    "version": 3
   },
   "file_extension": ".py",
   "mimetype": "text/x-python",
   "name": "python",
   "nbconvert_exporter": "python",
   "pygments_lexer": "ipython3",
   "version": "3.12.4"
  }
 },
 "nbformat": 4,
 "nbformat_minor": 0
}

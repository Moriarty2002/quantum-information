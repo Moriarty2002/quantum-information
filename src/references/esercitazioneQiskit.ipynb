{
  "cells": [
    {
      "cell_type": "code",
      "execution_count": 1,
      "metadata": {
        "colab": {
          "base_uri": "https://localhost:8080/"
        },
        "id": "sowIjN3Y1fWu",
        "outputId": "c73e27bc-c480-494e-c029-ec0985748680"
      },
      "outputs": [
        {
          "name": "stdout",
          "output_type": "stream",
          "text": [
            "Requirement already satisfied: qiskit-aer==0.14.2 in c:\\users\\gaming\\appdata\\local\\programs\\python\\python312\\lib\\site-packages (0.14.2)"
          ]
        },
        {
          "name": "stderr",
          "output_type": "stream",
          "text": [
            "\n",
            "[notice] A new release of pip is available: 24.2 -> 25.0.1\n",
            "[notice] To update, run: python.exe -m pip install --upgrade pip\n"
          ]
        },
        {
          "name": "stdout",
          "output_type": "stream",
          "text": [
            "\n",
            "Requirement already satisfied: qiskit>=0.45.2 in c:\\users\\gaming\\appdata\\local\\programs\\python\\python312\\lib\\site-packages (from qiskit-aer==0.14.2) (1.1.1)\n",
            "Requirement already satisfied: numpy>=1.16.3 in c:\\users\\gaming\\appdata\\local\\programs\\python\\python312\\lib\\site-packages (from qiskit-aer==0.14.2) (2.2.3)\n",
            "Requirement already satisfied: scipy>=1.0 in c:\\users\\gaming\\appdata\\local\\programs\\python\\python312\\lib\\site-packages (from qiskit-aer==0.14.2) (1.15.2)\n",
            "Requirement already satisfied: psutil>=5 in c:\\users\\gaming\\appdata\\roaming\\python\\python312\\site-packages (from qiskit-aer==0.14.2) (7.0.0)\n",
            "Requirement already satisfied: rustworkx>=0.14.0 in c:\\users\\gaming\\appdata\\local\\programs\\python\\python312\\lib\\site-packages (from qiskit>=0.45.2->qiskit-aer==0.14.2) (0.16.0)\n",
            "Requirement already satisfied: sympy>=1.3 in c:\\users\\gaming\\appdata\\local\\programs\\python\\python312\\lib\\site-packages (from qiskit>=0.45.2->qiskit-aer==0.14.2) (1.13.3)\n",
            "Requirement already satisfied: dill>=0.3 in c:\\users\\gaming\\appdata\\local\\programs\\python\\python312\\lib\\site-packages (from qiskit>=0.45.2->qiskit-aer==0.14.2) (0.3.9)\n",
            "Requirement already satisfied: python-dateutil>=2.8.0 in c:\\users\\gaming\\appdata\\roaming\\python\\python312\\site-packages (from qiskit>=0.45.2->qiskit-aer==0.14.2) (2.9.0.post0)\n",
            "Requirement already satisfied: stevedore>=3.0.0 in c:\\users\\gaming\\appdata\\local\\programs\\python\\python312\\lib\\site-packages (from qiskit>=0.45.2->qiskit-aer==0.14.2) (5.4.0)\n",
            "Requirement already satisfied: typing-extensions in c:\\users\\gaming\\appdata\\local\\programs\\python\\python312\\lib\\site-packages (from qiskit>=0.45.2->qiskit-aer==0.14.2) (4.12.2)\n",
            "Requirement already satisfied: symengine>=0.11 in c:\\users\\gaming\\appdata\\local\\programs\\python\\python312\\lib\\site-packages (from qiskit>=0.45.2->qiskit-aer==0.14.2) (0.13.0)\n",
            "Requirement already satisfied: six>=1.5 in c:\\users\\gaming\\appdata\\roaming\\python\\python312\\site-packages (from python-dateutil>=2.8.0->qiskit>=0.45.2->qiskit-aer==0.14.2) (1.17.0)\n",
            "Requirement already satisfied: pbr>=2.0.0 in c:\\users\\gaming\\appdata\\local\\programs\\python\\python312\\lib\\site-packages (from stevedore>=3.0.0->qiskit>=0.45.2->qiskit-aer==0.14.2) (6.1.1)\n",
            "Requirement already satisfied: mpmath<1.4,>=1.1.0 in c:\\users\\gaming\\appdata\\local\\programs\\python\\python312\\lib\\site-packages (from sympy>=1.3->qiskit>=0.45.2->qiskit-aer==0.14.2) (1.3.0)\n",
            "Requirement already satisfied: setuptools in c:\\users\\gaming\\appdata\\local\\programs\\python\\python312\\lib\\site-packages (from pbr>=2.0.0->stevedore>=3.0.0->qiskit>=0.45.2->qiskit-aer==0.14.2) (75.8.0)\n",
            "Requirement already satisfied: qiskit==1.1.1 in c:\\users\\gaming\\appdata\\local\\programs\\python\\python312\\lib\\site-packages (1.1.1)\n",
            "Requirement already satisfied: rustworkx>=0.14.0 in c:\\users\\gaming\\appdata\\local\\programs\\python\\python312\\lib\\site-packages (from qiskit==1.1.1) (0.16.0)\n",
            "Requirement already satisfied: numpy<3,>=1.17 in c:\\users\\gaming\\appdata\\local\\programs\\python\\python312\\lib\\site-packages (from qiskit==1.1.1) (2.2.3)\n",
            "Requirement already satisfied: scipy>=1.5 in c:\\users\\gaming\\appdata\\local\\programs\\python\\python312\\lib\\site-packages (from qiskit==1.1.1) (1.15.2)\n",
            "Requirement already satisfied: sympy>=1.3 in c:\\users\\gaming\\appdata\\local\\programs\\python\\python312\\lib\\site-packages (from qiskit==1.1.1) (1.13.3)\n",
            "Requirement already satisfied: dill>=0.3 in c:\\users\\gaming\\appdata\\local\\programs\\python\\python312\\lib\\site-packages (from qiskit==1.1.1) (0.3.9)\n",
            "Requirement already satisfied: python-dateutil>=2.8.0 in c:\\users\\gaming\\appdata\\roaming\\python\\python312\\site-packages (from qiskit==1.1.1) (2.9.0.post0)\n",
            "Requirement already satisfied: stevedore>=3.0.0 in c:\\users\\gaming\\appdata\\local\\programs\\python\\python312\\lib\\site-packages (from qiskit==1.1.1) (5.4.0)\n",
            "Requirement already satisfied: typing-extensions in c:\\users\\gaming\\appdata\\local\\programs\\python\\python312\\lib\\site-packages (from qiskit==1.1.1) (4.12.2)\n",
            "Requirement already satisfied: symengine>=0.11 in c:\\users\\gaming\\appdata\\local\\programs\\python\\python312\\lib\\site-packages (from qiskit==1.1.1) (0.13.0)\n",
            "Requirement already satisfied: six>=1.5 in c:\\users\\gaming\\appdata\\roaming\\python\\python312\\site-packages (from python-dateutil>=2.8.0->qiskit==1.1.1) (1.17.0)\n",
            "Requirement already satisfied: pbr>=2.0.0 in c:\\users\\gaming\\appdata\\local\\programs\\python\\python312\\lib\\site-packages (from stevedore>=3.0.0->qiskit==1.1.1) (6.1.1)\n",
            "Requirement already satisfied: mpmath<1.4,>=1.1.0 in c:\\users\\gaming\\appdata\\local\\programs\\python\\python312\\lib\\site-packages (from sympy>=1.3->qiskit==1.1.1) (1.3.0)\n",
            "Requirement already satisfied: setuptools in c:\\users\\gaming\\appdata\\local\\programs\\python\\python312\\lib\\site-packages (from pbr>=2.0.0->stevedore>=3.0.0->qiskit==1.1.1) (75.8.0)\n"
          ]
        },
        {
          "name": "stderr",
          "output_type": "stream",
          "text": [
            "\n",
            "[notice] A new release of pip is available: 24.2 -> 25.0.1\n",
            "[notice] To update, run: python.exe -m pip install --upgrade pip\n"
          ]
        },
        {
          "name": "stdout",
          "output_type": "stream",
          "text": [
            "Requirement already satisfied: qiskit-ibm-runtime==0.26.0 in c:\\users\\gaming\\appdata\\local\\programs\\python\\python312\\lib\\site-packages (0.26.0)"
          ]
        },
        {
          "name": "stderr",
          "output_type": "stream",
          "text": [
            "\n",
            "[notice] A new release of pip is available: 24.2 -> 25.0.1\n",
            "[notice] To update, run: python.exe -m pip install --upgrade pip\n"
          ]
        },
        {
          "name": "stdout",
          "output_type": "stream",
          "text": [
            "\n",
            "Requirement already satisfied: requests>=2.19 in c:\\users\\gaming\\appdata\\local\\programs\\python\\python312\\lib\\site-packages (from qiskit-ibm-runtime==0.26.0) (2.32.3)\n",
            "Requirement already satisfied: requests-ntlm>=1.1.0 in c:\\users\\gaming\\appdata\\local\\programs\\python\\python312\\lib\\site-packages (from qiskit-ibm-runtime==0.26.0) (1.3.0)\n",
            "Requirement already satisfied: numpy>=1.13 in c:\\users\\gaming\\appdata\\local\\programs\\python\\python312\\lib\\site-packages (from qiskit-ibm-runtime==0.26.0) (2.2.3)\n",
            "Requirement already satisfied: urllib3>=1.21.1 in c:\\users\\gaming\\appdata\\local\\programs\\python\\python312\\lib\\site-packages (from qiskit-ibm-runtime==0.26.0) (2.2.3)\n",
            "Requirement already satisfied: python-dateutil>=2.8.0 in c:\\users\\gaming\\appdata\\roaming\\python\\python312\\site-packages (from qiskit-ibm-runtime==0.26.0) (2.9.0.post0)\n",
            "Requirement already satisfied: websocket-client>=1.5.1 in c:\\users\\gaming\\appdata\\local\\programs\\python\\python312\\lib\\site-packages (from qiskit-ibm-runtime==0.26.0) (1.8.0)\n",
            "Requirement already satisfied: ibm-platform-services>=0.22.6 in c:\\users\\gaming\\appdata\\local\\programs\\python\\python312\\lib\\site-packages (from qiskit-ibm-runtime==0.26.0) (0.59.1)\n",
            "Requirement already satisfied: pydantic>=2.5.0 in c:\\users\\gaming\\appdata\\local\\programs\\python\\python312\\lib\\site-packages (from qiskit-ibm-runtime==0.26.0) (2.9.2)\n",
            "Requirement already satisfied: qiskit>=1.1.0 in c:\\users\\gaming\\appdata\\local\\programs\\python\\python312\\lib\\site-packages (from qiskit-ibm-runtime==0.26.0) (1.1.1)\n",
            "Requirement already satisfied: ibm_cloud_sdk_core<4.0.0,>=3.22.0 in c:\\users\\gaming\\appdata\\local\\programs\\python\\python312\\lib\\site-packages (from ibm-platform-services>=0.22.6->qiskit-ibm-runtime==0.26.0) (3.22.1)\n",
            "Requirement already satisfied: annotated-types>=0.6.0 in c:\\users\\gaming\\appdata\\local\\programs\\python\\python312\\lib\\site-packages (from pydantic>=2.5.0->qiskit-ibm-runtime==0.26.0) (0.7.0)\n",
            "Requirement already satisfied: pydantic-core==2.23.4 in c:\\users\\gaming\\appdata\\local\\programs\\python\\python312\\lib\\site-packages (from pydantic>=2.5.0->qiskit-ibm-runtime==0.26.0) (2.23.4)\n",
            "Requirement already satisfied: typing-extensions>=4.6.1 in c:\\users\\gaming\\appdata\\local\\programs\\python\\python312\\lib\\site-packages (from pydantic>=2.5.0->qiskit-ibm-runtime==0.26.0) (4.12.2)\n",
            "Requirement already satisfied: six>=1.5 in c:\\users\\gaming\\appdata\\roaming\\python\\python312\\site-packages (from python-dateutil>=2.8.0->qiskit-ibm-runtime==0.26.0) (1.17.0)\n",
            "Requirement already satisfied: rustworkx>=0.14.0 in c:\\users\\gaming\\appdata\\local\\programs\\python\\python312\\lib\\site-packages (from qiskit>=1.1.0->qiskit-ibm-runtime==0.26.0) (0.16.0)\n",
            "Requirement already satisfied: scipy>=1.5 in c:\\users\\gaming\\appdata\\local\\programs\\python\\python312\\lib\\site-packages (from qiskit>=1.1.0->qiskit-ibm-runtime==0.26.0) (1.15.2)\n",
            "Requirement already satisfied: sympy>=1.3 in c:\\users\\gaming\\appdata\\local\\programs\\python\\python312\\lib\\site-packages (from qiskit>=1.1.0->qiskit-ibm-runtime==0.26.0) (1.13.3)\n",
            "Requirement already satisfied: dill>=0.3 in c:\\users\\gaming\\appdata\\local\\programs\\python\\python312\\lib\\site-packages (from qiskit>=1.1.0->qiskit-ibm-runtime==0.26.0) (0.3.9)\n",
            "Requirement already satisfied: stevedore>=3.0.0 in c:\\users\\gaming\\appdata\\local\\programs\\python\\python312\\lib\\site-packages (from qiskit>=1.1.0->qiskit-ibm-runtime==0.26.0) (5.4.0)\n",
            "Requirement already satisfied: symengine>=0.11 in c:\\users\\gaming\\appdata\\local\\programs\\python\\python312\\lib\\site-packages (from qiskit>=1.1.0->qiskit-ibm-runtime==0.26.0) (0.13.0)\n",
            "Requirement already satisfied: charset-normalizer<4,>=2 in c:\\users\\gaming\\appdata\\local\\programs\\python\\python312\\lib\\site-packages (from requests>=2.19->qiskit-ibm-runtime==0.26.0) (3.3.2)\n",
            "Requirement already satisfied: idna<4,>=2.5 in c:\\users\\gaming\\appdata\\local\\programs\\python\\python312\\lib\\site-packages (from requests>=2.19->qiskit-ibm-runtime==0.26.0) (3.10)\n",
            "Requirement already satisfied: certifi>=2017.4.17 in c:\\users\\gaming\\appdata\\local\\programs\\python\\python312\\lib\\site-packages (from requests>=2.19->qiskit-ibm-runtime==0.26.0) (2024.8.30)\n",
            "Requirement already satisfied: cryptography>=1.3 in c:\\users\\gaming\\appdata\\local\\programs\\python\\python312\\lib\\site-packages (from requests-ntlm>=1.1.0->qiskit-ibm-runtime==0.26.0) (44.0.1)\n",
            "Requirement already satisfied: pyspnego>=0.4.0 in c:\\users\\gaming\\appdata\\local\\programs\\python\\python312\\lib\\site-packages (from requests-ntlm>=1.1.0->qiskit-ibm-runtime==0.26.0) (0.11.2)\n",
            "Requirement already satisfied: cffi>=1.12 in c:\\users\\gaming\\appdata\\local\\programs\\python\\python312\\lib\\site-packages (from cryptography>=1.3->requests-ntlm>=1.1.0->qiskit-ibm-runtime==0.26.0) (1.17.1)\n",
            "Requirement already satisfied: PyJWT<3.0.0,>=2.8.0 in c:\\users\\gaming\\appdata\\local\\programs\\python\\python312\\lib\\site-packages (from ibm_cloud_sdk_core<4.0.0,>=3.22.0->ibm-platform-services>=0.22.6->qiskit-ibm-runtime==0.26.0) (2.10.1)\n",
            "Requirement already satisfied: sspilib>=0.1.0 in c:\\users\\gaming\\appdata\\local\\programs\\python\\python312\\lib\\site-packages (from pyspnego>=0.4.0->requests-ntlm>=1.1.0->qiskit-ibm-runtime==0.26.0) (0.2.0)\n",
            "Requirement already satisfied: pbr>=2.0.0 in c:\\users\\gaming\\appdata\\local\\programs\\python\\python312\\lib\\site-packages (from stevedore>=3.0.0->qiskit>=1.1.0->qiskit-ibm-runtime==0.26.0) (6.1.1)\n",
            "Requirement already satisfied: mpmath<1.4,>=1.1.0 in c:\\users\\gaming\\appdata\\local\\programs\\python\\python312\\lib\\site-packages (from sympy>=1.3->qiskit>=1.1.0->qiskit-ibm-runtime==0.26.0) (1.3.0)\n",
            "Requirement already satisfied: pycparser in c:\\users\\gaming\\appdata\\local\\programs\\python\\python312\\lib\\site-packages (from cffi>=1.12->cryptography>=1.3->requests-ntlm>=1.1.0->qiskit-ibm-runtime==0.26.0) (2.22)\n",
            "Requirement already satisfied: setuptools in c:\\users\\gaming\\appdata\\local\\programs\\python\\python312\\lib\\site-packages (from pbr>=2.0.0->stevedore>=3.0.0->qiskit>=1.1.0->qiskit-ibm-runtime==0.26.0) (75.8.0)\n",
            "Requirement already satisfied: qiskit_experiments==0.7.0 in c:\\users\\gaming\\appdata\\local\\programs\\python\\python312\\lib\\site-packages (0.7.0)\n",
            "Requirement already satisfied: numpy>=1.17 in c:\\users\\gaming\\appdata\\local\\programs\\python\\python312\\lib\\site-packages (from qiskit_experiments==0.7.0) (2.2.3)\n",
            "Requirement already satisfied: scipy>=1.4 in c:\\users\\gaming\\appdata\\local\\programs\\python\\python312\\lib\\site-packages (from qiskit_experiments==0.7.0) (1.15.2)\n",
            "Requirement already satisfied: qiskit>=0.45 in c:\\users\\gaming\\appdata\\local\\programs\\python\\python312\\lib\\site-packages (from qiskit_experiments==0.7.0) (1.1.1)\n",
            "Requirement already satisfied: qiskit-ibm-experiment>=0.4.6 in c:\\users\\gaming\\appdata\\local\\programs\\python\\python312\\lib\\site-packages (from qiskit_experiments==0.7.0) (0.4.8)\n",
            "Requirement already satisfied: matplotlib>=3.4 in c:\\users\\gaming\\appdata\\local\\programs\\python\\python312\\lib\\site-packages (from qiskit_experiments==0.7.0) (3.8.4)\n",
            "Requirement already satisfied: uncertainties in c:\\users\\gaming\\appdata\\local\\programs\\python\\python312\\lib\\site-packages (from qiskit_experiments==0.7.0) (3.2.2)\n",
            "Requirement already satisfied: lmfit in c:\\users\\gaming\\appdata\\local\\programs\\python\\python312\\lib\\site-packages (from qiskit_experiments==0.7.0) (1.3.2)\n",
            "Requirement already satisfied: rustworkx in c:\\users\\gaming\\appdata\\local\\programs\\python\\python312\\lib\\site-packages (from qiskit_experiments==0.7.0) (0.16.0)\n",
            "Requirement already satisfied: pandas>=1.1.5 in c:\\users\\gaming\\appdata\\local\\programs\\python\\python312\\lib\\site-packages (from qiskit_experiments==0.7.0) (2.2.3)\n",
            "Requirement already satisfied: packaging in c:\\users\\gaming\\appdata\\roaming\\python\\python312\\site-packages (from qiskit_experiments==0.7.0) (24.2)\n",
            "Requirement already satisfied: contourpy>=1.0.1 in c:\\users\\gaming\\appdata\\local\\programs\\python\\python312\\lib\\site-packages (from matplotlib>=3.4->qiskit_experiments==0.7.0) (1.3.1)\n",
            "Requirement already satisfied: cycler>=0.10 in c:\\users\\gaming\\appdata\\local\\programs\\python\\python312\\lib\\site-packages (from matplotlib>=3.4->qiskit_experiments==0.7.0) (0.12.1)\n",
            "Requirement already satisfied: fonttools>=4.22.0 in c:\\users\\gaming\\appdata\\local\\programs\\python\\python312\\lib\\site-packages (from matplotlib>=3.4->qiskit_experiments==0.7.0) (4.56.0)\n",
            "Requirement already satisfied: kiwisolver>=1.3.1 in c:\\users\\gaming\\appdata\\local\\programs\\python\\python312\\lib\\site-packages (from matplotlib>=3.4->qiskit_experiments==0.7.0) (1.4.8)\n",
            "Requirement already satisfied: pillow>=8 in c:\\users\\gaming\\appdata\\local\\programs\\python\\python312\\lib\\site-packages (from matplotlib>=3.4->qiskit_experiments==0.7.0) (11.1.0)\n",
            "Requirement already satisfied: pyparsing>=2.3.1 in c:\\users\\gaming\\appdata\\local\\programs\\python\\python312\\lib\\site-packages (from matplotlib>=3.4->qiskit_experiments==0.7.0) (3.2.1)\n",
            "Requirement already satisfied: python-dateutil>=2.7 in c:\\users\\gaming\\appdata\\roaming\\python\\python312\\site-packages (from matplotlib>=3.4->qiskit_experiments==0.7.0) (2.9.0.post0)\n",
            "Requirement already satisfied: pytz>=2020.1 in c:\\users\\gaming\\appdata\\local\\programs\\python\\python312\\lib\\site-packages (from pandas>=1.1.5->qiskit_experiments==0.7.0) (2025.1)\n",
            "Requirement already satisfied: tzdata>=2022.7 in c:\\users\\gaming\\appdata\\local\\programs\\python\\python312\\lib\\site-packages (from pandas>=1.1.5->qiskit_experiments==0.7.0) (2025.1)\n",
            "Requirement already satisfied: sympy>=1.3 in c:\\users\\gaming\\appdata\\local\\programs\\python\\python312\\lib\\site-packages (from qiskit>=0.45->qiskit_experiments==0.7.0) (1.13.3)\n",
            "Requirement already satisfied: dill>=0.3 in c:\\users\\gaming\\appdata\\local\\programs\\python\\python312\\lib\\site-packages (from qiskit>=0.45->qiskit_experiments==0.7.0) (0.3.9)\n",
            "Requirement already satisfied: stevedore>=3.0.0 in c:\\users\\gaming\\appdata\\local\\programs\\python\\python312\\lib\\site-packages (from qiskit>=0.45->qiskit_experiments==0.7.0) (5.4.0)\n",
            "Requirement already satisfied: typing-extensions in c:\\users\\gaming\\appdata\\local\\programs\\python\\python312\\lib\\site-packages (from qiskit>=0.45->qiskit_experiments==0.7.0) (4.12.2)\n",
            "Requirement already satisfied: symengine>=0.11 in c:\\users\\gaming\\appdata\\local\\programs\\python\\python312\\lib\\site-packages (from qiskit>=0.45->qiskit_experiments==0.7.0) (0.13.0)\n",
            "Requirement already satisfied: requests>=2.19 in c:\\users\\gaming\\appdata\\local\\programs\\python\\python312\\lib\\site-packages (from qiskit-ibm-experiment>=0.4.6->qiskit_experiments==0.7.0) (2.32.3)\n",
            "Requirement already satisfied: requests-ntlm>=1.1.0 in c:\\users\\gaming\\appdata\\local\\programs\\python\\python312\\lib\\site-packages (from qiskit-ibm-experiment>=0.4.6->qiskit_experiments==0.7.0) (1.3.0)\n",
            "Requirement already satisfied: urllib3>=1.21.1 in c:\\users\\gaming\\appdata\\local\\programs\\python\\python312\\lib\\site-packages (from qiskit-ibm-experiment>=0.4.6->qiskit_experiments==0.7.0) (2.2.3)\n",
            "Requirement already satisfied: websocket-client>=1.0.1 in c:\\users\\gaming\\appdata\\local\\programs\\python\\python312\\lib\\site-packages (from qiskit-ibm-experiment>=0.4.6->qiskit_experiments==0.7.0) (1.8.0)\n",
            "Requirement already satisfied: pyyaml>=6.0.0 in c:\\users\\gaming\\appdata\\local\\programs\\python\\python312\\lib\\site-packages (from qiskit-ibm-experiment>=0.4.6->qiskit_experiments==0.7.0) (6.0.2)\n",
            "Requirement already satisfied: asteval>=1.0 in c:\\users\\gaming\\appdata\\local\\programs\\python\\python312\\lib\\site-packages (from lmfit->qiskit_experiments==0.7.0) (1.0.6)\n",
            "Requirement already satisfied: six>=1.5 in c:\\users\\gaming\\appdata\\roaming\\python\\python312\\site-packages (from python-dateutil>=2.7->matplotlib>=3.4->qiskit_experiments==0.7.0) (1.17.0)\n",
            "Requirement already satisfied: charset-normalizer<4,>=2 in c:\\users\\gaming\\appdata\\local\\programs\\python\\python312\\lib\\site-packages (from requests>=2.19->qiskit-ibm-experiment>=0.4.6->qiskit_experiments==0.7.0) (3.3.2)\n",
            "Requirement already satisfied: idna<4,>=2.5 in c:\\users\\gaming\\appdata\\local\\programs\\python\\python312\\lib\\site-packages (from requests>=2.19->qiskit-ibm-experiment>=0.4.6->qiskit_experiments==0.7.0) (3.10)\n",
            "Requirement already satisfied: certifi>=2017.4.17 in c:\\users\\gaming\\appdata\\local\\programs\\python\\python312\\lib\\site-packages (from requests>=2.19->qiskit-ibm-experiment>=0.4.6->qiskit_experiments==0.7.0) (2024.8.30)\n",
            "Requirement already satisfied: cryptography>=1.3 in c:\\users\\gaming\\appdata\\local\\programs\\python\\python312\\lib\\site-packages (from requests-ntlm>=1.1.0->qiskit-ibm-experiment>=0.4.6->qiskit_experiments==0.7.0) (44.0.1)\n",
            "Requirement already satisfied: pyspnego>=0.4.0 in c:\\users\\gaming\\appdata\\local\\programs\\python\\python312\\lib\\site-packages (from requests-ntlm>=1.1.0->qiskit-ibm-experiment>=0.4.6->qiskit_experiments==0.7.0) (0.11.2)\n",
            "Requirement already satisfied: pbr>=2.0.0 in c:\\users\\gaming\\appdata\\local\\programs\\python\\python312\\lib\\site-packages (from stevedore>=3.0.0->qiskit>=0.45->qiskit_experiments==0.7.0) (6.1.1)\n",
            "Requirement already satisfied: mpmath<1.4,>=1.1.0 in c:\\users\\gaming\\appdata\\local\\programs\\python\\python312\\lib\\site-packages (from sympy>=1.3->qiskit>=0.45->qiskit_experiments==0.7.0) (1.3.0)\n",
            "Requirement already satisfied: cffi>=1.12 in c:\\users\\gaming\\appdata\\local\\programs\\python\\python312\\lib\\site-packages (from cryptography>=1.3->requests-ntlm>=1.1.0->qiskit-ibm-experiment>=0.4.6->qiskit_experiments==0.7.0) (1.17.1)\n",
            "Requirement already satisfied: setuptools in c:\\users\\gaming\\appdata\\local\\programs\\python\\python312\\lib\\site-packages (from pbr>=2.0.0->stevedore>=3.0.0->qiskit>=0.45->qiskit_experiments==0.7.0) (75.8.0)\n",
            "Requirement already satisfied: sspilib>=0.1.0 in c:\\users\\gaming\\appdata\\local\\programs\\python\\python312\\lib\\site-packages (from pyspnego>=0.4.0->requests-ntlm>=1.1.0->qiskit-ibm-experiment>=0.4.6->qiskit_experiments==0.7.0) (0.2.0)\n",
            "Requirement already satisfied: pycparser in c:\\users\\gaming\\appdata\\local\\programs\\python\\python312\\lib\\site-packages (from cffi>=1.12->cryptography>=1.3->requests-ntlm>=1.1.0->qiskit-ibm-experiment>=0.4.6->qiskit_experiments==0.7.0) (2.22)\n"
          ]
        },
        {
          "name": "stderr",
          "output_type": "stream",
          "text": [
            "\n",
            "[notice] A new release of pip is available: 24.2 -> 25.0.1\n",
            "[notice] To update, run: python.exe -m pip install --upgrade pip\n"
          ]
        },
        {
          "name": "stdout",
          "output_type": "stream",
          "text": [
            "Requirement already satisfied: matplotlib==3.8.4 in c:\\users\\gaming\\appdata\\local\\programs\\python\\python312\\lib\\site-packages (3.8.4)\n",
            "Requirement already satisfied: contourpy>=1.0.1 in c:\\users\\gaming\\appdata\\local\\programs\\python\\python312\\lib\\site-packages (from matplotlib==3.8.4) (1.3.1)\n",
            "Requirement already satisfied: cycler>=0.10 in c:\\users\\gaming\\appdata\\local\\programs\\python\\python312\\lib\\site-packages (from matplotlib==3.8.4) (0.12.1)\n",
            "Requirement already satisfied: fonttools>=4.22.0 in c:\\users\\gaming\\appdata\\local\\programs\\python\\python312\\lib\\site-packages (from matplotlib==3.8.4) (4.56.0)\n",
            "Requirement already satisfied: kiwisolver>=1.3.1 in c:\\users\\gaming\\appdata\\local\\programs\\python\\python312\\lib\\site-packages (from matplotlib==3.8.4) (1.4.8)\n",
            "Requirement already satisfied: numpy>=1.21 in c:\\users\\gaming\\appdata\\local\\programs\\python\\python312\\lib\\site-packages (from matplotlib==3.8.4) (2.2.3)\n",
            "Requirement already satisfied: packaging>=20.0 in c:\\users\\gaming\\appdata\\roaming\\python\\python312\\site-packages (from matplotlib==3.8.4) (24.2)\n",
            "Requirement already satisfied: pillow>=8 in c:\\users\\gaming\\appdata\\local\\programs\\python\\python312\\lib\\site-packages (from matplotlib==3.8.4) (11.1.0)\n",
            "Requirement already satisfied: pyparsing>=2.3.1 in c:\\users\\gaming\\appdata\\local\\programs\\python\\python312\\lib\\site-packages (from matplotlib==3.8.4) (3.2.1)\n",
            "Requirement already satisfied: python-dateutil>=2.7 in c:\\users\\gaming\\appdata\\roaming\\python\\python312\\site-packages (from matplotlib==3.8.4) (2.9.0.post0)\n",
            "Requirement already satisfied: six>=1.5 in c:\\users\\gaming\\appdata\\roaming\\python\\python312\\site-packages (from python-dateutil>=2.7->matplotlib==3.8.4) (1.17.0)\n"
          ]
        },
        {
          "name": "stderr",
          "output_type": "stream",
          "text": [
            "\n",
            "[notice] A new release of pip is available: 24.2 -> 25.0.1\n",
            "[notice] To update, run: python.exe -m pip install --upgrade pip\n"
          ]
        },
        {
          "name": "stdout",
          "output_type": "stream",
          "text": [
            "Requirement already satisfied: pylatexenc==2.10 in c:\\users\\gaming\\appdata\\local\\programs\\python\\python312\\lib\\site-packages (2.10)\n"
          ]
        },
        {
          "name": "stderr",
          "output_type": "stream",
          "text": [
            "\n",
            "[notice] A new release of pip is available: 24.2 -> 25.0.1\n",
            "[notice] To update, run: python.exe -m pip install --upgrade pip\n"
          ]
        },
        {
          "name": "stdout",
          "output_type": "stream",
          "text": [
            "Requirement already satisfied: seaborn==0.13.2 in c:\\users\\gaming\\appdata\\local\\programs\\python\\python312\\lib\\site-packages (0.13.2)\n",
            "Requirement already satisfied: numpy!=1.24.0,>=1.20 in c:\\users\\gaming\\appdata\\local\\programs\\python\\python312\\lib\\site-packages (from seaborn==0.13.2) (2.2.3)\n",
            "Requirement already satisfied: pandas>=1.2 in c:\\users\\gaming\\appdata\\local\\programs\\python\\python312\\lib\\site-packages (from seaborn==0.13.2) (2.2.3)\n",
            "Requirement already satisfied: matplotlib!=3.6.1,>=3.4 in c:\\users\\gaming\\appdata\\local\\programs\\python\\python312\\lib\\site-packages (from seaborn==0.13.2) (3.8.4)\n",
            "Requirement already satisfied: contourpy>=1.0.1 in c:\\users\\gaming\\appdata\\local\\programs\\python\\python312\\lib\\site-packages (from matplotlib!=3.6.1,>=3.4->seaborn==0.13.2) (1.3.1)\n",
            "Requirement already satisfied: cycler>=0.10 in c:\\users\\gaming\\appdata\\local\\programs\\python\\python312\\lib\\site-packages (from matplotlib!=3.6.1,>=3.4->seaborn==0.13.2) (0.12.1)\n",
            "Requirement already satisfied: fonttools>=4.22.0 in c:\\users\\gaming\\appdata\\local\\programs\\python\\python312\\lib\\site-packages (from matplotlib!=3.6.1,>=3.4->seaborn==0.13.2) (4.56.0)\n",
            "Requirement already satisfied: kiwisolver>=1.3.1 in c:\\users\\gaming\\appdata\\local\\programs\\python\\python312\\lib\\site-packages (from matplotlib!=3.6.1,>=3.4->seaborn==0.13.2) (1.4.8)\n",
            "Requirement already satisfied: packaging>=20.0 in c:\\users\\gaming\\appdata\\roaming\\python\\python312\\site-packages (from matplotlib!=3.6.1,>=3.4->seaborn==0.13.2) (24.2)\n",
            "Requirement already satisfied: pillow>=8 in c:\\users\\gaming\\appdata\\local\\programs\\python\\python312\\lib\\site-packages (from matplotlib!=3.6.1,>=3.4->seaborn==0.13.2) (11.1.0)\n",
            "Requirement already satisfied: pyparsing>=2.3.1 in c:\\users\\gaming\\appdata\\local\\programs\\python\\python312\\lib\\site-packages (from matplotlib!=3.6.1,>=3.4->seaborn==0.13.2) (3.2.1)\n",
            "Requirement already satisfied: python-dateutil>=2.7 in c:\\users\\gaming\\appdata\\roaming\\python\\python312\\site-packages (from matplotlib!=3.6.1,>=3.4->seaborn==0.13.2) (2.9.0.post0)\n",
            "Requirement already satisfied: pytz>=2020.1 in c:\\users\\gaming\\appdata\\local\\programs\\python\\python312\\lib\\site-packages (from pandas>=1.2->seaborn==0.13.2) (2025.1)\n",
            "Requirement already satisfied: tzdata>=2022.7 in c:\\users\\gaming\\appdata\\local\\programs\\python\\python312\\lib\\site-packages (from pandas>=1.2->seaborn==0.13.2) (2025.1)\n",
            "Requirement already satisfied: six>=1.5 in c:\\users\\gaming\\appdata\\roaming\\python\\python312\\site-packages (from python-dateutil>=2.7->matplotlib!=3.6.1,>=3.4->seaborn==0.13.2) (1.17.0)\n"
          ]
        },
        {
          "name": "stderr",
          "output_type": "stream",
          "text": [
            "\n",
            "[notice] A new release of pip is available: 24.2 -> 25.0.1\n",
            "[notice] To update, run: python.exe -m pip install --upgrade pip\n"
          ]
        }
      ],
      "source": [
        "!pip install qiskit-aer==0.14.2\n",
        "!pip install qiskit==1.1.1\n",
        "!pip install qiskit-ibm-runtime==0.26.0\n",
        "!pip install qiskit_experiments==0.7.0\n",
        "!pip install matplotlib==3.8.4\n",
        "!pip install pylatexenc==2.10\n",
        "!pip install seaborn==0.13.2"
      ]
    },
    {
      "cell_type": "code",
      "execution_count": 2,
      "metadata": {
        "id": "CHwVP1is1bTh"
      },
      "outputs": [],
      "source": [
        "from qiskit import QuantumCircuit, transpile, QuantumRegister\n",
        "from qiskit.providers.basic_provider import BasicSimulator\n",
        "from qiskit_aer import AerSimulator\n",
        "\n",
        "from qiskit.visualization import plot_bloch_multivector, plot_state_city\n",
        "from qiskit.quantum_info import partial_trace, Statevector, DensityMatrix"
      ]
    },
    {
      "cell_type": "code",
      "execution_count": 3,
      "metadata": {
        "colab": {
          "base_uri": "https://localhost:8080/",
          "height": 191
        },
        "id": "37fDfN_h3Ew4",
        "outputId": "d8dbb3c9-095a-44ac-bbac-455a65311c78"
      },
      "outputs": [
        {
          "data": {
            "image/png": "[encoded data removed]",
            "text/plain": [
              "<Figure size 287.294x200.667 with 1 Axes>"
            ]
          },
          "execution_count": 3,
          "metadata": {},
          "output_type": "execute_result"
        }
      ],
      "source": [
        "\n",
        "# Create a new circuit with two qubits\n",
        "qc = QuantumCircuit(2)\n",
        "\n",
        "# Add a Hadamard gate to qubit 0\n",
        "qc.h(0)\n",
        "\n",
        "# Perform a controlled-X gate on qubit 1, controlled by qubit 0\n",
        "qc.cx(0, 1)\n",
        "\n",
        "# Return a drawing of the circuit using MatPlotLib (\"mpl\"). This is the\n",
        "# last line of the cell, so the drawing appears in the cell output.\n",
        "# Remove the \"mpl\" argument to get a text drawing.\n",
        "qc.draw(\"mpl\")"
      ]
    },
    {
      "cell_type": "code",
      "execution_count": 4,
      "metadata": {
        "colab": {
          "base_uri": "https://localhost:8080/",
          "height": 255
        },
        "id": "25XZFPu23VnJ",
        "outputId": "af759981-e00a-435b-b509-7fe0a45fb2a2"
      },
      "outputs": [
        {
          "data": {
            "image/png": "[encoded data removed]",
            "text/plain": [
              "<Figure size 221.914x284.278 with 1 Axes>"
            ]
          },
          "execution_count": 4,
          "metadata": {},
          "output_type": "execute_result"
        }
      ],
      "source": [
        "%matplotlib inline\n",
        "from qiskit.circuit import Register, ClassicalRegister\n",
        "\n",
        "qr=QuantumRegister(2)\n",
        "cr=ClassicalRegister(2)\n",
        "circuit=QuantumCircuit(qr,cr)\n",
        "circuit.draw()\n",
        "circuit.h(qr[0])\n",
        "circuit.draw(output='mpl')\n"
      ]
    },
    {
      "cell_type": "code",
      "execution_count": 5,
      "metadata": {
        "colab": {
          "base_uri": "https://localhost:8080/",
          "height": 125
        },
        "id": "WVAWQN4z4qO2",
        "outputId": "d7929c78-d36b-42ec-ce71-83bcc22c1149"
      },
      "outputs": [
        {
          "data": {
            "text/html": [
              "<pre style=\"word-wrap: normal;white-space: pre;background: #fff0;line-height: 1.1;font-family: &quot;Courier New&quot;,Courier,monospace\">      ┌───┐     ┌─┐   \n",
              "q1_0: ┤ H ├──■──┤M├───\n",
              "      └───┘┌─┴─┐└╥┘┌─┐\n",
              "q1_1: ─────┤ X ├─╫─┤M├\n",
              "           └───┘ ║ └╥┘\n",
              "c0: 2/═══════════╩══╩═\n",
              "                 0  1 </pre>"
            ],
            "text/plain": [
              "      ┌───┐     ┌─┐   \n",
              "q1_0: ┤ H ├──■──┤M├───\n",
              "      └───┘┌─┴─┐└╥┘┌─┐\n",
              "q1_1: ─────┤ X ├─╫─┤M├\n",
              "           └───┘ ║ └╥┘\n",
              "c0: 2/═══════════╩══╩═\n",
              "                 0  1 "
            ]
          },
          "execution_count": 5,
          "metadata": {},
          "output_type": "execute_result"
        }
      ],
      "source": [
        "circuit.cx(qr[0],qr[1])\n",
        "circuit.measure(qr,cr)\n",
        "circuit.draw()\n"
      ]
    },
    {
      "cell_type": "code",
      "execution_count": null,
      "metadata": {
        "colab": {
          "base_uri": "https://localhost:8080/",
          "height": 255
        },
        "id": "CRosqhbU4z0N",
        "outputId": "fb73d5c7-f356-4912-f883-c5406174b88c"
      },
      "outputs": [
        {
          "ename": "NameError",
          "evalue": "name 't' is not defined",
          "output_type": "error",
          "traceback": [
            "\u001b[1;31m---------------------------------------------------------------------------\u001b[0m",
            "\u001b[1;31mNameError\u001b[0m                                 Traceback (most recent call last)",
            "Cell \u001b[1;32mIn[6], line 5\u001b[0m\n\u001b[0;32m      3\u001b[0m circuit\u001b[38;5;241m.\u001b[39mdraw()\n\u001b[0;32m      4\u001b[0m circuit\u001b[38;5;241m.\u001b[39mdraw(output\u001b[38;5;241m=\u001b[39m\u001b[38;5;124m'\u001b[39m\u001b[38;5;124mmpl\u001b[39m\u001b[38;5;124m'\u001b[39m)\n\u001b[1;32m----> 5\u001b[0m \u001b[43mt\u001b[49m\n",
            "\u001b[1;31mNameError\u001b[0m: name 't' is not defined"
          ]
        }
      ],
      "source": [
        "circuit.cx(qr[0],qr[1])\n",
        "circuit.measure(qr,cr)\n",
        "circuit.draw()\n",
        "circuit.draw(output='mpl')\n"
      ]
    }
  ],
  "metadata": {
    "colab": {
      "provenance": []
    },
    "kernelspec": {
      "display_name": "Python 3",
      "name": "python3"
    },
    "language_info": {
      "codemirror_mode": {
        "name": "ipython",
        "version": 3
      },
      "file_extension": ".py",
      "mimetype": "text/x-python",
      "name": "python",
      "nbconvert_exporter": "python",
      "pygments_lexer": "ipython3",
      "version": "3.12.4"
    }
  },
  "nbformat": 4,
  "nbformat_minor": 0
}

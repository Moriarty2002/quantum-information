{
 "cells": [
  {
   "cell_type": "markdown",
   "metadata": {},
   "source": [
    "<h1> ELABORATO QUANTUM INFORMATION </h1>"
   ]
  },
  {
   "cell_type": "markdown",
   "metadata": {
    "notebookRunGroups": {
     "groupValue": "1"
    }
   },
   "source": [
    "<h5>Esposito Marcello M63001768</h5>"
   ]
  },
  {
   "cell_type": "markdown",
   "metadata": {},
   "source": [
    "__________________________________________________________________________________________________________________________________"
   ]
  },
  {
   "cell_type": "markdown",
   "metadata": {},
   "source": [
    "<h3>Libs</h3>"
   ]
  },
  {
   "cell_type": "code",
   "execution_count": 4,
   "metadata": {},
   "outputs": [
    {
     "name": "stdout",
     "output_type": "stream",
     "text": [
      "Requirement already satisfied: qiskit-aer==0.16.1 in c:\\users\\gaming\\appdata\\local\\programs\\python\\python312\\lib\\site-packages (0.16.1)\n",
      "Requirement already satisfied: qiskit>=1.1.0 in c:\\users\\gaming\\appdata\\local\\programs\\python\\python312\\lib\\site-packages (from qiskit-aer==0.16.1) (1.3.2)\n",
      "Requirement already satisfied: numpy>=1.16.3 in c:\\users\\gaming\\appdata\\local\\programs\\python\\python312\\lib\\site-packages (from qiskit-aer==0.16.1) (2.2.3)\n",
      "Requirement already satisfied: scipy>=1.0 in c:\\users\\gaming\\appdata\\local\\programs\\python\\python312\\lib\\site-packages (from qiskit-aer==0.16.1) (1.15.2)\n",
      "Requirement already satisfied: psutil>=5 in c:\\users\\gaming\\appdata\\roaming\\python\\python312\\site-packages (from qiskit-aer==0.16.1) (7.0.0)\n",
      "Requirement already satisfied: rustworkx>=0.15.0 in c:\\users\\gaming\\appdata\\local\\programs\\python\\python312\\lib\\site-packages (from qiskit>=1.1.0->qiskit-aer==0.16.1) (0.16.0)\n",
      "Requirement already satisfied: sympy>=1.3 in c:\\users\\gaming\\appdata\\local\\programs\\python\\python312\\lib\\site-packages (from qiskit>=1.1.0->qiskit-aer==0.16.1) (1.13.3)\n",
      "Requirement already satisfied: dill>=0.3 in c:\\users\\gaming\\appdata\\local\\programs\\python\\python312\\lib\\site-packages (from qiskit>=1.1.0->qiskit-aer==0.16.1) (0.3.9)\n",
      "Requirement already satisfied: python-dateutil>=2.8.0 in c:\\users\\gaming\\appdata\\roaming\\python\\python312\\site-packages (from qiskit>=1.1.0->qiskit-aer==0.16.1) (2.9.0.post0)\n",
      "Requirement already satisfied: stevedore>=3.0.0 in c:\\users\\gaming\\appdata\\local\\programs\\python\\python312\\lib\\site-packages (from qiskit>=1.1.0->qiskit-aer==0.16.1) (5.4.0)\n",
      "Requirement already satisfied: typing-extensions in c:\\users\\gaming\\appdata\\local\\programs\\python\\python312\\lib\\site-packages (from qiskit>=1.1.0->qiskit-aer==0.16.1) (4.12.2)\n",
      "Requirement already satisfied: symengine<0.14,>=0.11 in c:\\users\\gaming\\appdata\\local\\programs\\python\\python312\\lib\\site-packages (from qiskit>=1.1.0->qiskit-aer==0.16.1) (0.13.0)\n",
      "Requirement already satisfied: six>=1.5 in c:\\users\\gaming\\appdata\\roaming\\python\\python312\\site-packages (from python-dateutil>=2.8.0->qiskit>=1.1.0->qiskit-aer==0.16.1) (1.17.0)\n",
      "Requirement already satisfied: pbr>=2.0.0 in c:\\users\\gaming\\appdata\\local\\programs\\python\\python312\\lib\\site-packages (from stevedore>=3.0.0->qiskit>=1.1.0->qiskit-aer==0.16.1) (6.1.1)\n",
      "Requirement already satisfied: mpmath<1.4,>=1.1.0 in c:\\users\\gaming\\appdata\\local\\programs\\python\\python312\\lib\\site-packages (from sympy>=1.3->qiskit>=1.1.0->qiskit-aer==0.16.1) (1.3.0)\n",
      "Requirement already satisfied: setuptools in c:\\users\\gaming\\appdata\\local\\programs\\python\\python312\\lib\\site-packages (from pbr>=2.0.0->stevedore>=3.0.0->qiskit>=1.1.0->qiskit-aer==0.16.1) (75.8.0)\n",
      "Note: you may need to restart the kernel to use updated packages.\n"
     ]
    },
    {
     "name": "stderr",
     "output_type": "stream",
     "text": [
      "\n",
      "[notice] A new release of pip is available: 24.2 -> 25.0.1\n",
      "[notice] To update, run: python.exe -m pip install --upgrade pip\n"
     ]
    },
    {
     "name": "stdout",
     "output_type": "stream",
     "text": [
      "Requirement already satisfied: qiskit==1.3.2 in c:\\users\\gaming\\appdata\\local\\programs\\python\\python312\\lib\\site-packages (1.3.2)Note: you may need to restart the kernel to use updated packages.\n"
     ]
    },
    {
     "name": "stderr",
     "output_type": "stream",
     "text": [
      "\n",
      "[notice] A new release of pip is available: 24.2 -> 25.0.1\n",
      "[notice] To update, run: python.exe -m pip install --upgrade pip\n"
     ]
    },
    {
     "name": "stdout",
     "output_type": "stream",
     "text": [
      "\n",
      "Requirement already satisfied: rustworkx>=0.15.0 in c:\\users\\gaming\\appdata\\local\\programs\\python\\python312\\lib\\site-packages (from qiskit==1.3.2) (0.16.0)\n",
      "Requirement already satisfied: numpy<3,>=1.17 in c:\\users\\gaming\\appdata\\local\\programs\\python\\python312\\lib\\site-packages (from qiskit==1.3.2) (2.2.3)\n",
      "Requirement already satisfied: scipy>=1.5 in c:\\users\\gaming\\appdata\\local\\programs\\python\\python312\\lib\\site-packages (from qiskit==1.3.2) (1.15.2)\n",
      "Requirement already satisfied: sympy>=1.3 in c:\\users\\gaming\\appdata\\local\\programs\\python\\python312\\lib\\site-packages (from qiskit==1.3.2) (1.13.3)\n",
      "Requirement already satisfied: dill>=0.3 in c:\\users\\gaming\\appdata\\local\\programs\\python\\python312\\lib\\site-packages (from qiskit==1.3.2) (0.3.9)\n",
      "Requirement already satisfied: python-dateutil>=2.8.0 in c:\\users\\gaming\\appdata\\roaming\\python\\python312\\site-packages (from qiskit==1.3.2) (2.9.0.post0)\n",
      "Requirement already satisfied: stevedore>=3.0.0 in c:\\users\\gaming\\appdata\\local\\programs\\python\\python312\\lib\\site-packages (from qiskit==1.3.2) (5.4.0)\n",
      "Requirement already satisfied: typing-extensions in c:\\users\\gaming\\appdata\\local\\programs\\python\\python312\\lib\\site-packages (from qiskit==1.3.2) (4.12.2)\n",
      "Requirement already satisfied: symengine<0.14,>=0.11 in c:\\users\\gaming\\appdata\\local\\programs\\python\\python312\\lib\\site-packages (from qiskit==1.3.2) (0.13.0)\n",
      "Requirement already satisfied: six>=1.5 in c:\\users\\gaming\\appdata\\roaming\\python\\python312\\site-packages (from python-dateutil>=2.8.0->qiskit==1.3.2) (1.17.0)\n",
      "Requirement already satisfied: pbr>=2.0.0 in c:\\users\\gaming\\appdata\\local\\programs\\python\\python312\\lib\\site-packages (from stevedore>=3.0.0->qiskit==1.3.2) (6.1.1)\n",
      "Requirement already satisfied: mpmath<1.4,>=1.1.0 in c:\\users\\gaming\\appdata\\local\\programs\\python\\python312\\lib\\site-packages (from sympy>=1.3->qiskit==1.3.2) (1.3.0)\n",
      "Requirement already satisfied: setuptools in c:\\users\\gaming\\appdata\\local\\programs\\python\\python312\\lib\\site-packages (from pbr>=2.0.0->stevedore>=3.0.0->qiskit==1.3.2) (75.8.0)\n",
      "Requirement already satisfied: qiskit-ibm-runtime==0.26.0 in c:\\users\\gaming\\appdata\\local\\programs\\python\\python312\\lib\\site-packages (0.26.0)\n",
      "Requirement already satisfied: requests>=2.19 in c:\\users\\gaming\\appdata\\local\\programs\\python\\python312\\lib\\site-packages (from qiskit-ibm-runtime==0.26.0) (2.32.3)\n",
      "Requirement already satisfied: requests-ntlm>=1.1.0 in c:\\users\\gaming\\appdata\\local\\programs\\python\\python312\\lib\\site-packages (from qiskit-ibm-runtime==0.26.0) (1.3.0)\n",
      "Requirement already satisfied: numpy>=1.13 in c:\\users\\gaming\\appdata\\local\\programs\\python\\python312\\lib\\site-packages (from qiskit-ibm-runtime==0.26.0) (2.2.3)\n",
      "Requirement already satisfied: urllib3>=1.21.1 in c:\\users\\gaming\\appdata\\local\\programs\\python\\python312\\lib\\site-packages (from qiskit-ibm-runtime==0.26.0) (2.2.3)\n",
      "Requirement already satisfied: python-dateutil>=2.8.0 in c:\\users\\gaming\\appdata\\roaming\\python\\python312\\site-packages (from qiskit-ibm-runtime==0.26.0) (2.9.0.post0)\n",
      "Requirement already satisfied: websocket-client>=1.5.1 in c:\\users\\gaming\\appdata\\local\\programs\\python\\python312\\lib\\site-packages (from qiskit-ibm-runtime==0.26.0) (1.8.0)\n",
      "Requirement already satisfied: ibm-platform-services>=0.22.6 in c:\\users\\gaming\\appdata\\local\\programs\\python\\python312\\lib\\site-packages (from qiskit-ibm-runtime==0.26.0) (0.59.1)\n",
      "Requirement already satisfied: pydantic>=2.5.0 in c:\\users\\gaming\\appdata\\local\\programs\\python\\python312\\lib\\site-packages (from qiskit-ibm-runtime==0.26.0) (2.9.2)\n",
      "Requirement already satisfied: qiskit>=1.1.0 in c:\\users\\gaming\\appdata\\local\\programs\\python\\python312\\lib\\site-packages (from qiskit-ibm-runtime==0.26.0) (1.3.2)\n",
      "Requirement already satisfied: ibm_cloud_sdk_core<4.0.0,>=3.22.0 in c:\\users\\gaming\\appdata\\local\\programs\\python\\python312\\lib\\site-packages (from ibm-platform-services>=0.22.6->qiskit-ibm-runtime==0.26.0) (3.22.1)\n",
      "Requirement already satisfied: annotated-types>=0.6.0 in c:\\users\\gaming\\appdata\\local\\programs\\python\\python312\\lib\\site-packages (from pydantic>=2.5.0->qiskit-ibm-runtime==0.26.0) (0.7.0)\n",
      "Requirement already satisfied: pydantic-core==2.23.4 in c:\\users\\gaming\\appdata\\local\\programs\\python\\python312\\lib\\site-packages (from pydantic>=2.5.0->qiskit-ibm-runtime==0.26.0) (2.23.4)\n",
      "Requirement already satisfied: typing-extensions>=4.6.1 in c:\\users\\gaming\\appdata\\local\\programs\\python\\python312\\lib\\site-packages (from pydantic>=2.5.0->qiskit-ibm-runtime==0.26.0) (4.12.2)\n",
      "Requirement already satisfied: six>=1.5 in c:\\users\\gaming\\appdata\\roaming\\python\\python312\\site-packages (from python-dateutil>=2.8.0->qiskit-ibm-runtime==0.26.0) (1.17.0)\n",
      "Requirement already satisfied: rustworkx>=0.15.0 in c:\\users\\gaming\\appdata\\local\\programs\\python\\python312\\lib\\site-packages (from qiskit>=1.1.0->qiskit-ibm-runtime==0.26.0) (0.16.0)\n",
      "Requirement already satisfied: scipy>=1.5 in c:\\users\\gaming\\appdata\\local\\programs\\python\\python312\\lib\\site-packages (from qiskit>=1.1.0->qiskit-ibm-runtime==0.26.0) (1.15.2)\n",
      "Requirement already satisfied: sympy>=1.3 in c:\\users\\gaming\\appdata\\local\\programs\\python\\python312\\lib\\site-packages (from qiskit>=1.1.0->qiskit-ibm-runtime==0.26.0) (1.13.3)\n",
      "Requirement already satisfied: dill>=0.3 in c:\\users\\gaming\\appdata\\local\\programs\\python\\python312\\lib\\site-packages (from qiskit>=1.1.0->qiskit-ibm-runtime==0.26.0) (0.3.9)\n",
      "Requirement already satisfied: stevedore>=3.0.0 in c:\\users\\gaming\\appdata\\local\\programs\\python\\python312\\lib\\site-packages (from qiskit>=1.1.0->qiskit-ibm-runtime==0.26.0) (5.4.0)\n",
      "Requirement already satisfied: symengine<0.14,>=0.11 in c:\\users\\gaming\\appdata\\local\\programs\\python\\python312\\lib\\site-packages (from qiskit>=1.1.0->qiskit-ibm-runtime==0.26.0) (0.13.0)\n",
      "Requirement already satisfied: charset-normalizer<4,>=2 in c:\\users\\gaming\\appdata\\local\\programs\\python\\python312\\lib\\site-packages (from requests>=2.19->qiskit-ibm-runtime==0.26.0) (3.3.2)\n",
      "Requirement already satisfied: idna<4,>=2.5 in c:\\users\\gaming\\appdata\\local\\programs\\python\\python312\\lib\\site-packages (from requests>=2.19->qiskit-ibm-runtime==0.26.0) (3.10)\n",
      "Requirement already satisfied: certifi>=2017.4.17 in c:\\users\\gaming\\appdata\\local\\programs\\python\\python312\\lib\\site-packages (from requests>=2.19->qiskit-ibm-runtime==0.26.0) (2024.8.30)\n",
      "Requirement already satisfied: cryptography>=1.3 in c:\\users\\gaming\\appdata\\local\\programs\\python\\python312\\lib\\site-packages (from requests-ntlm>=1.1.0->qiskit-ibm-runtime==0.26.0) (44.0.1)\n",
      "Requirement already satisfied: pyspnego>=0.4.0 in c:\\users\\gaming\\appdata\\local\\programs\\python\\python312\\lib\\site-packages (from requests-ntlm>=1.1.0->qiskit-ibm-runtime==0.26.0) (0.11.2)\n",
      "Requirement already satisfied: cffi>=1.12 in c:\\users\\gaming\\appdata\\local\\programs\\python\\python312\\lib\\site-packages (from cryptography>=1.3->requests-ntlm>=1.1.0->qiskit-ibm-runtime==0.26.0) (1.17.1)\n",
      "Requirement already satisfied: PyJWT<3.0.0,>=2.8.0 in c:\\users\\gaming\\appdata\\local\\programs\\python\\python312\\lib\\site-packages (from ibm_cloud_sdk_core<4.0.0,>=3.22.0->ibm-platform-services>=0.22.6->qiskit-ibm-runtime==0.26.0) (2.10.1)\n",
      "Requirement already satisfied: sspilib>=0.1.0 in c:\\users\\gaming\\appdata\\local\\programs\\python\\python312\\lib\\site-packages (from pyspnego>=0.4.0->requests-ntlm>=1.1.0->qiskit-ibm-runtime==0.26.0) (0.2.0)\n",
      "Requirement already satisfied: pbr>=2.0.0 in c:\\users\\gaming\\appdata\\local\\programs\\python\\python312\\lib\\site-packages (from stevedore>=3.0.0->qiskit>=1.1.0->qiskit-ibm-runtime==0.26.0) (6.1.1)\n",
      "Requirement already satisfied: mpmath<1.4,>=1.1.0 in c:\\users\\gaming\\appdata\\local\\programs\\python\\python312\\lib\\site-packages (from sympy>=1.3->qiskit>=1.1.0->qiskit-ibm-runtime==0.26.0) (1.3.0)\n",
      "Requirement already satisfied: pycparser in c:\\users\\gaming\\appdata\\local\\programs\\python\\python312\\lib\\site-packages (from cffi>=1.12->cryptography>=1.3->requests-ntlm>=1.1.0->qiskit-ibm-runtime==0.26.0) (2.22)\n",
      "Requirement already satisfied: setuptools in c:\\users\\gaming\\appdata\\local\\programs\\python\\python312\\lib\\site-packages (from pbr>=2.0.0->stevedore>=3.0.0->qiskit>=1.1.0->qiskit-ibm-runtime==0.26.0) (75.8.0)\n",
      "Note: you may need to restart the kernel to use updated packages.\n"
     ]
    },
    {
     "name": "stderr",
     "output_type": "stream",
     "text": [
      "\n",
      "[notice] A new release of pip is available: 24.2 -> 25.0.1\n",
      "[notice] To update, run: python.exe -m pip install --upgrade pip\n"
     ]
    },
    {
     "name": "stdout",
     "output_type": "stream",
     "text": [
      "Requirement already satisfied: qiskit_experiments==0.7.0 in c:\\users\\gaming\\appdata\\local\\programs\\python\\python312\\lib\\site-packages (0.7.0)\n",
      "Requirement already satisfied: numpy>=1.17 in c:\\users\\gaming\\appdata\\local\\programs\\python\\python312\\lib\\site-packages (from qiskit_experiments==0.7.0) (2.2.3)\n",
      "Requirement already satisfied: scipy>=1.4 in c:\\users\\gaming\\appdata\\local\\programs\\python\\python312\\lib\\site-packages (from qiskit_experiments==0.7.0) (1.15.2)\n",
      "Requirement already satisfied: qiskit>=0.45 in c:\\users\\gaming\\appdata\\local\\programs\\python\\python312\\lib\\site-packages (from qiskit_experiments==0.7.0) (1.3.2)\n",
      "Requirement already satisfied: qiskit-ibm-experiment>=0.4.6 in c:\\users\\gaming\\appdata\\local\\programs\\python\\python312\\lib\\site-packages (from qiskit_experiments==0.7.0) (0.4.8)\n",
      "Requirement already satisfied: matplotlib>=3.4 in c:\\users\\gaming\\appdata\\local\\programs\\python\\python312\\lib\\site-packages (from qiskit_experiments==0.7.0) (3.8.4)\n",
      "Requirement already satisfied: uncertainties in c:\\users\\gaming\\appdata\\local\\programs\\python\\python312\\lib\\site-packages (from qiskit_experiments==0.7.0) (3.2.2)\n",
      "Requirement already satisfied: lmfit in c:\\users\\gaming\\appdata\\local\\programs\\python\\python312\\lib\\site-packages (from qiskit_experiments==0.7.0) (1.3.2)\n",
      "Requirement already satisfied: rustworkx in c:\\users\\gaming\\appdata\\local\\programs\\python\\python312\\lib\\site-packages (from qiskit_experiments==0.7.0) (0.16.0)\n",
      "Requirement already satisfied: pandas>=1.1.5 in c:\\users\\gaming\\appdata\\local\\programs\\python\\python312\\lib\\site-packages (from qiskit_experiments==0.7.0) (2.2.3)\n",
      "Requirement already satisfied: packaging in c:\\users\\gaming\\appdata\\roaming\\python\\python312\\site-packages (from qiskit_experiments==0.7.0) (24.2)\n",
      "Requirement already satisfied: contourpy>=1.0.1 in c:\\users\\gaming\\appdata\\local\\programs\\python\\python312\\lib\\site-packages (from matplotlib>=3.4->qiskit_experiments==0.7.0) (1.3.1)\n",
      "Requirement already satisfied: cycler>=0.10 in c:\\users\\gaming\\appdata\\local\\programs\\python\\python312\\lib\\site-packages (from matplotlib>=3.4->qiskit_experiments==0.7.0) (0.12.1)\n",
      "Requirement already satisfied: fonttools>=4.22.0 in c:\\users\\gaming\\appdata\\local\\programs\\python\\python312\\lib\\site-packages (from matplotlib>=3.4->qiskit_experiments==0.7.0) (4.56.0)\n",
      "Requirement already satisfied: kiwisolver>=1.3.1 in c:\\users\\gaming\\appdata\\local\\programs\\python\\python312\\lib\\site-packages (from matplotlib>=3.4->qiskit_experiments==0.7.0) (1.4.8)\n",
      "Requirement already satisfied: pillow>=8 in c:\\users\\gaming\\appdata\\local\\programs\\python\\python312\\lib\\site-packages (from matplotlib>=3.4->qiskit_experiments==0.7.0) (11.1.0)\n",
      "Requirement already satisfied: pyparsing>=2.3.1 in c:\\users\\gaming\\appdata\\local\\programs\\python\\python312\\lib\\site-packages (from matplotlib>=3.4->qiskit_experiments==0.7.0) (3.2.1)\n",
      "Requirement already satisfied: python-dateutil>=2.7 in c:\\users\\gaming\\appdata\\roaming\\python\\python312\\site-packages (from matplotlib>=3.4->qiskit_experiments==0.7.0) (2.9.0.post0)\n",
      "Requirement already satisfied: pytz>=2020.1 in c:\\users\\gaming\\appdata\\local\\programs\\python\\python312\\lib\\site-packages (from pandas>=1.1.5->qiskit_experiments==0.7.0) (2025.1)\n",
      "Requirement already satisfied: tzdata>=2022.7 in c:\\users\\gaming\\appdata\\local\\programs\\python\\python312\\lib\\site-packages (from pandas>=1.1.5->qiskit_experiments==0.7.0) (2025.1)\n",
      "Requirement already satisfied: sympy>=1.3 in c:\\users\\gaming\\appdata\\local\\programs\\python\\python312\\lib\\site-packages (from qiskit>=0.45->qiskit_experiments==0.7.0) (1.13.3)\n",
      "Requirement already satisfied: dill>=0.3 in c:\\users\\gaming\\appdata\\local\\programs\\python\\python312\\lib\\site-packages (from qiskit>=0.45->qiskit_experiments==0.7.0) (0.3.9)\n",
      "Requirement already satisfied: stevedore>=3.0.0 in c:\\users\\gaming\\appdata\\local\\programs\\python\\python312\\lib\\site-packages (from qiskit>=0.45->qiskit_experiments==0.7.0) (5.4.0)\n",
      "Requirement already satisfied: typing-extensions in c:\\users\\gaming\\appdata\\local\\programs\\python\\python312\\lib\\site-packages (from qiskit>=0.45->qiskit_experiments==0.7.0) (4.12.2)\n",
      "Requirement already satisfied: symengine<0.14,>=0.11 in c:\\users\\gaming\\appdata\\local\\programs\\python\\python312\\lib\\site-packages (from qiskit>=0.45->qiskit_experiments==0.7.0) (0.13.0)\n",
      "Requirement already satisfied: requests>=2.19 in c:\\users\\gaming\\appdata\\local\\programs\\python\\python312\\lib\\site-packages (from qiskit-ibm-experiment>=0.4.6->qiskit_experiments==0.7.0) (2.32.3)\n",
      "Requirement already satisfied: requests-ntlm>=1.1.0 in c:\\users\\gaming\\appdata\\local\\programs\\python\\python312\\lib\\site-packages (from qiskit-ibm-experiment>=0.4.6->qiskit_experiments==0.7.0) (1.3.0)\n",
      "Requirement already satisfied: urllib3>=1.21.1 in c:\\users\\gaming\\appdata\\local\\programs\\python\\python312\\lib\\site-packages (from qiskit-ibm-experiment>=0.4.6->qiskit_experiments==0.7.0) (2.2.3)\n",
      "Requirement already satisfied: websocket-client>=1.0.1 in c:\\users\\gaming\\appdata\\local\\programs\\python\\python312\\lib\\site-packages (from qiskit-ibm-experiment>=0.4.6->qiskit_experiments==0.7.0) (1.8.0)\n",
      "Requirement already satisfied: pyyaml>=6.0.0 in c:\\users\\gaming\\appdata\\local\\programs\\python\\python312\\lib\\site-packages (from qiskit-ibm-experiment>=0.4.6->qiskit_experiments==0.7.0) (6.0.2)\n",
      "Requirement already satisfied: asteval>=1.0 in c:\\users\\gaming\\appdata\\local\\programs\\python\\python312\\lib\\site-packages (from lmfit->qiskit_experiments==0.7.0) (1.0.6)\n",
      "Requirement already satisfied: six>=1.5 in c:\\users\\gaming\\appdata\\roaming\\python\\python312\\site-packages (from python-dateutil>=2.7->matplotlib>=3.4->qiskit_experiments==0.7.0) (1.17.0)\n",
      "Requirement already satisfied: charset-normalizer<4,>=2 in c:\\users\\gaming\\appdata\\local\\programs\\python\\python312\\lib\\site-packages (from requests>=2.19->qiskit-ibm-experiment>=0.4.6->qiskit_experiments==0.7.0) (3.3.2)\n",
      "Requirement already satisfied: idna<4,>=2.5 in c:\\users\\gaming\\appdata\\local\\programs\\python\\python312\\lib\\site-packages (from requests>=2.19->qiskit-ibm-experiment>=0.4.6->qiskit_experiments==0.7.0) (3.10)\n",
      "Requirement already satisfied: certifi>=2017.4.17 in c:\\users\\gaming\\appdata\\local\\programs\\python\\python312\\lib\\site-packages (from requests>=2.19->qiskit-ibm-experiment>=0.4.6->qiskit_experiments==0.7.0) (2024.8.30)\n",
      "Requirement already satisfied: cryptography>=1.3 in c:\\users\\gaming\\appdata\\local\\programs\\python\\python312\\lib\\site-packages (from requests-ntlm>=1.1.0->qiskit-ibm-experiment>=0.4.6->qiskit_experiments==0.7.0) (44.0.1)\n",
      "Requirement already satisfied: pyspnego>=0.4.0 in c:\\users\\gaming\\appdata\\local\\programs\\python\\python312\\lib\\site-packages (from requests-ntlm>=1.1.0->qiskit-ibm-experiment>=0.4.6->qiskit_experiments==0.7.0) (0.11.2)\n",
      "Requirement already satisfied: pbr>=2.0.0 in c:\\users\\gaming\\appdata\\local\\programs\\python\\python312\\lib\\site-packages (from stevedore>=3.0.0->qiskit>=0.45->qiskit_experiments==0.7.0) (6.1.1)\n",
      "Requirement already satisfied: mpmath<1.4,>=1.1.0 in c:\\users\\gaming\\appdata\\local\\programs\\python\\python312\\lib\\site-packages (from sympy>=1.3->qiskit>=0.45->qiskit_experiments==0.7.0) (1.3.0)\n",
      "Requirement already satisfied: cffi>=1.12 in c:\\users\\gaming\\appdata\\local\\programs\\python\\python312\\lib\\site-packages (from cryptography>=1.3->requests-ntlm>=1.1.0->qiskit-ibm-experiment>=0.4.6->qiskit_experiments==0.7.0) (1.17.1)\n",
      "Requirement already satisfied: setuptools in c:\\users\\gaming\\appdata\\local\\programs\\python\\python312\\lib\\site-packages (from pbr>=2.0.0->stevedore>=3.0.0->qiskit>=0.45->qiskit_experiments==0.7.0) (75.8.0)\n",
      "Requirement already satisfied: sspilib>=0.1.0 in c:\\users\\gaming\\appdata\\local\\programs\\python\\python312\\lib\\site-packages (from pyspnego>=0.4.0->requests-ntlm>=1.1.0->qiskit-ibm-experiment>=0.4.6->qiskit_experiments==0.7.0) (0.2.0)\n",
      "Requirement already satisfied: pycparser in c:\\users\\gaming\\appdata\\local\\programs\\python\\python312\\lib\\site-packages (from cffi>=1.12->cryptography>=1.3->requests-ntlm>=1.1.0->qiskit-ibm-experiment>=0.4.6->qiskit_experiments==0.7.0) (2.22)\n",
      "Note: you may need to restart the kernel to use updated packages.\n"
     ]
    },
    {
     "name": "stderr",
     "output_type": "stream",
     "text": [
      "\n",
      "[notice] A new release of pip is available: 24.2 -> 25.0.1\n",
      "[notice] To update, run: python.exe -m pip install --upgrade pip\n"
     ]
    },
    {
     "name": "stdout",
     "output_type": "stream",
     "text": [
      "Requirement already satisfied: matplotlib==3.8.4 in c:\\users\\gaming\\appdata\\local\\programs\\python\\python312\\lib\\site-packages (3.8.4)\n",
      "Requirement already satisfied: contourpy>=1.0.1 in c:\\users\\gaming\\appdata\\local\\programs\\python\\python312\\lib\\site-packages (from matplotlib==3.8.4) (1.3.1)\n",
      "Requirement already satisfied: cycler>=0.10 in c:\\users\\gaming\\appdata\\local\\programs\\python\\python312\\lib\\site-packages (from matplotlib==3.8.4) (0.12.1)\n",
      "Requirement already satisfied: fonttools>=4.22.0 in c:\\users\\gaming\\appdata\\local\\programs\\python\\python312\\lib\\site-packages (from matplotlib==3.8.4) (4.56.0)\n",
      "Requirement already satisfied: kiwisolver>=1.3.1 in c:\\users\\gaming\\appdata\\local\\programs\\python\\python312\\lib\\site-packages (from matplotlib==3.8.4) (1.4.8)\n",
      "Requirement already satisfied: numpy>=1.21 in c:\\users\\gaming\\appdata\\local\\programs\\python\\python312\\lib\\site-packages (from matplotlib==3.8.4) (2.2.3)\n",
      "Requirement already satisfied: packaging>=20.0 in c:\\users\\gaming\\appdata\\roaming\\python\\python312\\site-packages (from matplotlib==3.8.4) (24.2)\n",
      "Requirement already satisfied: pillow>=8 in c:\\users\\gaming\\appdata\\local\\programs\\python\\python312\\lib\\site-packages (from matplotlib==3.8.4) (11.1.0)\n",
      "Requirement already satisfied: pyparsing>=2.3.1 in c:\\users\\gaming\\appdata\\local\\programs\\python\\python312\\lib\\site-packages (from matplotlib==3.8.4) (3.2.1)\n",
      "Requirement already satisfied: python-dateutil>=2.7 in c:\\users\\gaming\\appdata\\roaming\\python\\python312\\site-packages (from matplotlib==3.8.4) (2.9.0.post0)\n",
      "Requirement already satisfied: six>=1.5 in c:\\users\\gaming\\appdata\\roaming\\python\\python312\\site-packages (from python-dateutil>=2.7->matplotlib==3.8.4) (1.17.0)\n",
      "Note: you may need to restart the kernel to use updated packages.\n"
     ]
    },
    {
     "name": "stderr",
     "output_type": "stream",
     "text": [
      "\n",
      "[notice] A new release of pip is available: 24.2 -> 25.0.1\n",
      "[notice] To update, run: python.exe -m pip install --upgrade pip\n"
     ]
    },
    {
     "name": "stdout",
     "output_type": "stream",
     "text": [
      "Requirement already satisfied: pylatexenc==2.10 in c:\\users\\gaming\\appdata\\local\\programs\\python\\python312\\lib\\site-packages (2.10)\n",
      "Note: you may need to restart the kernel to use updated packages.\n"
     ]
    },
    {
     "name": "stderr",
     "output_type": "stream",
     "text": [
      "\n",
      "[notice] A new release of pip is available: 24.2 -> 25.0.1\n",
      "[notice] To update, run: python.exe -m pip install --upgrade pip\n"
     ]
    },
    {
     "name": "stdout",
     "output_type": "stream",
     "text": [
      "Requirement already satisfied: seaborn==0.13.2 in c:\\users\\gaming\\appdata\\local\\programs\\python\\python312\\lib\\site-packages (0.13.2)\n",
      "Requirement already satisfied: numpy!=1.24.0,>=1.20 in c:\\users\\gaming\\appdata\\local\\programs\\python\\python312\\lib\\site-packages (from seaborn==0.13.2) (2.2.3)\n",
      "Requirement already satisfied: pandas>=1.2 in c:\\users\\gaming\\appdata\\local\\programs\\python\\python312\\lib\\site-packages (from seaborn==0.13.2) (2.2.3)\n",
      "Requirement already satisfied: matplotlib!=3.6.1,>=3.4 in c:\\users\\gaming\\appdata\\local\\programs\\python\\python312\\lib\\site-packages (from seaborn==0.13.2) (3.8.4)\n",
      "Requirement already satisfied: contourpy>=1.0.1 in c:\\users\\gaming\\appdata\\local\\programs\\python\\python312\\lib\\site-packages (from matplotlib!=3.6.1,>=3.4->seaborn==0.13.2) (1.3.1)\n",
      "Requirement already satisfied: cycler>=0.10 in c:\\users\\gaming\\appdata\\local\\programs\\python\\python312\\lib\\site-packages (from matplotlib!=3.6.1,>=3.4->seaborn==0.13.2) (0.12.1)\n",
      "Requirement already satisfied: fonttools>=4.22.0 in c:\\users\\gaming\\appdata\\local\\programs\\python\\python312\\lib\\site-packages (from matplotlib!=3.6.1,>=3.4->seaborn==0.13.2) (4.56.0)\n",
      "Requirement already satisfied: kiwisolver>=1.3.1 in c:\\users\\gaming\\appdata\\local\\programs\\python\\python312\\lib\\site-packages (from matplotlib!=3.6.1,>=3.4->seaborn==0.13.2) (1.4.8)\n",
      "Requirement already satisfied: packaging>=20.0 in c:\\users\\gaming\\appdata\\roaming\\python\\python312\\site-packages (from matplotlib!=3.6.1,>=3.4->seaborn==0.13.2) (24.2)\n",
      "Requirement already satisfied: pillow>=8 in c:\\users\\gaming\\appdata\\local\\programs\\python\\python312\\lib\\site-packages (from matplotlib!=3.6.1,>=3.4->seaborn==0.13.2) (11.1.0)\n",
      "Requirement already satisfied: pyparsing>=2.3.1 in c:\\users\\gaming\\appdata\\local\\programs\\python\\python312\\lib\\site-packages (from matplotlib!=3.6.1,>=3.4->seaborn==0.13.2) (3.2.1)\n",
      "Requirement already satisfied: python-dateutil>=2.7 in c:\\users\\gaming\\appdata\\roaming\\python\\python312\\site-packages (from matplotlib!=3.6.1,>=3.4->seaborn==0.13.2) (2.9.0.post0)\n",
      "Requirement already satisfied: pytz>=2020.1 in c:\\users\\gaming\\appdata\\local\\programs\\python\\python312\\lib\\site-packages (from pandas>=1.2->seaborn==0.13.2) (2025.1)\n",
      "Requirement already satisfied: tzdata>=2022.7 in c:\\users\\gaming\\appdata\\local\\programs\\python\\python312\\lib\\site-packages (from pandas>=1.2->seaborn==0.13.2) (2025.1)\n",
      "Requirement already satisfied: six>=1.5 in c:\\users\\gaming\\appdata\\roaming\\python\\python312\\site-packages (from python-dateutil>=2.7->matplotlib!=3.6.1,>=3.4->seaborn==0.13.2) (1.17.0)\n",
      "Note: you may need to restart the kernel to use updated packages.\n"
     ]
    },
    {
     "name": "stderr",
     "output_type": "stream",
     "text": [
      "\n",
      "[notice] A new release of pip is available: 24.2 -> 25.0.1\n",
      "[notice] To update, run: python.exe -m pip install --upgrade pip\n"
     ]
    }
   ],
   "source": [
    "%pip install qiskit-aer==0.16.1\n",
    "%pip install qiskit==1.3.2\n",
    "%pip install qiskit-ibm-runtime==0.26.0\n",
    "%pip install qiskit_experiments==0.7.0\n",
    "%pip install matplotlib==3.8.4\n",
    "%pip install pylatexenc==2.10\n",
    "%pip install seaborn==0.13.2"
   ]
  },
  {
   "cell_type": "code",
   "execution_count": 3,
   "metadata": {},
   "outputs": [],
   "source": [
    "from qiskit import QuantumCircuit, transpile, QuantumRegister, ClassicalRegister\n",
    "from qiskit.providers.basic_provider import BasicSimulator\n",
    "from qiskit_aer import AerSimulator, QasmSimulator, StatevectorSimulator\n",
    "from qiskit_experiments.library import ProcessTomography\n",
    "from qiskit.visualization import plot_bloch_multivector, array_to_latex\n",
    "from qiskit.quantum_info import partial_trace, Statevector, DensityMatrix, StabilizerState, purity, Choi, process_fidelity"
   ]
  },
  {
   "cell_type": "markdown",
   "metadata": {},
   "source": [
    "<h3>Basic Examples</h3>"
   ]
  },
  {
   "cell_type": "markdown",
   "metadata": {},
   "source": [
    "<h5> Init circuit </h5>"
   ]
  },
  {
   "cell_type": "code",
   "execution_count": null,
   "metadata": {
    "notebookRunGroups": {
     "groupValue": "2"
    }
   },
   "outputs": [
    {
     "data": {
      "text/plain": [
       "<qiskit.circuit.instructionset.InstructionSet at 0x1f35d01aad0>"
      ]
     },
     "execution_count": 3,
     "metadata": {},
     "output_type": "execute_result"
    }
   ],
   "source": [
    "qc_1 = QuantumCircuit(1)\n",
    "qc_1.x(0) # Create |1> state\n",
    "\n",
    "qc_plus = QuantumCircuit(1)\n",
    "qc_plus.h(0) # Create |+> state"
   ]
  },
  {
   "cell_type": "markdown",
   "metadata": {},
   "source": [
    "<h5> Ket rapresentation </h5>"
   ]
  },
  {
   "cell_type": "code",
   "execution_count": null,
   "metadata": {},
   "outputs": [
    {
     "data": {
      "text/latex": [
       "$$ |1\\rangle$$"
      ],
      "text/plain": [
       "<IPython.core.display.Latex object>"
      ]
     },
     "execution_count": 4,
     "metadata": {},
     "output_type": "execute_result"
    }
   ],
   "source": [
    "state_vector = Statevector(qc_1)\n",
    "state_vector.draw('latex')"
   ]
  },
  {
   "cell_type": "code",
   "execution_count": null,
   "metadata": {},
   "outputs": [
    {
     "data": {
      "text/latex": [
       "$$\\frac{\\sqrt{2}}{2} |0\\rangle+\\frac{\\sqrt{2}}{2} |1\\rangle$$"
      ],
      "text/plain": [
       "<IPython.core.display.Latex object>"
      ]
     },
     "execution_count": 5,
     "metadata": {},
     "output_type": "execute_result"
    }
   ],
   "source": [
    "state_vector = Statevector(qc_plus)\n",
    "state_vector.draw('latex')"
   ]
  },
  {
   "cell_type": "markdown",
   "metadata": {},
   "source": [
    "<h5> Density matrix rapresentation </h5>"
   ]
  },
  {
   "cell_type": "code",
   "execution_count": null,
   "metadata": {},
   "outputs": [
    {
     "name": "stdout",
     "output_type": "stream",
     "text": [
      "Density Matrix Representation:\n"
     ]
    },
    {
     "data": {
      "text/latex": [
       "$$\n",
       "\n",
       "\\begin{bmatrix}\n",
       "0 & 0  \\\\\n",
       " 0 & 1  \\\\\n",
       " \\end{bmatrix}\n",
       "$$"
      ],
      "text/plain": [
       "<IPython.core.display.Latex object>"
      ]
     },
     "execution_count": 6,
     "metadata": {},
     "output_type": "execute_result"
    }
   ],
   "source": [
    "print(\"Density Matrix Representation:\")\n",
    "\n",
    "density_matrix = DensityMatrix(qc_1)\n",
    "density_matrix.draw('latex')"
   ]
  },
  {
   "cell_type": "code",
   "execution_count": null,
   "metadata": {},
   "outputs": [
    {
     "data": {
      "text/latex": [
       "$$\n",
       "\n",
       "\\begin{bmatrix}\n",
       "\\frac{1}{2} & \\frac{1}{2}  \\\\\n",
       " \\frac{1}{2} & \\frac{1}{2}  \\\\\n",
       " \\end{bmatrix}\n",
       "$$"
      ],
      "text/plain": [
       "<IPython.core.display.Latex object>"
      ]
     },
     "execution_count": 7,
     "metadata": {},
     "output_type": "execute_result"
    }
   ],
   "source": [
    "density_matrix = DensityMatrix(qc_plus)\n",
    "density_matrix.draw('latex')"
   ]
  },
  {
   "cell_type": "markdown",
   "metadata": {},
   "source": [
    "<h5> Stabilizer rapresentation </h5>"
   ]
  },
  {
   "cell_type": "code",
   "execution_count": null,
   "metadata": {},
   "outputs": [
    {
     "name": "stdout",
     "output_type": "stream",
     "text": [
      "StabilizerState(['-Z'])\n",
      "StabilizerState(['+X'])\n"
     ]
    }
   ],
   "source": [
    "stabilizer_state = StabilizerState(qc_1)\n",
    "print(stabilizer_state)"
   ]
  },
  {
   "cell_type": "code",
   "execution_count": null,
   "metadata": {},
   "outputs": [
    {
     "name": "stdout",
     "output_type": "stream",
     "text": [
      "StabilizerState(['+X'])\n"
     ]
    }
   ],
   "source": [
    "stabilizer_state = StabilizerState(qc_plus)\n",
    "print(stabilizer_state)"
   ]
  },
  {
   "cell_type": "markdown",
   "metadata": {},
   "source": [
    "<h2> State space growht </h2>"
   ]
  },
  {
   "cell_type": "code",
   "execution_count": null,
   "metadata": {},
   "outputs": [
    {
     "data": {
      "text/plain": [
       "<qiskit.circuit.instructionset.InstructionSet at 0x1f33c9eb100>"
      ]
     },
     "execution_count": 9,
     "metadata": {},
     "output_type": "execute_result"
    }
   ],
   "source": [
    "# init circutis\n",
    "\n",
    "qc_phi_plus = QuantumCircuit(2)\n",
    "qc_phi_plus.h(0)\n",
    "qc_phi_plus.cx(0,1)\n",
    "\n",
    "qc_ghz = QuantumCircuit(3)\n",
    "qc_ghz.h(0)\n",
    "qc_ghz.cx(0,1)\n",
    "qc_ghz.cx(0,2)"
   ]
  },
  {
   "cell_type": "markdown",
   "metadata": {},
   "source": [
    "<h5> Density Matrix </h5> 2^n x 2^n matrix"
   ]
  },
  {
   "cell_type": "code",
   "execution_count": null,
   "metadata": {},
   "outputs": [
    {
     "name": "stdout",
     "output_type": "stream",
     "text": [
      "4\n"
     ]
    },
    {
     "data": {
      "text/latex": [
       "$$\n",
       "\n",
       "\\begin{bmatrix}\n",
       "\\frac{1}{2} & 0 & 0 & \\frac{1}{2}  \\\\\n",
       " 0 & 0 & 0 & 0  \\\\\n",
       " 0 & 0 & 0 & 0  \\\\\n",
       " \\frac{1}{2} & 0 & 0 & \\frac{1}{2}  \\\\\n",
       " \\end{bmatrix}\n",
       "$$"
      ],
      "text/plain": [
       "<IPython.core.display.Latex object>"
      ]
     },
     "execution_count": 10,
     "metadata": {},
     "output_type": "execute_result"
    }
   ],
   "source": [
    "density_matrix = DensityMatrix(qc_phi_plus)\n",
    "print(density_matrix.dim)\n",
    "density_matrix.draw('latex')"
   ]
  },
  {
   "cell_type": "code",
   "execution_count": null,
   "metadata": {},
   "outputs": [
    {
     "name": "stdout",
     "output_type": "stream",
     "text": [
      "8\n"
     ]
    },
    {
     "data": {
      "text/latex": [
       "$$\n",
       "\n",
       "\\begin{bmatrix}\n",
       "\\frac{1}{2} & 0 & 0 & 0 & 0 & 0 & 0 & \\frac{1}{2}  \\\\\n",
       " 0 & 0 & 0 & 0 & 0 & 0 & 0 & 0  \\\\\n",
       " 0 & 0 & 0 & 0 & 0 & 0 & 0 & 0  \\\\\n",
       " 0 & 0 & 0 & 0 & 0 & 0 & 0 & 0  \\\\\n",
       " 0 & 0 & 0 & 0 & 0 & 0 & 0 & 0  \\\\\n",
       " 0 & 0 & 0 & 0 & 0 & 0 & 0 & 0  \\\\\n",
       " 0 & 0 & 0 & 0 & 0 & 0 & 0 & 0  \\\\\n",
       " \\frac{1}{2} & 0 & 0 & 0 & 0 & 0 & 0 & \\frac{1}{2}  \\\\\n",
       " \\end{bmatrix}\n",
       "$$"
      ],
      "text/plain": [
       "<IPython.core.display.Latex object>"
      ]
     },
     "execution_count": 11,
     "metadata": {},
     "output_type": "execute_result"
    }
   ],
   "source": [
    "density_matrix = DensityMatrix(qc_ghz)\n",
    "print(density_matrix.dim)\n",
    "density_matrix.draw('latex')"
   ]
  },
  {
   "cell_type": "markdown",
   "metadata": {},
   "source": [
    "<h5> Stabilizer </h5>\n",
    "only n generators"
   ]
  },
  {
   "cell_type": "code",
   "execution_count": null,
   "metadata": {},
   "outputs": [
    {
     "name": "stdout",
     "output_type": "stream",
     "text": [
      "StabilizerState(['+XX', '+ZZ'])\n"
     ]
    }
   ],
   "source": [
    "stabilizer_state = StabilizerState(qc_phi_plus)\n",
    "print(stabilizer_state)"
   ]
  },
  {
   "cell_type": "code",
   "execution_count": null,
   "metadata": {},
   "outputs": [
    {
     "name": "stdout",
     "output_type": "stream",
     "text": [
      "StabilizerState(['+XXX', '+IZZ', '+ZIZ'])\n"
     ]
    }
   ],
   "source": [
    "stabilizer_state = StabilizerState(qc_ghz)\n",
    "print(stabilizer_state)"
   ]
  },
  {
   "cell_type": "markdown",
   "metadata": {},
   "source": [
    "<h2>Mixed State</h2> purity always != 1"
   ]
  },
  {
   "cell_type": "code",
   "execution_count": null,
   "metadata": {},
   "outputs": [
    {
     "name": "stdout",
     "output_type": "stream",
     "text": [
      "Purity (0.75+0j)\n"
     ]
    },
    {
     "data": {
      "text/latex": [
       "$$\n",
       "\n",
       "\\begin{bmatrix}\n",
       "\\frac{1}{4} & \\frac{1}{4}  \\\\\n",
       " \\frac{1}{4} & \\frac{3}{4}  \\\\\n",
       " \\end{bmatrix}\n",
       "$$"
      ],
      "text/plain": [
       "<IPython.core.display.Latex object>"
      ]
     },
     "execution_count": 14,
     "metadata": {},
     "output_type": "execute_result"
    }
   ],
   "source": [
    "# Directly setup mixed state\n",
    "\n",
    "mixed_state = (\n",
    "    1/2 * DensityMatrix(qc_1)\n",
    "    +\n",
    "    1/2 * DensityMatrix(qc_plus)\n",
    ")\n",
    "\n",
    "print(f\"Purity {purity(mixed_state)}\")\n",
    "mixed_state.draw('latex')\n",
    "\n"
   ]
  },
  {
   "cell_type": "code",
   "execution_count": null,
   "metadata": {},
   "outputs": [
    {
     "name": "stdout",
     "output_type": "stream",
     "text": [
      "Purity (0.4999999999999998+0j)\n"
     ]
    },
    {
     "data": {
      "text/latex": [
       "$$\n",
       "\n",
       "\\begin{bmatrix}\n",
       "\\frac{1}{2} & 0  \\\\\n",
       " 0 & \\frac{1}{2}  \\\\\n",
       " \\end{bmatrix}\n",
       "$$"
      ],
      "text/plain": [
       "<IPython.core.display.Latex object>"
      ]
     },
     "execution_count": 15,
     "metadata": {},
     "output_type": "execute_result"
    }
   ],
   "source": [
    "# Get mixed state as partial trace of entangled system\n",
    "qc_mixed = QuantumCircuit(2)\n",
    "qc_mixed.h(0)\n",
    "qc_mixed.cx(0, 1)\n",
    "\n",
    "mixed_state = partial_trace(Statevector.from_instruction(qc_mixed), [0])\n",
    "print(f\"Purity {purity(mixed_state)}\")\n",
    "mixed_state.draw('latex')"
   ]
  },
  {
   "cell_type": "code",
   "execution_count": null,
   "metadata": {},
   "outputs": [
    {
     "name": "stdout",
     "output_type": "stream",
     "text": [
      "Conversion to StabilizerState failed: 'Density matrix is not a pure state'\n"
     ]
    }
   ],
   "source": [
    "# Try stabilizer rapresentation\n",
    "try:\n",
    "    stabilizer_state = StabilizerState(mixed_state.to_statevector())\n",
    "except Exception as e:\n",
    "    print(f\"Conversion to StabilizerState failed: {e}\")"
   ]
  },
  {
   "cell_type": "markdown",
   "metadata": {},
   "source": [
    "Non Clifford Circuit"
   ]
  },
  {
   "cell_type": "code",
   "execution_count": null,
   "metadata": {},
   "outputs": [
    {
     "data": {
      "text/plain": [
       "<qiskit.circuit.instructionset.InstructionSet at 0x1f33c32b5e0>"
      ]
     },
     "execution_count": 17,
     "metadata": {},
     "output_type": "execute_result"
    }
   ],
   "source": [
    "qc_non_clifford = QuantumCircuit(2)\n",
    "qc_non_clifford.h(0)\n",
    "qc_non_clifford.tdg(0) # non clifford gate\n",
    "qc_non_clifford.cx(0, 1)"
   ]
  },
  {
   "cell_type": "code",
   "execution_count": null,
   "metadata": {},
   "outputs": [
    {
     "data": {
      "text/latex": [
       "$$\n",
       "\n",
       "\\begin{bmatrix}\n",
       "\\frac{1}{2} & 0 & 0 & \\frac{\\sqrt{2}}{4} + \\frac{\\sqrt{2} i}{4}  \\\\\n",
       " 0 & 0 & 0 & 0  \\\\\n",
       " 0 & 0 & 0 & 0  \\\\\n",
       " \\frac{\\sqrt{2}}{4} - \\frac{\\sqrt{2} i}{4} & 0 & 0 & \\frac{1}{2}  \\\\\n",
       " \\end{bmatrix}\n",
       "$$"
      ],
      "text/plain": [
       "<IPython.core.display.Latex object>"
      ]
     },
     "execution_count": 18,
     "metadata": {},
     "output_type": "execute_result"
    }
   ],
   "source": [
    "DensityMatrix(qc_non_clifford).draw('latex')"
   ]
  },
  {
   "cell_type": "code",
   "execution_count": null,
   "metadata": {},
   "outputs": [
    {
     "name": "stdout",
     "output_type": "stream",
     "text": [
      "Error using stabilizer formalism: 'Cannot update Clifford with non-Clifford gate tdg'\n"
     ]
    }
   ],
   "source": [
    "try:\n",
    "    StabilizerState(qc_non_clifford)\n",
    "except Exception as e:\n",
    "    print(f\"Error using stabilizer formalism: {e}\")"
   ]
  },
  {
   "cell_type": "markdown",
   "metadata": {},
   "source": [
    "---"
   ]
  },
  {
   "cell_type": "markdown",
   "metadata": {},
   "source": [
    "<h2>Benchmarks</h2>"
   ]
  },
  {
   "cell_type": "markdown",
   "metadata": {},
   "source": [
    "<h4>Clifford circuits benchmark</h4> only H - S - CNOT"
   ]
  },
  {
   "cell_type": "markdown",
   "metadata": {},
   "source": [
    "<h5>Testbench circuit & configuration</h5>"
   ]
  },
  {
   "cell_type": "code",
   "execution_count": null,
   "metadata": {},
   "outputs": [],
   "source": [
    "shots = 5 # number of simulations"
   ]
  },
  {
   "cell_type": "code",
   "execution_count": null,
   "metadata": {},
   "outputs": [
    {
     "data": {
      "image/png": "[encoded data removed]",
      "text/plain": [
       "<Figure size 998.442x451.5 with 1 Axes>"
      ]
     },
     "execution_count": 22,
     "metadata": {},
     "output_type": "execute_result"
    }
   ],
   "source": [
    "qc_1 = QuantumCircuit(4)\n",
    "\n",
    "# Layer 1\n",
    "qc_1.h(0)\n",
    "qc_1.s(1)\n",
    "qc_1.s(2)\n",
    "qc_1.h(3)\n",
    "\n",
    "# Layer 2\n",
    "qc_1.h(1)\n",
    "qc_1.s(3)\n",
    "\n",
    "# Layer 3\n",
    "qc_1.cx(0, 1)\n",
    "qc_1.cx(2, 3)\n",
    "\n",
    "# Layer 4\n",
    "qc_1.cx(1, 3)\n",
    "qc_1.s(0)\n",
    "\n",
    "# Layer 5\n",
    "qc_1.s(3)\n",
    "\n",
    "qc_1.measure_all()\n",
    "\n",
    "qc_1.draw('mpl')"
   ]
  },
  {
   "cell_type": "code",
   "execution_count": null,
   "metadata": {},
   "outputs": [
    {
     "data": {
      "image/png": "[encoded data removed]",
      "text/plain": [
       "<Figure size 1667.33x785.944 with 1 Axes>"
      ]
     },
     "execution_count": 23,
     "metadata": {},
     "output_type": "execute_result"
    }
   ],
   "source": [
    "qc_2 = QuantumCircuit(8)\n",
    "\n",
    "# Layer 1\n",
    "qc_2.h(0)\n",
    "qc_2.s(1)\n",
    "qc_2.s(2)\n",
    "qc_2.h(3)\n",
    "qc_2.s(5)\n",
    "qc_2.h(6)\n",
    "\n",
    "# Layer 2\n",
    "qc_2.h(1)\n",
    "qc_2.s(3)\n",
    "qc_2.cx(2, 4)\n",
    "qc_2.cx(5, 6)\n",
    "\n",
    "# Layer 3\n",
    "qc_2.cx(6, 3)\n",
    "qc_2.cx(5, 4)\n",
    "qc_2.s(0)\n",
    "\n",
    "# Layer 4\n",
    "qc_2.cx(0, 5)\n",
    "qc_2.s(7)\n",
    "\n",
    "# Layer 5\n",
    "qc_2.s(3)\n",
    "qc_2.s(7)\n",
    "qc_2.h(5)\n",
    "\n",
    "qc_2.cx(6, 1)\n",
    "qc_2.cx(2, 4)\n",
    "qc_2.h(5)\n",
    "qc_2.s(2)\n",
    "qc_2.s(6)\n",
    "\n",
    "qc_2.measure_all()\n",
    "\n",
    "qc_2.draw('mpl')"
   ]
  },
  {
   "cell_type": "code",
   "execution_count": null,
   "metadata": {},
   "outputs": [
    {
     "data": {
      "image/png": "[encoded data removed]",
      "text/plain": [
       "<Figure size 1918.16x785.944 with 1 Axes>"
      ]
     },
     "execution_count": 24,
     "metadata": {},
     "output_type": "execute_result"
    }
   ],
   "source": [
    "qc_4 = QuantumCircuit(8)\n",
    "\n",
    "# Layer 1\n",
    "qc_4.tdg(0)\n",
    "qc_4.h(0)\n",
    "qc_4.s(1)\n",
    "qc_4.y(1)\n",
    "qc_4.s(2)\n",
    "qc_4.z(2)\n",
    "qc_4.h(3)\n",
    "qc_4.s(5)\n",
    "qc_4.z(5)\n",
    "qc_4.h(6)\n",
    "\n",
    "# Layer 2\n",
    "qc_4.h(1)\n",
    "qc_4.s(3)\n",
    "qc_4.cx(2, 4)\n",
    "qc_4.cx(5, 6)\n",
    "qc_4.cz(5, 6)\n",
    "\n",
    "# Layer 3\n",
    "qc_4.cx(6, 3)\n",
    "qc_4.cz(6, 3)\n",
    "qc_4.cx(5, 4)\n",
    "qc_4.s(0)\n",
    "qc_4.z(0)\n",
    "\n",
    "# Layer 4\n",
    "qc_4.cx(0, 5)\n",
    "qc_4.s(7)\n",
    "qc_4.t(7)\n",
    "\n",
    "# Layer 5\n",
    "qc_4.s(3)\n",
    "qc_4.s(7)\n",
    "qc_4.h(5)\n",
    "\n",
    "qc_4.cx(6, 1)\n",
    "qc_4.cx(2, 4)\n",
    "qc_4.tdg(5)\n",
    "qc_4.s(2)\n",
    "qc_4.s(6)\n",
    "\n",
    "qc_4.measure_all()\n",
    "\n",
    "qc_4.draw('mpl')"
   ]
  },
  {
   "cell_type": "code",
   "execution_count": null,
   "metadata": {},
   "outputs": [],
   "source": [
    "# Random clifford circuit generator qc_3\n",
    "import random\n",
    "\n",
    "\n",
    "def random_clifford_circuit(n, depth):\n",
    "    qc = QuantumCircuit(n)\n",
    "    for _ in range(depth):\n",
    "        for q in range(n):\n",
    "            if random.choice([True, False]):\n",
    "                qc.h(q)\n",
    "            else:\n",
    "                qc.s(q)\n",
    "        # Add some entangling gates\n",
    "        for i in range(n - 1):\n",
    "            qc.cx(i, i + 1)\n",
    "        \n",
    "        qc.measure_all()\n",
    "    return qc\n",
    "\n",
    "# qc_3 = random_clifford_circuit(35, 20000)\n",
    "qc_3 = random_clifford_circuit(60, 50)\n",
    "# qc_3 = random_clifford_circuit(1000, 800)\n",
    "# qc_3.draw('mpl')"
   ]
  },
  {
   "cell_type": "code",
   "execution_count": null,
   "metadata": {},
   "outputs": [],
   "source": [
    "# qc_to_benchmark = qc\n",
    "# qc_to_benchmark = qc_2\n",
    "qc_to_benchmark = qc_3\n",
    "# qc_to_benchmark = qc_4\n",
    "\n",
    "#TODO: La simulazione automaticamente sceglie sempre l'approccio migliore"
   ]
  },
  {
   "cell_type": "markdown",
   "metadata": {},
   "source": [
    "<h5>Density benchmark</h5>"
   ]
  },
  {
   "cell_type": "code",
   "execution_count": null,
   "metadata": {},
   "outputs": [
    {
     "name": "stderr",
     "output_type": "stream",
     "text": [
      "Simulation failed and returned the following error message:\n",
      "ERROR:  [Experiment 0] a circuit requires more memory than max_memory_mb.\n"
     ]
    },
    {
     "name": "stdout",
     "output_type": "stream",
     "text": [
      "Result(backend_name='aer_simulator_density_matrix', backend_version='0.16.1', qobj_id='', job_id='a46478fa-0d58-4942-b52c-d2b995c01da9', success=False, results=[ExperimentResult(shots=0, success=False, meas_level=2, data=ExperimentResultData(), status=ERROR: a circuit requires more memory than max_memory_mb., circ_id=0, seed_simulator=0, metadata={'required_memory_mb': 18446744073709551615}, time_taken=0.0)], date=2025-02-28T21:37:00.366595, status=ERROR:  [Experiment 0] a circuit requires more memory than max_memory_mb., header=None, metadata={'omp_enabled': True, 'parallel_experiments': 1, 'max_memory_mb': 16322, 'max_gpu_memory_mb': 0, 'time_taken_execute': 0.0005937, 'time_taken_parameter_binding': 0.0015585}, time_taken=0.1972975730895996)\n",
      "error during density matrix simulation\n",
      "ERROR:  [Experiment 0] a circuit requires more memory than max_memory_mb.\n"
     ]
    }
   ],
   "source": [
    "simulator_density = AerSimulator(method=\"density_matrix\") \n",
    "try:\n",
    "    # Run the circuit simulation\n",
    "    job = simulator_density.run(qc_to_benchmark, shots=shots)\n",
    "    result = job.result()\n",
    "    print(result)\n",
    "\n",
    "    print(f\"Method used: {result.results[0].metadata['method']}\")\n",
    "    print(f\"Total time: {result.time_taken}\")\n",
    "\n",
    "    # counts = result.get_counts(qc_to_benchmark)\n",
    "    # print(counts)\n",
    "except Exception as e:\n",
    "    print(\"error during density matrix simulation\")\n",
    "    print(result.status)\n",
    "\n",
    "\n"
   ]
  },
  {
   "cell_type": "markdown",
   "metadata": {},
   "source": [
    "<h5>Stabilizer benchmark</h5>"
   ]
  },
  {
   "cell_type": "code",
   "execution_count": null,
   "metadata": {},
   "outputs": [
    {
     "name": "stdout",
     "output_type": "stream",
     "text": [
      "Result(backend_name='aer_simulator_stabilizer', backend_version='0.16.1', qobj_id='', job_id='249e8555-63d1-47c4-a631-fe7c0f34ca7d', success=True, results=[ExperimentResult(shots=5, success=True, meas_level=2, data=ExperimentResultData(counts={'0x5b3510faeff8806678f1197385894aa8b1b2bdc9f91ffbb9305625323ac9c4d48de6f5f4e4d4914b62f1635097081d9a31365f9b21c96bceb904b6f623fb495c09fd91f6c1ccfc6d222bc1966541017c42e43382daf039c82ac5ccf7f6223427b48151e8f562674dc4333780a36a89669d45889649e0aa9b7de082bd3217fe9e473c7c5fab833b2e1e2a5a4fd8cc4f2777f8ef0ef4401a9d8593093142023a3a43d865bac0b4e6d5cc8bd4568d76b1ad99cbcf88f99c2906b5850182b654b3bfcaf5685daf4f5805b1ea9d671d1681cda39c7a9261b0256e5faaff7e2d86fba66e70522fe974cfb6392f7307bf74cca9a75850990cc0dede8e8b3611d406e532399c8555e2d4f464bc566fea3b47c0766baf1bf4588539fb879ac18418b8405c8bf836c58a944cf8581d16e8ea6554861e13baa1edfe80a722d47f10e02012c4f74a32d223935ef50be45f621b57b1c657ef1a219fc5052e8a16672aade1f7190328ad976629d2a0170b695a62847c0713fffe00f8efc1': 1, '0xf6fd4b5914434fd9bd7ff4b3cc7b8faf5003dc45c9690f7b84667ca523f0108c82f84e76d1631df876ed0bbd7a504089b351ccb86f0389a753a97182168d2a0fc69160769126c10d9b7a859946a56b62fd5a5384bc79ca762aef4c5c57c1f827e3194e6e90e209804ea317bbf22388a53e768ce975518de518ba42ed6f2372b29ccb7353923f7d5acd350e61d410b4e0b5b5282be3159a19ecb5b5c251fa36b909a490e71327bcb1b65b109ad62c5ba50ef7b2f5a75eee95008d78f4b6313ce0797ec6dde577d2289834a662d8ef663a95fa2a76879aa7ae7b45edbe987d8fec9c69243a8c4d00ce9b87d03c0d31053ed2571491e03477a76c17472285cbdebe53d78d58e7c60f2f118c5f9688a419996ddf1ab918909afa3612fcba09063421a26cd260a4a5822febc248144ee447a350ac81eb3bca745a0f8522fe55e9c6b04df4022fe624df0fe1c0470294f70316e12d907cf3d843d36e648a914f9c473b821ad2758e4c9ccaa26168a8695f55efe03f9f833e1fc3': 1, '0x30bc685f1ba55b99bdcbad524ecd0bac45cf7f692d719e487d182bad7127258838d6fffda7f3ab3495f000a4c1fef19ba1281ed480f592463f8213b013ed74c0906b4bd24e689e360988836f6b9a2fa92bd9961be5671e32428ba643e196b7ed29bea0217c798177b1361a2b88880d2d7db2e7418a80654dcd71147dfa04f9776c7ec84804969bbd1a9d99ead9a29c47da6ea3f7ee7f4086623a5591a69c0da85ce53b20d9d36bbf4e76f5bcb759ccc5a9b44c4c0ca550c78dc9445363dd009b05aeda5e06a18e902f367d24bfa93af2178cd64c0dfef1329566ad4442b324bbbbbf78cc79d6dcc1009e9991e797e53d0acabb779b8676f1f47ccd8a4889632ec81c655fb1b4573c9044ee0f650c965a0852290af51aaeb097efb198603ad99f801d340b30e6a8889441425d001799bbc89dfa7e0f8fd4859a38e112811fd0b8619019989717ae8c4902cb1ab19f1b4ca466523c481ac85e0aece404cee49ea583d6999536d2f6faa72caab4b77cb1ef1f3fbf9f381003': 1, '0xcba4db716af295958d54f07b553da3fb7f4309def45e4c98987916f15ea852df8aa2a0be2eee301bf67e3a6532c62681e80cea3574e808030b5b5098d7dd20215ed7741787374e9715d823a0b59c6999c2869725c1cdba25e49b96f54f78f7638aafb5d78f971a4bf61def0abb90d94bca6311d4c90fbff04b182f51310a010ff3881f3539c01201534104dcb683b83eec60d65d98498833cb7bf35085b9898ff2c1af9a0db9ad19ec8c19837d2d72fb994be85a764866828c4392f19099a87b6c5e330b1a3c80bb2e24d2d2c5501c64a4f647a4eb844b9b4dcc8891c8c9da55045999251422edd4b6aaae3d827267d8255fb4b9fc6f85c4f51f48204b0cf4faf21598afc15bc1f16367062832c627927e05a785f0a28b3a786488ca0f2cb06c8a89117741540978f59a99962c699819629ba7894aaa48ab6a1b88992feddbd9374bea1785e64e9709c08a0da09c3bbb812861e95a88cc497ec222767c854d5c4ce029885cfd7e5c9207bf4f94692c4fe0c85f63cbfffd': 1, '0x421c61db0fde268c86c825d1030538499d14e63158f48586f7daf53e1198e0b1ccf1e4b72ae651975f625d1ff2ee2b9f1a66720143e37b11e6076c3440d06316a0f3441cbf0b799e915deb5e21d9a8313d80de1e2faf84b5a017a6a721481c4e438a7e96bf064e6e40fa27b8a8ef1bae78c69c9f9316cd29b4b39b0fc3bb63fdcc27d126ccbd414544c620954ef0fef834a419fd711d7481de6cec613cf81c3ec5d00a728152423d6720995a3e6ce6ba7239b6f4a871b8a175adadc7a03c8a29cd7863ae4509e785f88b4f20f17a888309f89681a8b599142129ba388f6aa208362cec913a98638d1ff54b37fc6be9760bfdd50dcbd32921d967e5454765f423aa8bdd3eaaa5c546a8c7f575b272d887d490f1ade93298d483132f0027a6d71851829852ccb6d2af86ea2c7cc6977b088f065d6e349d31991132f22bc06922e235732fe42c261863ef174a4706a20872239d6c579e6198c6d3384f4bce2b95d3b44d1e8da3cb2f4f4df228aec1d61e18e327dd1c07ee03': 1}), header=QobjExperimentHeader(creg_sizes=[['meas', 60], ['meas0', 60], ['meas1', 60], ['meas2', 60], ['meas3', 60], ['meas4', 60], ['meas5', 60], ['meas6', 60], ['meas7', 60], ['meas8', 60], ['meas9', 60], ['meas10', 60], ['meas11', 60], ['meas12', 60], ['meas13', 60], ['meas14', 60], ['meas15', 60], ['meas16', 60], ['meas17', 60], ['meas18', 60], ['meas19', 60], ['meas20', 60], ['meas21', 60], ['meas22', 60], ['meas23', 60], ['meas24', 60], ['meas25', 60], ['meas26', 60], ['meas27', 60], ['meas28', 60], ['meas29', 60], ['meas30', 60], ['meas31', 60], ['meas32', 60], ['meas33', 60], ['meas34', 60], ['meas35', 60], ['meas36', 60], ['meas37', 60], ['meas38', 60], ['meas39', 60], ['meas40', 60], ['meas41', 60], ['meas42', 60], ['meas43', 60], ['meas44', 60], ['meas45', 60], ['meas46', 60], ['meas47', 60], ['meas48', 60]], global_phase=0.0, memory_slots=3000, n_qubits=60, name='circuit-293', qreg_sizes=[['q', 60]], metadata={}), status=DONE, seed_simulator=586094855, metadata={'batched_shots_optimization': False, 'required_memory_mb': 0, 'method': 'stabilizer', 'active_input_qubits': [0, 1, 2, 3, 4, 5, 6, 7, 8, 9, 10, 11, 12, 13, 14, 15, 16, 17, 18, 19, 20, 21, 22, 23, 24, 25, 26, 27, 28, 29, 30, 31, 32, 33, 34, 35, 36, 37, 38, 39, 40, 41, 42, 43, 44, 45, 46, 47, 48, 49, 50, 51, 52, 53, 54, 55, 56, 57, 58, 59], 'device': 'CPU', 'remapped_qubits': False, 'num_qubits': 60, 'num_clbits': 3000, 'time_taken': 0.0246778, 'input_qubit_map': [[0, 0], [1, 1], [2, 2], [3, 3], [4, 4], [5, 5], [6, 6], [7, 7], [8, 8], [9, 9], [10, 10], [11, 11], [12, 12], [13, 13], [14, 14], [15, 15], [16, 16], [17, 17], [18, 18], [19, 19], [20, 20], [21, 21], [22, 22], [23, 23], [24, 24], [25, 25], [26, 26], [27, 27], [28, 28], [29, 29], [30, 30], [31, 31], [32, 32], [33, 33], [34, 34], [35, 35], [36, 36], [37, 37], [38, 38], [39, 39], [40, 40], [41, 41], [42, 42], [43, 43], [44, 44], [45, 45], [46, 46], [47, 47], [48, 48], [49, 49], [50, 50], [51, 51], [52, 52], [53, 53], [54, 54], [55, 55], [56, 56], [57, 57], [58, 58], [59, 59]], 'max_memory_mb': 16322, 'measure_sampling': False, 'noise': 'ideal', 'parallel_shots': 5, 'parallel_state_update': 1, 'runtime_parameter_bind': False, 'num_bind_params': 1, 'fusion': {'enabled': False}}, time_taken=0.0246778)], date=2025-02-28T21:37:00.597509, status=COMPLETED, header=None, metadata={'omp_enabled': True, 'parallel_experiments': 1, 'max_memory_mb': 16322, 'max_gpu_memory_mb': 0, 'time_taken_execute': 0.0247123, 'time_taken_parameter_binding': 0.0013425}, time_taken=0.21551871299743652)\n",
      "Method used: stabilizer\n",
      "Total time: 0.21551871299743652\n"
     ]
    }
   ],
   "source": [
    "simulator_stabilizer = AerSimulator(method=\"stabilizer\")\n",
    "\n",
    "try:\n",
    "    # Run the circuit simulation\n",
    "    job = simulator_stabilizer.run(qc_to_benchmark, shots=shots)\n",
    "    result = job.result()\n",
    "    print(result)\n",
    "\n",
    "    print(f\"Method used: {result.results[0].metadata['method']}\")\n",
    "    print(f\"Total time: {result.time_taken}\")\n",
    "\n",
    "    # counts = result.get_counts(qc_to_benchmark)\n",
    "    # print(counts)\n",
    "except Exception as e:\n",
    "    print(\"error during stabilizer simulation\")\n",
    "    print(result.status)\n"
   ]
  },
  {
   "cell_type": "markdown",
   "metadata": {},
   "source": [
    "---"
   ]
  },
  {
   "cell_type": "markdown",
   "metadata": {},
   "source": [
    "<h2>Process Tomography</h2>"
   ]
  },
  {
   "cell_type": "code",
   "execution_count": null,
   "metadata": {},
   "outputs": [
    {
     "data": {
      "image/png": "[encoded data removed]",
      "text/plain": [
       "<Figure size 413.165x200.667 with 1 Axes>"
      ]
     },
     "execution_count": 29,
     "metadata": {},
     "output_type": "execute_result"
    }
   ],
   "source": [
    "qc_tomo_overhead = QuantumCircuit(1)\n",
    "\n",
    "# Layer 1\n",
    "qc_tomo_overhead.h(0)\n",
    "# qc_tomo.s(1)\n",
    "\n",
    "qc_tomo_overhead.measure_all()\n",
    "\n",
    "qc_tomo_overhead.draw('mpl')"
   ]
  },
  {
   "cell_type": "code",
   "execution_count": null,
   "metadata": {},
   "outputs": [
    {
     "data": {
      "image/png": "[encoded data removed]",
      "text/plain": [
       "<Figure size 370.906x200.667 with 1 Axes>"
      ]
     },
     "execution_count": 91,
     "metadata": {},
     "output_type": "execute_result"
    }
   ],
   "source": [
    "# Crea un circuito quantistico con 2 qubit\n",
    "qc_tomo = QuantumCircuit(2)\n",
    "\n",
    "# Layer 1: Crea entanglement\n",
    "qc_tomo.h(0)\n",
    "qc_tomo.cx(0, 1)\n",
    "\n",
    "# Layer 2: Aggiungi una porta singola\n",
    "qc_tomo.x(1)\n",
    "\n",
    "# Misura tutti i qubit\n",
    "# qc_tomo.measure_all()\n",
    "\n",
    "qc_tomo.draw('mpl')"
   ]
  },
  {
   "cell_type": "code",
   "execution_count": null,
   "metadata": {},
   "outputs": [],
   "source": [
    "# qc_to_ps_tomo = qc_tomo_overhead\n",
    "qc_to_ps_tomo = qc_tomo"
   ]
  },
  {
   "cell_type": "markdown",
   "metadata": {},
   "source": [
    "<h5>Density matrix</h5>"
   ]
  },
  {
   "cell_type": "code",
   "execution_count": null,
   "metadata": {},
   "outputs": [
    {
     "name": "stdout",
     "output_type": "stream",
     "text": [
      "Process Fidelity: F = 0.91641\n"
     ]
    }
   ],
   "source": [
    "simulator_density = AerSimulator(method=\"density_matrix\") \n",
    "\n",
    "circuit_tomo_density = ProcessTomography(qc_to_ps_tomo, simulator_density)\n",
    "\n",
    "res = circuit_tomo_density.run(simulator_density, shots=100)\n",
    "experimental_result = res.analysis_results(\"state\").value # Experimental choi matrix\n",
    "\n",
    "fidelity = process_fidelity(channel=experimental_result, target=Choi(qc_to_ps_tomo), require_tp=False)\n",
    "\n",
    "print('Process Fidelity: F = {:.5f}'.format(fidelity))"
   ]
  },
  {
   "cell_type": "markdown",
   "metadata": {},
   "source": [
    "<h5>Stabilizer</h5>"
   ]
  },
  {
   "cell_type": "code",
   "execution_count": null,
   "metadata": {},
   "outputs": [
    {
     "name": "stderr",
     "output_type": "stream",
     "text": [
      "Provider for ExperimentData object doesn't exist, resulting in a failed attempt to retrieve data from the server; no stored result data exists\n"
     ]
    },
    {
     "name": "stdout",
     "output_type": "stream",
     "text": [
      "Stabilizer formalism not currently supported from qiskit\n"
     ]
    }
   ],
   "source": [
    "simulator_stabilizer = AerSimulator(method=\"stabilizer\") \n",
    "\n",
    "circuit_tomo_stabilizer = ProcessTomography(qc_to_ps_tomo, simulator_stabilizer)\n",
    "\n",
    "res = circuit_tomo_stabilizer.run(simulator_stabilizer, shots=10)\n",
    "\n",
    "if not len(res.data()): \n",
    "    print(\"Stabilizer formalism not currently supported from qiskit\")"
   ]
  },
  {
   "cell_type": "markdown",
   "metadata": {},
   "source": [
    "---"
   ]
  },
  {
   "cell_type": "markdown",
   "metadata": {},
   "source": [
    "<h2>Quantum Error Correction</h2>"
   ]
  },
  {
   "cell_type": "markdown",
   "metadata": {},
   "source": [
    "<h5>Setup 1 + 2 qubit channel</h5>"
   ]
  },
  {
   "cell_type": "code",
   "execution_count": null,
   "metadata": {},
   "outputs": [
    {
     "name": "stdout",
     "output_type": "stream",
     "text": [
      "{'11': 9}\n"
     ]
    }
   ],
   "source": [
    "q_number = 3\n",
    "\n",
    "q_logical = QuantumRegister(1, 'Message')\n",
    "q_ancillas_sender = QuantumRegister(q_number - 1, 'Alice\\'s ancilla')\n",
    "q_ancillas_receiver = QuantumRegister(q_number - 1, 'Bob\\'s ancilla')\n",
    "c_measure_result = ClassicalRegister(q_number - 1, 'Error Syndrome')\n",
    "\n",
    "qc_qec = QuantumCircuit(q_logical, q_ancillas_sender, q_ancillas_receiver, c_measure_result)\n",
    "\n",
    "# set logical qubit to |1>\n",
    "qc_qec.x(0)\n",
    "\n",
    "# distribute state\n",
    "for q in range(1,q_number):\n",
    "    qc_qec.cx(0, q)\n",
    "\n",
    "qc_qec.barrier(range(q_number), label=\"|111>\")\n",
    "\n",
    "# ERROR PHASE\n",
    "\n",
    "# simulate error X, Y or Z on a single qubit\n",
    "errors = [qc_qec.x, qc_qec.y, qc_qec.z]\n",
    "\n",
    "# random version\n",
    "# for q in range(q_number):\n",
    "#     if random.getrandbits(1):\n",
    "#             random.choice(errors)(q)\n",
    "#             break\n",
    "\n",
    "# test version\n",
    "qc_qec.x(1)\n",
    "\n",
    "\n",
    "\n",
    "# ERROR SYNDROME PHASE\n",
    "\n",
    "for q in range(3, 5):\n",
    "    qc_qec.h(q)\n",
    "\n",
    "# XZZXI\n",
    "qc_qec.cz(0, 3)  \n",
    "qc_qec.cz(0, 4) \n",
    "\n",
    "qc_qec.barrier(range((q_number * 2) - 1))  \n",
    "qc_qec.cz(1, 3)  \n",
    "qc_qec.cz(1, 4) \n",
    "\n",
    "qc_qec.barrier(range((q_number * 2) - 1))  \n",
    "\n",
    "# Final Hadamard and measurement gates to extract the syndrome\n",
    "for q in range(3, 5):\n",
    "    qc_qec.h(q)  # Apply Hadamard to ancilla qubits to complete the syndrome extraction\n",
    "    qc_qec.measure(q, q - 3)  # Measure ancilla qubits and store results in classical bits\n",
    "\n",
    "\n",
    "# setup receiver circuit\n",
    "qc_qec.draw('mpl', plot_barriers=True)\n",
    "\n",
    "# Simulate the circuit using AerSimulator\n",
    "simulator = AerSimulator()\n",
    "job = simulator.run(qc_qec, shots=9)\n",
    "result = job.result()\n",
    "\n",
    "# Get the counts from the simulation\n",
    "counts = result.get_counts(qc_qec)\n",
    "\n",
    "# Print the counts (which are the classical register values)\n",
    "print(counts)"
   ]
  },
  {
   "cell_type": "code",
   "execution_count": null,
   "metadata": {},
   "outputs": [
    {
     "name": "stdout",
     "output_type": "stream",
     "text": [
      "{'1011': 10}\n",
      "Error found: Y1\n"
     ]
    }
   ],
   "source": [
    "# 5 qubit quantum error correction\n",
    "\n",
    "# INIT PHASE\n",
    "q_number = 5\n",
    "\n",
    "q_logical = QuantumRegister(1, 'Logical qubit')\n",
    "\n",
    "q_ancillas_sender = QuantumRegister(q_number - 1, 'Alice\\'s ancilla')\n",
    "q_ancillas_receiver = QuantumRegister(q_number - 1, 'Bob\\'s ancilla')\n",
    "c_measure_result = ClassicalRegister(q_number - 1, 'Error Syndrome')\n",
    "\n",
    "qc_qec = QuantumCircuit(q_logical, q_ancillas_sender, q_ancillas_receiver, c_measure_result)\n",
    "\n",
    "# Set logical qubit in super position (Comment out if you want only |0>)\n",
    "# rand_amplitude = random.random()\n",
    "# a = math.sqrt(rand_amplitude)\n",
    "# b = math.sqrt((1 - rand_amplitude))\n",
    "# qc_qec.initialize([a, b], 0)\n",
    "\n",
    "\n",
    "qc_qec.barrier(range(q_number), label=\"a|0>+b|1>\")\n",
    "\n",
    "# ENCODING LOGICAL QUBIT PHASE\n",
    "\n",
    "qc_qec.h(0)               \n",
    "qc_qec.cz(0, 1)          \n",
    "qc_qec.cz(0, 3)          \n",
    "qc_qec.cx(0, 4)          \n",
    "qc_qec.cz(0, 4)          \n",
    "\n",
    "qc_qec.barrier(range(q_number))\n",
    "qc_qec.h(1)               \n",
    "qc_qec.cz(1, 2)          \n",
    "qc_qec.cz(1, 3)          \n",
    "qc_qec.cx(1, 4)              \n",
    "\n",
    "qc_qec.barrier(range(q_number))\n",
    "qc_qec.h(2)               \n",
    "qc_qec.cz(2, 0)          \n",
    "qc_qec.cz(2, 1)          \n",
    "qc_qec.cx(2, 4)                  \n",
    "\n",
    "qc_qec.barrier(range(q_number))\n",
    "qc_qec.h(3)               \n",
    "qc_qec.cz(3, 0)          \n",
    "qc_qec.cz(3, 2)          \n",
    "qc_qec.cx(3, 4)      \n",
    "qc_qec.cz(3, 4)  \n",
    "\n",
    "qc_qec.barrier(range(q_number), label=\"|ψ⟩L\")\n",
    "\n",
    "\n",
    "# NOISE PHASE\n",
    "\n",
    "# Simulate error X, Y or Z on a single qubit\n",
    "errors = [qc_qec.x, qc_qec.y, qc_qec.z]\n",
    "# random version\n",
    "# for q in range(q_number):\n",
    "#     if random.getrandbits(1):\n",
    "#             random.choice(errors)(q)\n",
    "#             break\n",
    "\n",
    "# Manually set error\n",
    "qc_qec.y(0)\n",
    "\n",
    "\n",
    "qc_qec.barrier(range((q_number * 2) - 1), label=\"Channel\")\n",
    "\n",
    "\n",
    "# ERROR SYNDROME PHASE\n",
    "\n",
    "for q in range(5, 9):\n",
    "    qc_qec.h(q)\n",
    "\n",
    "# XZZXI\n",
    "qc_qec.cx(5, 0)\n",
    "qc_qec.cz(5, 1)\n",
    "qc_qec.cz(5, 2)\n",
    "qc_qec.cx(5, 3)\n",
    "\n",
    "qc_qec.barrier(range((q_number * 2) - 1)) \n",
    "\n",
    "# IXZZX\n",
    "qc_qec.cx(6, 1)\n",
    "qc_qec.cz(6, 2)\n",
    "qc_qec.cz(6, 3)\n",
    "qc_qec.cx(6, 4)\n",
    "\n",
    "qc_qec.barrier(range((q_number * 2) - 1))\n",
    "\n",
    "# XIXZZ\n",
    "qc_qec.cx(7, 0)\n",
    "qc_qec.cx(7, 2)\n",
    "qc_qec.cz(7, 3)\n",
    "qc_qec.cz(7, 4)\n",
    "\n",
    "qc_qec.barrier(range((q_number * 2) - 1))\n",
    "\n",
    "# ZXIXZ\n",
    "qc_qec.cz(8, 0)\n",
    "qc_qec.cx(8, 1)\n",
    "qc_qec.cx(8, 3)\n",
    "qc_qec.cz(8, 4)\n",
    "\n",
    "qc_qec.barrier(range((q_number * 2) - 1))\n",
    "\n",
    "for q in range(5, 9):\n",
    "    qc_qec.h(q) \n",
    "\n",
    "qc_qec.measure(5, 3)\n",
    "qc_qec.measure(6, 2)\n",
    "qc_qec.measure(7, 1)\n",
    "qc_qec.measure(8, 0)\n",
    "\n",
    "\n",
    "qc_qec.draw('mpl', plot_barriers=True)\n",
    "\n",
    "# simulate circuit (comment everything below to draw it instead)\n",
    "simulator = AerSimulator()\n",
    "job = simulator.run(qc_qec, shots=10)\n",
    "result = job.result()\n",
    "\n",
    "counts = result.get_counts(qc_qec)\n",
    "\n",
    "error_syndrome_lut = {\n",
    "    \"0001\": \"X1\",\n",
    "    \"1010\": \"Z1\",\n",
    "    \"1011\": \"Y1\",\n",
    "    \"1000\": \"X2\",\n",
    "    \"0101\": \"Z2\",\n",
    "    \"1101\": \"Y2\",\n",
    "    \"1100\": \"X3\",\n",
    "    \"0010\": \"Z3\",\n",
    "    \"1110\": \"Y3\",\n",
    "    \"0110\": \"X4\",\n",
    "    \"1001\": \"Z4\",\n",
    "    \"1111\": \"Y4\",\n",
    "    \"0011\": \"X5\",\n",
    "    \"0100\": \"Z5\",\n",
    "    \"0111\": \"Y5\"\n",
    "}\n",
    "print(counts)\n",
    "\n",
    "print(f\"Error found: {error_syndrome_lut[list(counts)[0]]}\")"
   ]
  },
  {
   "cell_type": "code",
   "execution_count": null,
   "metadata": {},
   "outputs": [],
   "source": [
    "# TODO: add new simulation alghoritm stabilizer v2"
   ]
  }
 ],
 "metadata": {
  "kernelspec": {
   "display_name": "Python 3",
   "language": "python",
   "name": "python3"
  },
  "language_info": {
   "codemirror_mode": {
    "name": "ipython",
    "version": 3
   },
   "file_extension": ".py",
   "mimetype": "text/x-python",
   "name": "python",
   "nbconvert_exporter": "python",
   "pygments_lexer": "ipython3",
   "version": "3.12.4"
  }
 },
 "nbformat": 4,
 "nbformat_minor": 2
}

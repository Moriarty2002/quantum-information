{
 "cells": [
  {
   "cell_type": "markdown",
   "metadata": {},
   "source": [
    "<h1> ELABORATO QUANTUM INFORMATION </h1>"
   ]
  },
  {
   "cell_type": "markdown",
   "metadata": {
    "notebookRunGroups": {
     "groupValue": "1"
    }
   },
   "source": [
    "<h5>D'amora Agostino M6300...</h5>\n",
    "<h5>Esposito Marcello M63001768</h5>"
   ]
  },
  {
   "cell_type": "markdown",
   "metadata": {},
   "source": [
    "__________________________________________________________________________________________________________________________________"
   ]
  },
  {
   "cell_type": "markdown",
   "metadata": {},
   "source": [
    "<h3>Libs</h3>"
   ]
  },
  {
   "cell_type": "code",
   "execution_count": 39,
   "metadata": {},
   "outputs": [
    {
     "name": "stdout",
     "output_type": "stream",
     "text": [
      "Requirement already satisfied: qiskit-aer==0.16.1 in c:\\users\\gaming\\appdata\\local\\programs\\python\\python312\\lib\\site-packages (0.16.1)\n",
      "Requirement already satisfied: qiskit>=1.1.0 in c:\\users\\gaming\\appdata\\local\\programs\\python\\python312\\lib\\site-packages (from qiskit-aer==0.16.1) (1.3.2)\n",
      "Requirement already satisfied: numpy>=1.16.3 in c:\\users\\gaming\\appdata\\local\\programs\\python\\python312\\lib\\site-packages (from qiskit-aer==0.16.1) (2.2.3)\n",
      "Requirement already satisfied: scipy>=1.0 in c:\\users\\gaming\\appdata\\local\\programs\\python\\python312\\lib\\site-packages (from qiskit-aer==0.16.1) (1.15.2)\n",
      "Requirement already satisfied: psutil>=5 in c:\\users\\gaming\\appdata\\roaming\\python\\python312\\site-packages (from qiskit-aer==0.16.1) (7.0.0)\n",
      "Requirement already satisfied: rustworkx>=0.15.0 in c:\\users\\gaming\\appdata\\local\\programs\\python\\python312\\lib\\site-packages (from qiskit>=1.1.0->qiskit-aer==0.16.1) (0.16.0)\n",
      "Requirement already satisfied: sympy>=1.3 in c:\\users\\gaming\\appdata\\local\\programs\\python\\python312\\lib\\site-packages (from qiskit>=1.1.0->qiskit-aer==0.16.1) (1.13.3)\n",
      "Requirement already satisfied: dill>=0.3 in c:\\users\\gaming\\appdata\\local\\programs\\python\\python312\\lib\\site-packages (from qiskit>=1.1.0->qiskit-aer==0.16.1) (0.3.9)\n",
      "Requirement already satisfied: python-dateutil>=2.8.0 in c:\\users\\gaming\\appdata\\roaming\\python\\python312\\site-packages (from qiskit>=1.1.0->qiskit-aer==0.16.1) (2.9.0.post0)\n",
      "Requirement already satisfied: stevedore>=3.0.0 in c:\\users\\gaming\\appdata\\local\\programs\\python\\python312\\lib\\site-packages (from qiskit>=1.1.0->qiskit-aer==0.16.1) (5.4.0)\n",
      "Requirement already satisfied: typing-extensions in c:\\users\\gaming\\appdata\\local\\programs\\python\\python312\\lib\\site-packages (from qiskit>=1.1.0->qiskit-aer==0.16.1) (4.12.2)\n",
      "Requirement already satisfied: symengine<0.14,>=0.11 in c:\\users\\gaming\\appdata\\local\\programs\\python\\python312\\lib\\site-packages (from qiskit>=1.1.0->qiskit-aer==0.16.1) (0.13.0)\n",
      "Requirement already satisfied: six>=1.5 in c:\\users\\gaming\\appdata\\roaming\\python\\python312\\site-packages (from python-dateutil>=2.8.0->qiskit>=1.1.0->qiskit-aer==0.16.1) (1.17.0)\n",
      "Requirement already satisfied: pbr>=2.0.0 in c:\\users\\gaming\\appdata\\local\\programs\\python\\python312\\lib\\site-packages (from stevedore>=3.0.0->qiskit>=1.1.0->qiskit-aer==0.16.1) (6.1.1)\n",
      "Requirement already satisfied: mpmath<1.4,>=1.1.0 in c:\\users\\gaming\\appdata\\local\\programs\\python\\python312\\lib\\site-packages (from sympy>=1.3->qiskit>=1.1.0->qiskit-aer==0.16.1) (1.3.0)\n",
      "Requirement already satisfied: setuptools in c:\\users\\gaming\\appdata\\local\\programs\\python\\python312\\lib\\site-packages (from pbr>=2.0.0->stevedore>=3.0.0->qiskit>=1.1.0->qiskit-aer==0.16.1) (75.8.0)\n",
      "Note: you may need to restart the kernel to use updated packages.\n"
     ]
    },
    {
     "name": "stderr",
     "output_type": "stream",
     "text": [
      "\n",
      "[notice] A new release of pip is available: 24.2 -> 25.0.1\n",
      "[notice] To update, run: python.exe -m pip install --upgrade pip\n"
     ]
    },
    {
     "name": "stdout",
     "output_type": "stream",
     "text": [
      "Requirement already satisfied: qiskit==1.3.2 in c:\\users\\gaming\\appdata\\local\\programs\\python\\python312\\lib\\site-packages (1.3.2)Note: you may need to restart the kernel to use updated packages.\n"
     ]
    },
    {
     "name": "stderr",
     "output_type": "stream",
     "text": [
      "\n",
      "[notice] A new release of pip is available: 24.2 -> 25.0.1\n",
      "[notice] To update, run: python.exe -m pip install --upgrade pip\n"
     ]
    },
    {
     "name": "stdout",
     "output_type": "stream",
     "text": [
      "\n",
      "Requirement already satisfied: rustworkx>=0.15.0 in c:\\users\\gaming\\appdata\\local\\programs\\python\\python312\\lib\\site-packages (from qiskit==1.3.2) (0.16.0)\n",
      "Requirement already satisfied: numpy<3,>=1.17 in c:\\users\\gaming\\appdata\\local\\programs\\python\\python312\\lib\\site-packages (from qiskit==1.3.2) (2.2.3)\n",
      "Requirement already satisfied: scipy>=1.5 in c:\\users\\gaming\\appdata\\local\\programs\\python\\python312\\lib\\site-packages (from qiskit==1.3.2) (1.15.2)\n",
      "Requirement already satisfied: sympy>=1.3 in c:\\users\\gaming\\appdata\\local\\programs\\python\\python312\\lib\\site-packages (from qiskit==1.3.2) (1.13.3)\n",
      "Requirement already satisfied: dill>=0.3 in c:\\users\\gaming\\appdata\\local\\programs\\python\\python312\\lib\\site-packages (from qiskit==1.3.2) (0.3.9)\n",
      "Requirement already satisfied: python-dateutil>=2.8.0 in c:\\users\\gaming\\appdata\\roaming\\python\\python312\\site-packages (from qiskit==1.3.2) (2.9.0.post0)\n",
      "Requirement already satisfied: stevedore>=3.0.0 in c:\\users\\gaming\\appdata\\local\\programs\\python\\python312\\lib\\site-packages (from qiskit==1.3.2) (5.4.0)\n",
      "Requirement already satisfied: typing-extensions in c:\\users\\gaming\\appdata\\local\\programs\\python\\python312\\lib\\site-packages (from qiskit==1.3.2) (4.12.2)\n",
      "Requirement already satisfied: symengine<0.14,>=0.11 in c:\\users\\gaming\\appdata\\local\\programs\\python\\python312\\lib\\site-packages (from qiskit==1.3.2) (0.13.0)\n",
      "Requirement already satisfied: six>=1.5 in c:\\users\\gaming\\appdata\\roaming\\python\\python312\\site-packages (from python-dateutil>=2.8.0->qiskit==1.3.2) (1.17.0)\n",
      "Requirement already satisfied: pbr>=2.0.0 in c:\\users\\gaming\\appdata\\local\\programs\\python\\python312\\lib\\site-packages (from stevedore>=3.0.0->qiskit==1.3.2) (6.1.1)\n",
      "Requirement already satisfied: mpmath<1.4,>=1.1.0 in c:\\users\\gaming\\appdata\\local\\programs\\python\\python312\\lib\\site-packages (from sympy>=1.3->qiskit==1.3.2) (1.3.0)\n",
      "Requirement already satisfied: setuptools in c:\\users\\gaming\\appdata\\local\\programs\\python\\python312\\lib\\site-packages (from pbr>=2.0.0->stevedore>=3.0.0->qiskit==1.3.2) (75.8.0)\n",
      "Requirement already satisfied: qiskit-ibm-runtime==0.26.0 in c:\\users\\gaming\\appdata\\local\\programs\\python\\python312\\lib\\site-packages (0.26.0)\n",
      "Requirement already satisfied: requests>=2.19 in c:\\users\\gaming\\appdata\\local\\programs\\python\\python312\\lib\\site-packages (from qiskit-ibm-runtime==0.26.0) (2.32.3)\n",
      "Requirement already satisfied: requests-ntlm>=1.1.0 in c:\\users\\gaming\\appdata\\local\\programs\\python\\python312\\lib\\site-packages (from qiskit-ibm-runtime==0.26.0) (1.3.0)\n",
      "Requirement already satisfied: numpy>=1.13 in c:\\users\\gaming\\appdata\\local\\programs\\python\\python312\\lib\\site-packages (from qiskit-ibm-runtime==0.26.0) (2.2.3)\n",
      "Requirement already satisfied: urllib3>=1.21.1 in c:\\users\\gaming\\appdata\\local\\programs\\python\\python312\\lib\\site-packages (from qiskit-ibm-runtime==0.26.0) (2.2.3)\n",
      "Requirement already satisfied: python-dateutil>=2.8.0 in c:\\users\\gaming\\appdata\\roaming\\python\\python312\\site-packages (from qiskit-ibm-runtime==0.26.0) (2.9.0.post0)\n",
      "Requirement already satisfied: websocket-client>=1.5.1 in c:\\users\\gaming\\appdata\\local\\programs\\python\\python312\\lib\\site-packages (from qiskit-ibm-runtime==0.26.0) (1.8.0)\n",
      "Requirement already satisfied: ibm-platform-services>=0.22.6 in c:\\users\\gaming\\appdata\\local\\programs\\python\\python312\\lib\\site-packages (from qiskit-ibm-runtime==0.26.0) (0.59.1)\n",
      "Requirement already satisfied: pydantic>=2.5.0 in c:\\users\\gaming\\appdata\\local\\programs\\python\\python312\\lib\\site-packages (from qiskit-ibm-runtime==0.26.0) (2.9.2)\n",
      "Requirement already satisfied: qiskit>=1.1.0 in c:\\users\\gaming\\appdata\\local\\programs\\python\\python312\\lib\\site-packages (from qiskit-ibm-runtime==0.26.0) (1.3.2)\n",
      "Requirement already satisfied: ibm_cloud_sdk_core<4.0.0,>=3.22.0 in c:\\users\\gaming\\appdata\\local\\programs\\python\\python312\\lib\\site-packages (from ibm-platform-services>=0.22.6->qiskit-ibm-runtime==0.26.0) (3.22.1)\n",
      "Requirement already satisfied: annotated-types>=0.6.0 in c:\\users\\gaming\\appdata\\local\\programs\\python\\python312\\lib\\site-packages (from pydantic>=2.5.0->qiskit-ibm-runtime==0.26.0) (0.7.0)\n",
      "Requirement already satisfied: pydantic-core==2.23.4 in c:\\users\\gaming\\appdata\\local\\programs\\python\\python312\\lib\\site-packages (from pydantic>=2.5.0->qiskit-ibm-runtime==0.26.0) (2.23.4)\n",
      "Requirement already satisfied: typing-extensions>=4.6.1 in c:\\users\\gaming\\appdata\\local\\programs\\python\\python312\\lib\\site-packages (from pydantic>=2.5.0->qiskit-ibm-runtime==0.26.0) (4.12.2)\n",
      "Requirement already satisfied: six>=1.5 in c:\\users\\gaming\\appdata\\roaming\\python\\python312\\site-packages (from python-dateutil>=2.8.0->qiskit-ibm-runtime==0.26.0) (1.17.0)\n",
      "Requirement already satisfied: rustworkx>=0.15.0 in c:\\users\\gaming\\appdata\\local\\programs\\python\\python312\\lib\\site-packages (from qiskit>=1.1.0->qiskit-ibm-runtime==0.26.0) (0.16.0)\n",
      "Requirement already satisfied: scipy>=1.5 in c:\\users\\gaming\\appdata\\local\\programs\\python\\python312\\lib\\site-packages (from qiskit>=1.1.0->qiskit-ibm-runtime==0.26.0) (1.15.2)\n",
      "Requirement already satisfied: sympy>=1.3 in c:\\users\\gaming\\appdata\\local\\programs\\python\\python312\\lib\\site-packages (from qiskit>=1.1.0->qiskit-ibm-runtime==0.26.0) (1.13.3)\n",
      "Requirement already satisfied: dill>=0.3 in c:\\users\\gaming\\appdata\\local\\programs\\python\\python312\\lib\\site-packages (from qiskit>=1.1.0->qiskit-ibm-runtime==0.26.0) (0.3.9)\n",
      "Requirement already satisfied: stevedore>=3.0.0 in c:\\users\\gaming\\appdata\\local\\programs\\python\\python312\\lib\\site-packages (from qiskit>=1.1.0->qiskit-ibm-runtime==0.26.0) (5.4.0)\n",
      "Requirement already satisfied: symengine<0.14,>=0.11 in c:\\users\\gaming\\appdata\\local\\programs\\python\\python312\\lib\\site-packages (from qiskit>=1.1.0->qiskit-ibm-runtime==0.26.0) (0.13.0)\n",
      "Requirement already satisfied: charset-normalizer<4,>=2 in c:\\users\\gaming\\appdata\\local\\programs\\python\\python312\\lib\\site-packages (from requests>=2.19->qiskit-ibm-runtime==0.26.0) (3.3.2)\n",
      "Requirement already satisfied: idna<4,>=2.5 in c:\\users\\gaming\\appdata\\local\\programs\\python\\python312\\lib\\site-packages (from requests>=2.19->qiskit-ibm-runtime==0.26.0) (3.10)\n",
      "Requirement already satisfied: certifi>=2017.4.17 in c:\\users\\gaming\\appdata\\local\\programs\\python\\python312\\lib\\site-packages (from requests>=2.19->qiskit-ibm-runtime==0.26.0) (2024.8.30)\n",
      "Requirement already satisfied: cryptography>=1.3 in c:\\users\\gaming\\appdata\\local\\programs\\python\\python312\\lib\\site-packages (from requests-ntlm>=1.1.0->qiskit-ibm-runtime==0.26.0) (44.0.1)\n",
      "Requirement already satisfied: pyspnego>=0.4.0 in c:\\users\\gaming\\appdata\\local\\programs\\python\\python312\\lib\\site-packages (from requests-ntlm>=1.1.0->qiskit-ibm-runtime==0.26.0) (0.11.2)\n",
      "Requirement already satisfied: cffi>=1.12 in c:\\users\\gaming\\appdata\\local\\programs\\python\\python312\\lib\\site-packages (from cryptography>=1.3->requests-ntlm>=1.1.0->qiskit-ibm-runtime==0.26.0) (1.17.1)\n",
      "Requirement already satisfied: PyJWT<3.0.0,>=2.8.0 in c:\\users\\gaming\\appdata\\local\\programs\\python\\python312\\lib\\site-packages (from ibm_cloud_sdk_core<4.0.0,>=3.22.0->ibm-platform-services>=0.22.6->qiskit-ibm-runtime==0.26.0) (2.10.1)\n",
      "Requirement already satisfied: sspilib>=0.1.0 in c:\\users\\gaming\\appdata\\local\\programs\\python\\python312\\lib\\site-packages (from pyspnego>=0.4.0->requests-ntlm>=1.1.0->qiskit-ibm-runtime==0.26.0) (0.2.0)\n",
      "Requirement already satisfied: pbr>=2.0.0 in c:\\users\\gaming\\appdata\\local\\programs\\python\\python312\\lib\\site-packages (from stevedore>=3.0.0->qiskit>=1.1.0->qiskit-ibm-runtime==0.26.0) (6.1.1)\n",
      "Requirement already satisfied: mpmath<1.4,>=1.1.0 in c:\\users\\gaming\\appdata\\local\\programs\\python\\python312\\lib\\site-packages (from sympy>=1.3->qiskit>=1.1.0->qiskit-ibm-runtime==0.26.0) (1.3.0)\n",
      "Requirement already satisfied: pycparser in c:\\users\\gaming\\appdata\\local\\programs\\python\\python312\\lib\\site-packages (from cffi>=1.12->cryptography>=1.3->requests-ntlm>=1.1.0->qiskit-ibm-runtime==0.26.0) (2.22)\n",
      "Requirement already satisfied: setuptools in c:\\users\\gaming\\appdata\\local\\programs\\python\\python312\\lib\\site-packages (from pbr>=2.0.0->stevedore>=3.0.0->qiskit>=1.1.0->qiskit-ibm-runtime==0.26.0) (75.8.0)\n",
      "Note: you may need to restart the kernel to use updated packages.\n"
     ]
    },
    {
     "name": "stderr",
     "output_type": "stream",
     "text": [
      "\n",
      "[notice] A new release of pip is available: 24.2 -> 25.0.1\n",
      "[notice] To update, run: python.exe -m pip install --upgrade pip\n"
     ]
    },
    {
     "name": "stdout",
     "output_type": "stream",
     "text": [
      "Requirement already satisfied: qiskit_experiments==0.7.0 in c:\\users\\gaming\\appdata\\local\\programs\\python\\python312\\lib\\site-packages (0.7.0)\n",
      "Requirement already satisfied: numpy>=1.17 in c:\\users\\gaming\\appdata\\local\\programs\\python\\python312\\lib\\site-packages (from qiskit_experiments==0.7.0) (2.2.3)\n",
      "Requirement already satisfied: scipy>=1.4 in c:\\users\\gaming\\appdata\\local\\programs\\python\\python312\\lib\\site-packages (from qiskit_experiments==0.7.0) (1.15.2)\n",
      "Requirement already satisfied: qiskit>=0.45 in c:\\users\\gaming\\appdata\\local\\programs\\python\\python312\\lib\\site-packages (from qiskit_experiments==0.7.0) (1.3.2)\n",
      "Requirement already satisfied: qiskit-ibm-experiment>=0.4.6 in c:\\users\\gaming\\appdata\\local\\programs\\python\\python312\\lib\\site-packages (from qiskit_experiments==0.7.0) (0.4.8)\n",
      "Requirement already satisfied: matplotlib>=3.4 in c:\\users\\gaming\\appdata\\local\\programs\\python\\python312\\lib\\site-packages (from qiskit_experiments==0.7.0) (3.8.4)\n",
      "Requirement already satisfied: uncertainties in c:\\users\\gaming\\appdata\\local\\programs\\python\\python312\\lib\\site-packages (from qiskit_experiments==0.7.0) (3.2.2)\n",
      "Requirement already satisfied: lmfit in c:\\users\\gaming\\appdata\\local\\programs\\python\\python312\\lib\\site-packages (from qiskit_experiments==0.7.0) (1.3.2)\n",
      "Requirement already satisfied: rustworkx in c:\\users\\gaming\\appdata\\local\\programs\\python\\python312\\lib\\site-packages (from qiskit_experiments==0.7.0) (0.16.0)\n",
      "Requirement already satisfied: pandas>=1.1.5 in c:\\users\\gaming\\appdata\\local\\programs\\python\\python312\\lib\\site-packages (from qiskit_experiments==0.7.0) (2.2.3)\n",
      "Requirement already satisfied: packaging in c:\\users\\gaming\\appdata\\roaming\\python\\python312\\site-packages (from qiskit_experiments==0.7.0) (24.2)\n",
      "Requirement already satisfied: contourpy>=1.0.1 in c:\\users\\gaming\\appdata\\local\\programs\\python\\python312\\lib\\site-packages (from matplotlib>=3.4->qiskit_experiments==0.7.0) (1.3.1)\n",
      "Requirement already satisfied: cycler>=0.10 in c:\\users\\gaming\\appdata\\local\\programs\\python\\python312\\lib\\site-packages (from matplotlib>=3.4->qiskit_experiments==0.7.0) (0.12.1)\n",
      "Requirement already satisfied: fonttools>=4.22.0 in c:\\users\\gaming\\appdata\\local\\programs\\python\\python312\\lib\\site-packages (from matplotlib>=3.4->qiskit_experiments==0.7.0) (4.56.0)\n",
      "Requirement already satisfied: kiwisolver>=1.3.1 in c:\\users\\gaming\\appdata\\local\\programs\\python\\python312\\lib\\site-packages (from matplotlib>=3.4->qiskit_experiments==0.7.0) (1.4.8)\n",
      "Requirement already satisfied: pillow>=8 in c:\\users\\gaming\\appdata\\local\\programs\\python\\python312\\lib\\site-packages (from matplotlib>=3.4->qiskit_experiments==0.7.0) (11.1.0)\n",
      "Requirement already satisfied: pyparsing>=2.3.1 in c:\\users\\gaming\\appdata\\local\\programs\\python\\python312\\lib\\site-packages (from matplotlib>=3.4->qiskit_experiments==0.7.0) (3.2.1)\n",
      "Requirement already satisfied: python-dateutil>=2.7 in c:\\users\\gaming\\appdata\\roaming\\python\\python312\\site-packages (from matplotlib>=3.4->qiskit_experiments==0.7.0) (2.9.0.post0)\n",
      "Requirement already satisfied: pytz>=2020.1 in c:\\users\\gaming\\appdata\\local\\programs\\python\\python312\\lib\\site-packages (from pandas>=1.1.5->qiskit_experiments==0.7.0) (2025.1)\n",
      "Requirement already satisfied: tzdata>=2022.7 in c:\\users\\gaming\\appdata\\local\\programs\\python\\python312\\lib\\site-packages (from pandas>=1.1.5->qiskit_experiments==0.7.0) (2025.1)\n",
      "Requirement already satisfied: sympy>=1.3 in c:\\users\\gaming\\appdata\\local\\programs\\python\\python312\\lib\\site-packages (from qiskit>=0.45->qiskit_experiments==0.7.0) (1.13.3)\n",
      "Requirement already satisfied: dill>=0.3 in c:\\users\\gaming\\appdata\\local\\programs\\python\\python312\\lib\\site-packages (from qiskit>=0.45->qiskit_experiments==0.7.0) (0.3.9)\n",
      "Requirement already satisfied: stevedore>=3.0.0 in c:\\users\\gaming\\appdata\\local\\programs\\python\\python312\\lib\\site-packages (from qiskit>=0.45->qiskit_experiments==0.7.0) (5.4.0)\n",
      "Requirement already satisfied: typing-extensions in c:\\users\\gaming\\appdata\\local\\programs\\python\\python312\\lib\\site-packages (from qiskit>=0.45->qiskit_experiments==0.7.0) (4.12.2)\n",
      "Requirement already satisfied: symengine<0.14,>=0.11 in c:\\users\\gaming\\appdata\\local\\programs\\python\\python312\\lib\\site-packages (from qiskit>=0.45->qiskit_experiments==0.7.0) (0.13.0)\n",
      "Requirement already satisfied: requests>=2.19 in c:\\users\\gaming\\appdata\\local\\programs\\python\\python312\\lib\\site-packages (from qiskit-ibm-experiment>=0.4.6->qiskit_experiments==0.7.0) (2.32.3)\n",
      "Requirement already satisfied: requests-ntlm>=1.1.0 in c:\\users\\gaming\\appdata\\local\\programs\\python\\python312\\lib\\site-packages (from qiskit-ibm-experiment>=0.4.6->qiskit_experiments==0.7.0) (1.3.0)\n",
      "Requirement already satisfied: urllib3>=1.21.1 in c:\\users\\gaming\\appdata\\local\\programs\\python\\python312\\lib\\site-packages (from qiskit-ibm-experiment>=0.4.6->qiskit_experiments==0.7.0) (2.2.3)\n",
      "Requirement already satisfied: websocket-client>=1.0.1 in c:\\users\\gaming\\appdata\\local\\programs\\python\\python312\\lib\\site-packages (from qiskit-ibm-experiment>=0.4.6->qiskit_experiments==0.7.0) (1.8.0)\n",
      "Requirement already satisfied: pyyaml>=6.0.0 in c:\\users\\gaming\\appdata\\local\\programs\\python\\python312\\lib\\site-packages (from qiskit-ibm-experiment>=0.4.6->qiskit_experiments==0.7.0) (6.0.2)\n",
      "Requirement already satisfied: asteval>=1.0 in c:\\users\\gaming\\appdata\\local\\programs\\python\\python312\\lib\\site-packages (from lmfit->qiskit_experiments==0.7.0) (1.0.6)\n",
      "Requirement already satisfied: six>=1.5 in c:\\users\\gaming\\appdata\\roaming\\python\\python312\\site-packages (from python-dateutil>=2.7->matplotlib>=3.4->qiskit_experiments==0.7.0) (1.17.0)\n",
      "Requirement already satisfied: charset-normalizer<4,>=2 in c:\\users\\gaming\\appdata\\local\\programs\\python\\python312\\lib\\site-packages (from requests>=2.19->qiskit-ibm-experiment>=0.4.6->qiskit_experiments==0.7.0) (3.3.2)\n",
      "Requirement already satisfied: idna<4,>=2.5 in c:\\users\\gaming\\appdata\\local\\programs\\python\\python312\\lib\\site-packages (from requests>=2.19->qiskit-ibm-experiment>=0.4.6->qiskit_experiments==0.7.0) (3.10)\n",
      "Requirement already satisfied: certifi>=2017.4.17 in c:\\users\\gaming\\appdata\\local\\programs\\python\\python312\\lib\\site-packages (from requests>=2.19->qiskit-ibm-experiment>=0.4.6->qiskit_experiments==0.7.0) (2024.8.30)\n",
      "Requirement already satisfied: cryptography>=1.3 in c:\\users\\gaming\\appdata\\local\\programs\\python\\python312\\lib\\site-packages (from requests-ntlm>=1.1.0->qiskit-ibm-experiment>=0.4.6->qiskit_experiments==0.7.0) (44.0.1)\n",
      "Requirement already satisfied: pyspnego>=0.4.0 in c:\\users\\gaming\\appdata\\local\\programs\\python\\python312\\lib\\site-packages (from requests-ntlm>=1.1.0->qiskit-ibm-experiment>=0.4.6->qiskit_experiments==0.7.0) (0.11.2)\n",
      "Requirement already satisfied: pbr>=2.0.0 in c:\\users\\gaming\\appdata\\local\\programs\\python\\python312\\lib\\site-packages (from stevedore>=3.0.0->qiskit>=0.45->qiskit_experiments==0.7.0) (6.1.1)\n",
      "Requirement already satisfied: mpmath<1.4,>=1.1.0 in c:\\users\\gaming\\appdata\\local\\programs\\python\\python312\\lib\\site-packages (from sympy>=1.3->qiskit>=0.45->qiskit_experiments==0.7.0) (1.3.0)\n",
      "Requirement already satisfied: cffi>=1.12 in c:\\users\\gaming\\appdata\\local\\programs\\python\\python312\\lib\\site-packages (from cryptography>=1.3->requests-ntlm>=1.1.0->qiskit-ibm-experiment>=0.4.6->qiskit_experiments==0.7.0) (1.17.1)\n",
      "Requirement already satisfied: setuptools in c:\\users\\gaming\\appdata\\local\\programs\\python\\python312\\lib\\site-packages (from pbr>=2.0.0->stevedore>=3.0.0->qiskit>=0.45->qiskit_experiments==0.7.0) (75.8.0)\n",
      "Requirement already satisfied: sspilib>=0.1.0 in c:\\users\\gaming\\appdata\\local\\programs\\python\\python312\\lib\\site-packages (from pyspnego>=0.4.0->requests-ntlm>=1.1.0->qiskit-ibm-experiment>=0.4.6->qiskit_experiments==0.7.0) (0.2.0)\n",
      "Requirement already satisfied: pycparser in c:\\users\\gaming\\appdata\\local\\programs\\python\\python312\\lib\\site-packages (from cffi>=1.12->cryptography>=1.3->requests-ntlm>=1.1.0->qiskit-ibm-experiment>=0.4.6->qiskit_experiments==0.7.0) (2.22)\n",
      "Note: you may need to restart the kernel to use updated packages.\n"
     ]
    },
    {
     "name": "stderr",
     "output_type": "stream",
     "text": [
      "\n",
      "[notice] A new release of pip is available: 24.2 -> 25.0.1\n",
      "[notice] To update, run: python.exe -m pip install --upgrade pip\n"
     ]
    },
    {
     "name": "stdout",
     "output_type": "stream",
     "text": [
      "Requirement already satisfied: matplotlib==3.8.4 in c:\\users\\gaming\\appdata\\local\\programs\\python\\python312\\lib\\site-packages (3.8.4)\n",
      "Requirement already satisfied: contourpy>=1.0.1 in c:\\users\\gaming\\appdata\\local\\programs\\python\\python312\\lib\\site-packages (from matplotlib==3.8.4) (1.3.1)\n",
      "Requirement already satisfied: cycler>=0.10 in c:\\users\\gaming\\appdata\\local\\programs\\python\\python312\\lib\\site-packages (from matplotlib==3.8.4) (0.12.1)\n",
      "Requirement already satisfied: fonttools>=4.22.0 in c:\\users\\gaming\\appdata\\local\\programs\\python\\python312\\lib\\site-packages (from matplotlib==3.8.4) (4.56.0)\n",
      "Requirement already satisfied: kiwisolver>=1.3.1 in c:\\users\\gaming\\appdata\\local\\programs\\python\\python312\\lib\\site-packages (from matplotlib==3.8.4) (1.4.8)\n",
      "Requirement already satisfied: numpy>=1.21 in c:\\users\\gaming\\appdata\\local\\programs\\python\\python312\\lib\\site-packages (from matplotlib==3.8.4) (2.2.3)\n",
      "Requirement already satisfied: packaging>=20.0 in c:\\users\\gaming\\appdata\\roaming\\python\\python312\\site-packages (from matplotlib==3.8.4) (24.2)\n",
      "Requirement already satisfied: pillow>=8 in c:\\users\\gaming\\appdata\\local\\programs\\python\\python312\\lib\\site-packages (from matplotlib==3.8.4) (11.1.0)\n",
      "Requirement already satisfied: pyparsing>=2.3.1 in c:\\users\\gaming\\appdata\\local\\programs\\python\\python312\\lib\\site-packages (from matplotlib==3.8.4) (3.2.1)\n",
      "Requirement already satisfied: python-dateutil>=2.7 in c:\\users\\gaming\\appdata\\roaming\\python\\python312\\site-packages (from matplotlib==3.8.4) (2.9.0.post0)\n",
      "Requirement already satisfied: six>=1.5 in c:\\users\\gaming\\appdata\\roaming\\python\\python312\\site-packages (from python-dateutil>=2.7->matplotlib==3.8.4) (1.17.0)\n",
      "Note: you may need to restart the kernel to use updated packages.\n"
     ]
    },
    {
     "name": "stderr",
     "output_type": "stream",
     "text": [
      "\n",
      "[notice] A new release of pip is available: 24.2 -> 25.0.1\n",
      "[notice] To update, run: python.exe -m pip install --upgrade pip\n"
     ]
    },
    {
     "name": "stdout",
     "output_type": "stream",
     "text": [
      "Requirement already satisfied: pylatexenc==2.10 in c:\\users\\gaming\\appdata\\local\\programs\\python\\python312\\lib\\site-packages (2.10)\n",
      "Note: you may need to restart the kernel to use updated packages.\n"
     ]
    },
    {
     "name": "stderr",
     "output_type": "stream",
     "text": [
      "\n",
      "[notice] A new release of pip is available: 24.2 -> 25.0.1\n",
      "[notice] To update, run: python.exe -m pip install --upgrade pip\n"
     ]
    },
    {
     "name": "stdout",
     "output_type": "stream",
     "text": [
      "Requirement already satisfied: seaborn==0.13.2 in c:\\users\\gaming\\appdata\\local\\programs\\python\\python312\\lib\\site-packages (0.13.2)\n",
      "Requirement already satisfied: numpy!=1.24.0,>=1.20 in c:\\users\\gaming\\appdata\\local\\programs\\python\\python312\\lib\\site-packages (from seaborn==0.13.2) (2.2.3)\n",
      "Requirement already satisfied: pandas>=1.2 in c:\\users\\gaming\\appdata\\local\\programs\\python\\python312\\lib\\site-packages (from seaborn==0.13.2) (2.2.3)\n",
      "Requirement already satisfied: matplotlib!=3.6.1,>=3.4 in c:\\users\\gaming\\appdata\\local\\programs\\python\\python312\\lib\\site-packages (from seaborn==0.13.2) (3.8.4)\n",
      "Requirement already satisfied: contourpy>=1.0.1 in c:\\users\\gaming\\appdata\\local\\programs\\python\\python312\\lib\\site-packages (from matplotlib!=3.6.1,>=3.4->seaborn==0.13.2) (1.3.1)\n",
      "Requirement already satisfied: cycler>=0.10 in c:\\users\\gaming\\appdata\\local\\programs\\python\\python312\\lib\\site-packages (from matplotlib!=3.6.1,>=3.4->seaborn==0.13.2) (0.12.1)\n",
      "Requirement already satisfied: fonttools>=4.22.0 in c:\\users\\gaming\\appdata\\local\\programs\\python\\python312\\lib\\site-packages (from matplotlib!=3.6.1,>=3.4->seaborn==0.13.2) (4.56.0)\n",
      "Requirement already satisfied: kiwisolver>=1.3.1 in c:\\users\\gaming\\appdata\\local\\programs\\python\\python312\\lib\\site-packages (from matplotlib!=3.6.1,>=3.4->seaborn==0.13.2) (1.4.8)\n",
      "Requirement already satisfied: packaging>=20.0 in c:\\users\\gaming\\appdata\\roaming\\python\\python312\\site-packages (from matplotlib!=3.6.1,>=3.4->seaborn==0.13.2) (24.2)\n",
      "Requirement already satisfied: pillow>=8 in c:\\users\\gaming\\appdata\\local\\programs\\python\\python312\\lib\\site-packages (from matplotlib!=3.6.1,>=3.4->seaborn==0.13.2) (11.1.0)\n",
      "Requirement already satisfied: pyparsing>=2.3.1 in c:\\users\\gaming\\appdata\\local\\programs\\python\\python312\\lib\\site-packages (from matplotlib!=3.6.1,>=3.4->seaborn==0.13.2) (3.2.1)\n",
      "Requirement already satisfied: python-dateutil>=2.7 in c:\\users\\gaming\\appdata\\roaming\\python\\python312\\site-packages (from matplotlib!=3.6.1,>=3.4->seaborn==0.13.2) (2.9.0.post0)\n",
      "Requirement already satisfied: pytz>=2020.1 in c:\\users\\gaming\\appdata\\local\\programs\\python\\python312\\lib\\site-packages (from pandas>=1.2->seaborn==0.13.2) (2025.1)\n",
      "Requirement already satisfied: tzdata>=2022.7 in c:\\users\\gaming\\appdata\\local\\programs\\python\\python312\\lib\\site-packages (from pandas>=1.2->seaborn==0.13.2) (2025.1)\n",
      "Requirement already satisfied: six>=1.5 in c:\\users\\gaming\\appdata\\roaming\\python\\python312\\site-packages (from python-dateutil>=2.7->matplotlib!=3.6.1,>=3.4->seaborn==0.13.2) (1.17.0)\n",
      "Note: you may need to restart the kernel to use updated packages.\n"
     ]
    },
    {
     "name": "stderr",
     "output_type": "stream",
     "text": [
      "\n",
      "[notice] A new release of pip is available: 24.2 -> 25.0.1\n",
      "[notice] To update, run: python.exe -m pip install --upgrade pip\n"
     ]
    },
    {
     "name": "stdout",
     "output_type": "stream",
     "text": [
      "Collecting git+https://github.com/abdullahkhalids/stac\n",
      "  Cloning https://github.com/abdullahkhalids/stac to c:\\users\\gaming\\appdata\\local\\temp\\pip-req-build-xfku6rsh\n",
      "  Resolved https://github.com/abdullahkhalids/stac to commit 2428f7c5e31123f4a1768fdbaa18e50ab471c805\n",
      "  Installing build dependencies: started\n",
      "  Installing build dependencies: finished with status 'done'\n",
      "  Getting requirements to build wheel: started\n",
      "  Getting requirements to build wheel: finished with status 'done'\n",
      "  Preparing metadata (pyproject.toml): started\n",
      "  Preparing metadata (pyproject.toml): finished with status 'done'\n",
      "Requirement already satisfied: ipython in c:\\users\\gaming\\appdata\\roaming\\python\\python312\\site-packages (from stac==0.2) (8.32.0)\n",
      "Requirement already satisfied: numpy in c:\\users\\gaming\\appdata\\local\\programs\\python\\python312\\lib\\site-packages (from stac==0.2) (2.2.3)\n",
      "Requirement already satisfied: stim in c:\\users\\gaming\\appdata\\local\\programs\\python\\python312\\lib\\site-packages (from stac==0.2) (1.14.0)\n",
      "Requirement already satisfied: tabulate in c:\\users\\gaming\\appdata\\local\\programs\\python\\python312\\lib\\site-packages (from stac==0.2) (0.9.0)\n",
      "Requirement already satisfied: svg.py in c:\\users\\gaming\\appdata\\local\\programs\\python\\python312\\lib\\site-packages (from stac==0.2) (1.5.0)\n",
      "Requirement already satisfied: bidict in c:\\users\\gaming\\appdata\\local\\programs\\python\\python312\\lib\\site-packages (from stac==0.2) (0.23.1)\n",
      "Requirement already satisfied: networkx in c:\\users\\gaming\\appdata\\local\\programs\\python\\python312\\lib\\site-packages (from stac==0.2) (3.4.2)\n",
      "Requirement already satisfied: matplotlib in c:\\users\\gaming\\appdata\\local\\programs\\python\\python312\\lib\\site-packages (from stac==0.2) (3.8.4)\n",
      "Requirement already satisfied: ordered-set in c:\\users\\gaming\\appdata\\local\\programs\\python\\python312\\lib\\site-packages (from stac==0.2) (4.1.0)\n",
      "Requirement already satisfied: colorama in c:\\users\\gaming\\appdata\\local\\programs\\python\\python312\\lib\\site-packages (from ipython->stac==0.2) (0.4.6)\n",
      "Requirement already satisfied: decorator in c:\\users\\gaming\\appdata\\roaming\\python\\python312\\site-packages (from ipython->stac==0.2) (5.1.1)\n",
      "Requirement already satisfied: jedi>=0.16 in c:\\users\\gaming\\appdata\\roaming\\python\\python312\\site-packages (from ipython->stac==0.2) (0.19.2)\n",
      "Requirement already satisfied: matplotlib-inline in c:\\users\\gaming\\appdata\\roaming\\python\\python312\\site-packages (from ipython->stac==0.2) (0.1.7)\n",
      "Requirement already satisfied: prompt_toolkit<3.1.0,>=3.0.41 in c:\\users\\gaming\\appdata\\roaming\\python\\python312\\site-packages (from ipython->stac==0.2) (3.0.50)\n",
      "Requirement already satisfied: pygments>=2.4.0 in c:\\users\\gaming\\appdata\\roaming\\python\\python312\\site-packages (from ipython->stac==0.2) (2.19.1)\n",
      "Requirement already satisfied: stack_data in c:\\users\\gaming\\appdata\\roaming\\python\\python312\\site-packages (from ipython->stac==0.2) (0.6.3)\n",
      "Requirement already satisfied: traitlets>=5.13.0 in c:\\users\\gaming\\appdata\\roaming\\python\\python312\\site-packages (from ipython->stac==0.2) (5.14.3)\n",
      "Requirement already satisfied: contourpy>=1.0.1 in c:\\users\\gaming\\appdata\\local\\programs\\python\\python312\\lib\\site-packages (from matplotlib->stac==0.2) (1.3.1)\n",
      "Requirement already satisfied: cycler>=0.10 in c:\\users\\gaming\\appdata\\local\\programs\\python\\python312\\lib\\site-packages (from matplotlib->stac==0.2) (0.12.1)\n",
      "Requirement already satisfied: fonttools>=4.22.0 in c:\\users\\gaming\\appdata\\local\\programs\\python\\python312\\lib\\site-packages (from matplotlib->stac==0.2) (4.56.0)\n",
      "Requirement already satisfied: kiwisolver>=1.3.1 in c:\\users\\gaming\\appdata\\local\\programs\\python\\python312\\lib\\site-packages (from matplotlib->stac==0.2) (1.4.8)\n",
      "Requirement already satisfied: packaging>=20.0 in c:\\users\\gaming\\appdata\\roaming\\python\\python312\\site-packages (from matplotlib->stac==0.2) (24.2)\n",
      "Requirement already satisfied: pillow>=8 in c:\\users\\gaming\\appdata\\local\\programs\\python\\python312\\lib\\site-packages (from matplotlib->stac==0.2) (11.1.0)\n",
      "Requirement already satisfied: pyparsing>=2.3.1 in c:\\users\\gaming\\appdata\\local\\programs\\python\\python312\\lib\\site-packages (from matplotlib->stac==0.2) (3.2.1)\n",
      "Requirement already satisfied: python-dateutil>=2.7 in c:\\users\\gaming\\appdata\\roaming\\python\\python312\\site-packages (from matplotlib->stac==0.2) (2.9.0.post0)\n",
      "Requirement already satisfied: parso<0.9.0,>=0.8.4 in c:\\users\\gaming\\appdata\\roaming\\python\\python312\\site-packages (from jedi>=0.16->ipython->stac==0.2) (0.8.4)\n",
      "Requirement already satisfied: wcwidth in c:\\users\\gaming\\appdata\\roaming\\python\\python312\\site-packages (from prompt_toolkit<3.1.0,>=3.0.41->ipython->stac==0.2) (0.2.13)\n",
      "Requirement already satisfied: six>=1.5 in c:\\users\\gaming\\appdata\\roaming\\python\\python312\\site-packages (from python-dateutil>=2.7->matplotlib->stac==0.2) (1.17.0)\n",
      "Requirement already satisfied: executing>=1.2.0 in c:\\users\\gaming\\appdata\\roaming\\python\\python312\\site-packages (from stack_data->ipython->stac==0.2) (2.2.0)\n",
      "Requirement already satisfied: asttokens>=2.1.0 in c:\\users\\gaming\\appdata\\roaming\\python\\python312\\site-packages (from stack_data->ipython->stac==0.2) (3.0.0)\n",
      "Requirement already satisfied: pure-eval in c:\\users\\gaming\\appdata\\roaming\\python\\python312\\site-packages (from stack_data->ipython->stac==0.2) (0.2.3)\n",
      "Note: you may need to restart the kernel to use updated packages.\n"
     ]
    },
    {
     "name": "stderr",
     "output_type": "stream",
     "text": [
      "  Running command git clone --filter=blob:none --quiet https://github.com/abdullahkhalids/stac 'C:\\Users\\Gaming\\AppData\\Local\\Temp\\pip-req-build-xfku6rsh'\n",
      "\n",
      "[notice] A new release of pip is available: 24.2 -> 25.0.1\n",
      "[notice] To update, run: python.exe -m pip install --upgrade pip\n"
     ]
    }
   ],
   "source": [
    "%pip install qiskit-aer==0.16.1\n",
    "%pip install qiskit==1.3.2\n",
    "%pip install qiskit-ibm-runtime==0.26.0\n",
    "%pip install qiskit_experiments==0.7.0\n",
    "%pip install matplotlib==3.8.4\n",
    "%pip install pylatexenc==2.10\n",
    "%pip install seaborn==0.13.2\n",
    "%pip install git+https://github.com/abdullahkhalids/stac"
   ]
  },
  {
   "cell_type": "code",
   "execution_count": 40,
   "metadata": {},
   "outputs": [],
   "source": [
    "from qiskit import QuantumCircuit, transpile, QuantumRegister, ClassicalRegister\n",
    "from qiskit.providers.basic_provider import BasicSimulator\n",
    "from qiskit_aer import AerSimulator, QasmSimulator, StatevectorSimulator\n",
    "from qiskit_experiments.library import ProcessTomography\n",
    "from qiskit.visualization import plot_bloch_multivector, plot_state_city, array_to_latex\n",
    "from qiskit.quantum_info import partial_trace, Statevector, DensityMatrix, Operator, StabilizerState, purity\n",
    "import math"
   ]
  },
  {
   "cell_type": "markdown",
   "metadata": {},
   "source": [
    "<h3>Basic Examples</h3>"
   ]
  },
  {
   "cell_type": "markdown",
   "metadata": {},
   "source": [
    "<h5> Init circuit </h5>"
   ]
  },
  {
   "cell_type": "code",
   "execution_count": 41,
   "metadata": {
    "notebookRunGroups": {
     "groupValue": "2"
    }
   },
   "outputs": [
    {
     "data": {
      "text/plain": [
       "<qiskit.circuit.instructionset.InstructionSet at 0x1ce65ee8250>"
      ]
     },
     "execution_count": 41,
     "metadata": {},
     "output_type": "execute_result"
    }
   ],
   "source": [
    "qc_1 = QuantumCircuit(1)\n",
    "qc_1.x(0) # Create |1> state\n",
    "\n",
    "qc_plus = QuantumCircuit(1)\n",
    "qc_plus.h(0) # Create |+> state"
   ]
  },
  {
   "cell_type": "markdown",
   "metadata": {},
   "source": [
    "<h5> Ket rapresentation </h5>"
   ]
  },
  {
   "cell_type": "code",
   "execution_count": 42,
   "metadata": {},
   "outputs": [
    {
     "data": {
      "text/latex": [
       "$$ |1\\rangle$$"
      ],
      "text/plain": [
       "<IPython.core.display.Latex object>"
      ]
     },
     "execution_count": 42,
     "metadata": {},
     "output_type": "execute_result"
    }
   ],
   "source": [
    "state_vector = Statevector(qc_1)\n",
    "state_vector.draw('latex')"
   ]
  },
  {
   "cell_type": "code",
   "execution_count": 43,
   "metadata": {},
   "outputs": [
    {
     "data": {
      "text/latex": [
       "$$\\frac{\\sqrt{2}}{2} |0\\rangle+\\frac{\\sqrt{2}}{2} |1\\rangle$$"
      ],
      "text/plain": [
       "<IPython.core.display.Latex object>"
      ]
     },
     "execution_count": 43,
     "metadata": {},
     "output_type": "execute_result"
    }
   ],
   "source": [
    "state_vector = Statevector(qc_plus)\n",
    "state_vector.draw('latex')"
   ]
  },
  {
   "cell_type": "markdown",
   "metadata": {},
   "source": [
    "<h5> Density matrix rapresentation </h5>"
   ]
  },
  {
   "cell_type": "code",
   "execution_count": 44,
   "metadata": {},
   "outputs": [
    {
     "name": "stdout",
     "output_type": "stream",
     "text": [
      "Density Matrix Representation:\n"
     ]
    },
    {
     "data": {
      "text/latex": [
       "$$\n",
       "\n",
       "\\begin{bmatrix}\n",
       "0 & 0  \\\\\n",
       " 0 & 1  \\\\\n",
       " \\end{bmatrix}\n",
       "$$"
      ],
      "text/plain": [
       "<IPython.core.display.Latex object>"
      ]
     },
     "execution_count": 44,
     "metadata": {},
     "output_type": "execute_result"
    }
   ],
   "source": [
    "print(\"Density Matrix Representation:\")\n",
    "\n",
    "density_matrix = DensityMatrix(qc_1)\n",
    "density_matrix.draw('latex')"
   ]
  },
  {
   "cell_type": "code",
   "execution_count": 45,
   "metadata": {},
   "outputs": [
    {
     "data": {
      "text/latex": [
       "$$\n",
       "\n",
       "\\begin{bmatrix}\n",
       "\\frac{1}{2} & \\frac{1}{2}  \\\\\n",
       " \\frac{1}{2} & \\frac{1}{2}  \\\\\n",
       " \\end{bmatrix}\n",
       "$$"
      ],
      "text/plain": [
       "<IPython.core.display.Latex object>"
      ]
     },
     "execution_count": 45,
     "metadata": {},
     "output_type": "execute_result"
    }
   ],
   "source": [
    "density_matrix = DensityMatrix(qc_plus)\n",
    "density_matrix.draw('latex')"
   ]
  },
  {
   "cell_type": "markdown",
   "metadata": {},
   "source": [
    "<h5> Stabilizer rapresentation </h5>"
   ]
  },
  {
   "cell_type": "code",
   "execution_count": 46,
   "metadata": {},
   "outputs": [
    {
     "name": "stdout",
     "output_type": "stream",
     "text": [
      "StabilizerState(['-Z'])\n",
      "StabilizerState(['+X'])\n"
     ]
    }
   ],
   "source": [
    "stabilizer_state = StabilizerState(qc_1)\n",
    "print(stabilizer_state)\n",
    "stabilizer_state = StabilizerState(qc_plus)\n",
    "print(stabilizer_state)"
   ]
  },
  {
   "cell_type": "markdown",
   "metadata": {},
   "source": [
    "<h2> State space growht </h2>"
   ]
  },
  {
   "cell_type": "code",
   "execution_count": 47,
   "metadata": {},
   "outputs": [
    {
     "data": {
      "text/plain": [
       "<qiskit.circuit.instructionset.InstructionSet at 0x1ce65e91330>"
      ]
     },
     "execution_count": 47,
     "metadata": {},
     "output_type": "execute_result"
    }
   ],
   "source": [
    "# init circutis\n",
    "\n",
    "qc_phi_plus = QuantumCircuit(2)\n",
    "qc_phi_plus.h(0)\n",
    "qc_phi_plus.cx(0,1)\n",
    "\n",
    "qc_ghz = QuantumCircuit(3)\n",
    "qc_ghz.h(0)\n",
    "qc_ghz.cx(0,1)\n",
    "qc_ghz.cx(0,2)"
   ]
  },
  {
   "cell_type": "markdown",
   "metadata": {},
   "source": [
    "<h5> Density Matrix </h5> 2^n x 2^n matrix"
   ]
  },
  {
   "cell_type": "code",
   "execution_count": 48,
   "metadata": {},
   "outputs": [
    {
     "name": "stdout",
     "output_type": "stream",
     "text": [
      "4\n"
     ]
    },
    {
     "data": {
      "text/latex": [
       "$$\n",
       "\n",
       "\\begin{bmatrix}\n",
       "\\frac{1}{2} & 0 & 0 & \\frac{1}{2}  \\\\\n",
       " 0 & 0 & 0 & 0  \\\\\n",
       " 0 & 0 & 0 & 0  \\\\\n",
       " \\frac{1}{2} & 0 & 0 & \\frac{1}{2}  \\\\\n",
       " \\end{bmatrix}\n",
       "$$"
      ],
      "text/plain": [
       "<IPython.core.display.Latex object>"
      ]
     },
     "execution_count": 48,
     "metadata": {},
     "output_type": "execute_result"
    }
   ],
   "source": [
    "density_matrix = DensityMatrix(qc_phi_plus)\n",
    "print(density_matrix.dim)\n",
    "density_matrix.draw('latex')"
   ]
  },
  {
   "cell_type": "code",
   "execution_count": 49,
   "metadata": {},
   "outputs": [
    {
     "name": "stdout",
     "output_type": "stream",
     "text": [
      "8\n"
     ]
    },
    {
     "data": {
      "text/latex": [
       "$$\n",
       "\n",
       "\\begin{bmatrix}\n",
       "\\frac{1}{2} & 0 & 0 & 0 & 0 & 0 & 0 & \\frac{1}{2}  \\\\\n",
       " 0 & 0 & 0 & 0 & 0 & 0 & 0 & 0  \\\\\n",
       " 0 & 0 & 0 & 0 & 0 & 0 & 0 & 0  \\\\\n",
       " 0 & 0 & 0 & 0 & 0 & 0 & 0 & 0  \\\\\n",
       " 0 & 0 & 0 & 0 & 0 & 0 & 0 & 0  \\\\\n",
       " 0 & 0 & 0 & 0 & 0 & 0 & 0 & 0  \\\\\n",
       " 0 & 0 & 0 & 0 & 0 & 0 & 0 & 0  \\\\\n",
       " \\frac{1}{2} & 0 & 0 & 0 & 0 & 0 & 0 & \\frac{1}{2}  \\\\\n",
       " \\end{bmatrix}\n",
       "$$"
      ],
      "text/plain": [
       "<IPython.core.display.Latex object>"
      ]
     },
     "execution_count": 49,
     "metadata": {},
     "output_type": "execute_result"
    }
   ],
   "source": [
    "density_matrix = DensityMatrix(qc_ghz)\n",
    "print(density_matrix.dim)\n",
    "density_matrix.draw('latex')"
   ]
  },
  {
   "cell_type": "markdown",
   "metadata": {},
   "source": [
    "<h5> Stabilizer </h5>\n",
    "n generators"
   ]
  },
  {
   "cell_type": "code",
   "execution_count": 50,
   "metadata": {},
   "outputs": [
    {
     "name": "stdout",
     "output_type": "stream",
     "text": [
      "StabilizerState(['+XX', '+ZZ'])\n"
     ]
    }
   ],
   "source": [
    "stabilizer_state = StabilizerState(qc_phi_plus)\n",
    "print(stabilizer_state)"
   ]
  },
  {
   "cell_type": "code",
   "execution_count": 51,
   "metadata": {},
   "outputs": [
    {
     "name": "stdout",
     "output_type": "stream",
     "text": [
      "StabilizerState(['+XXX', '+IZZ', '+ZIZ'])\n"
     ]
    }
   ],
   "source": [
    "stabilizer_state = StabilizerState(qc_ghz)\n",
    "print(stabilizer_state)"
   ]
  },
  {
   "cell_type": "markdown",
   "metadata": {},
   "source": [
    "<h2>Mixed State</h2> purity always != 1"
   ]
  },
  {
   "cell_type": "code",
   "execution_count": 52,
   "metadata": {},
   "outputs": [
    {
     "name": "stdout",
     "output_type": "stream",
     "text": [
      "Purity (0.75+0j)\n"
     ]
    },
    {
     "data": {
      "text/latex": [
       "$$\n",
       "\n",
       "\\begin{bmatrix}\n",
       "\\frac{1}{4} & \\frac{1}{4}  \\\\\n",
       " \\frac{1}{4} & \\frac{3}{4}  \\\\\n",
       " \\end{bmatrix}\n",
       "$$"
      ],
      "text/plain": [
       "<IPython.core.display.Latex object>"
      ]
     },
     "execution_count": 52,
     "metadata": {},
     "output_type": "execute_result"
    }
   ],
   "source": [
    "# Directly setup mixed state\n",
    "\n",
    "mixed_state = (\n",
    "    1/2 * DensityMatrix(qc_1)\n",
    "    +\n",
    "    1/2 * DensityMatrix(qc_plus)\n",
    ")\n",
    "\n",
    "print(f\"Purity {purity(mixed_state)}\")\n",
    "mixed_state.draw('latex')\n",
    "\n"
   ]
  },
  {
   "cell_type": "code",
   "execution_count": 53,
   "metadata": {},
   "outputs": [
    {
     "name": "stdout",
     "output_type": "stream",
     "text": [
      "Purity (0.4999999999999998+0j)\n"
     ]
    },
    {
     "data": {
      "text/latex": [
       "$$\n",
       "\n",
       "\\begin{bmatrix}\n",
       "\\frac{1}{2} & 0  \\\\\n",
       " 0 & \\frac{1}{2}  \\\\\n",
       " \\end{bmatrix}\n",
       "$$"
      ],
      "text/plain": [
       "<IPython.core.display.Latex object>"
      ]
     },
     "execution_count": 53,
     "metadata": {},
     "output_type": "execute_result"
    }
   ],
   "source": [
    "# Get mixed state as partial trace of entangled system\n",
    "qc_mixed = QuantumCircuit(2)\n",
    "qc_mixed.h(0)\n",
    "qc_mixed.cx(0, 1)\n",
    "\n",
    "mixed_state = partial_trace(Statevector.from_instruction(qc_mixed), [0])\n",
    "print(f\"Purity {purity(mixed_state)}\")\n",
    "mixed_state.draw('latex')"
   ]
  },
  {
   "cell_type": "markdown",
   "metadata": {},
   "source": [
    "Non Clifford Circuit"
   ]
  },
  {
   "cell_type": "code",
   "execution_count": 54,
   "metadata": {},
   "outputs": [
    {
     "data": {
      "text/plain": [
       "<qiskit.circuit.instructionset.InstructionSet at 0x1ce61732c20>"
      ]
     },
     "execution_count": 54,
     "metadata": {},
     "output_type": "execute_result"
    }
   ],
   "source": [
    "# Circuito quantistico con porta non di Clifford\n",
    "qc_non_clifford = QuantumCircuit(2)\n",
    "qc_non_clifford.h(0)\n",
    "qc_non_clifford.tdg(0)\n",
    "qc_non_clifford.cx(0, 1)"
   ]
  },
  {
   "cell_type": "code",
   "execution_count": 55,
   "metadata": {},
   "outputs": [
    {
     "data": {
      "text/latex": [
       "$$\n",
       "\n",
       "\\begin{bmatrix}\n",
       "\\frac{1}{2} & 0 & 0 & \\frac{\\sqrt{2}}{4} + \\frac{\\sqrt{2} i}{4}  \\\\\n",
       " 0 & 0 & 0 & 0  \\\\\n",
       " 0 & 0 & 0 & 0  \\\\\n",
       " \\frac{\\sqrt{2}}{4} - \\frac{\\sqrt{2} i}{4} & 0 & 0 & \\frac{1}{2}  \\\\\n",
       " \\end{bmatrix}\n",
       "$$"
      ],
      "text/plain": [
       "<IPython.core.display.Latex object>"
      ]
     },
     "execution_count": 55,
     "metadata": {},
     "output_type": "execute_result"
    }
   ],
   "source": [
    "DensityMatrix(qc_non_clifford).draw('latex')"
   ]
  },
  {
   "cell_type": "code",
   "execution_count": 56,
   "metadata": {},
   "outputs": [
    {
     "name": "stdout",
     "output_type": "stream",
     "text": [
      "Error using stabilizer formalism: 'Cannot update Clifford with non-Clifford gate tdg'\n"
     ]
    }
   ],
   "source": [
    "try:\n",
    "    StabilizerState(qc_non_clifford)\n",
    "except Exception as e:\n",
    "    print(f\"Error using stabilizer formalism: {e}\")"
   ]
  },
  {
   "cell_type": "markdown",
   "metadata": {},
   "source": [
    "---"
   ]
  },
  {
   "cell_type": "markdown",
   "metadata": {},
   "source": [
    "<h2>Benchmarks</h2>"
   ]
  },
  {
   "cell_type": "code",
   "execution_count": 57,
   "metadata": {},
   "outputs": [],
   "source": [
    "# benchmarks imports\n",
    "import time as bm_t\n",
    "import tracemalloc as bm_m"
   ]
  },
  {
   "cell_type": "markdown",
   "metadata": {},
   "source": [
    "<h4>Clifford circuits benchmark</h4> only H - S - CNOT"
   ]
  },
  {
   "cell_type": "markdown",
   "metadata": {},
   "source": [
    "<h5>Testbench circuit & configuration</h5>"
   ]
  },
  {
   "cell_type": "code",
   "execution_count": 58,
   "metadata": {},
   "outputs": [],
   "source": [
    "shots = 20000 # number of simulations"
   ]
  },
  {
   "cell_type": "code",
   "execution_count": 59,
   "metadata": {},
   "outputs": [
    {
     "data": {
      "image/png": "[encoded data removed]",
      "text/plain": [
       "<Figure size 998.442x451.5 with 1 Axes>"
      ]
     },
     "execution_count": 59,
     "metadata": {},
     "output_type": "execute_result"
    }
   ],
   "source": [
    "qc = QuantumCircuit(4)\n",
    "\n",
    "# Layer 1\n",
    "qc.h(0)\n",
    "qc.s(1)\n",
    "qc.s(2)\n",
    "qc.h(3)\n",
    "\n",
    "# Layer 2\n",
    "qc.h(1)\n",
    "qc.s(3)\n",
    "\n",
    "# Layer 3\n",
    "qc.cx(0, 1)\n",
    "qc.cx(2, 3)\n",
    "\n",
    "# Layer 4\n",
    "qc.cx(1, 3)\n",
    "qc.s(0)\n",
    "\n",
    "# Layer 5\n",
    "qc.s(3)\n",
    "\n",
    "qc.measure_all()\n",
    "\n",
    "qc.draw('mpl')"
   ]
  },
  {
   "cell_type": "code",
   "execution_count": 60,
   "metadata": {},
   "outputs": [
    {
     "data": {
      "image/png": "[encoded data removed]",
      "text/plain": [
       "<Figure size 1667.33x785.944 with 1 Axes>"
      ]
     },
     "execution_count": 60,
     "metadata": {},
     "output_type": "execute_result"
    }
   ],
   "source": [
    "qc_2 = QuantumCircuit(8)\n",
    "\n",
    "# Layer 1\n",
    "qc_2.h(0)\n",
    "qc_2.s(1)\n",
    "qc_2.s(2)\n",
    "qc_2.h(3)\n",
    "qc_2.s(5)\n",
    "qc_2.h(6)\n",
    "\n",
    "# Layer 2\n",
    "qc_2.h(1)\n",
    "qc_2.s(3)\n",
    "qc_2.cx(2, 4)\n",
    "qc_2.cx(5, 6)\n",
    "\n",
    "# Layer 3\n",
    "qc_2.cx(6, 3)\n",
    "qc_2.cx(5, 4)\n",
    "qc_2.s(0)\n",
    "\n",
    "# Layer 4\n",
    "qc_2.cx(0, 5)\n",
    "qc_2.s(7)\n",
    "\n",
    "# Layer 5\n",
    "qc_2.s(3)\n",
    "qc_2.s(7)\n",
    "qc_2.h(5)\n",
    "\n",
    "qc_2.cx(6, 1)\n",
    "qc_2.cx(2, 4)\n",
    "qc_2.h(5)\n",
    "qc_2.s(2)\n",
    "qc_2.s(6)\n",
    "\n",
    "qc_2.measure_all()\n",
    "\n",
    "qc_2.draw('mpl')"
   ]
  },
  {
   "cell_type": "code",
   "execution_count": 61,
   "metadata": {},
   "outputs": [
    {
     "data": {
      "image/png": "[encoded data removed]",
      "text/plain": [
       "<Figure size 2270.84x1789.28 with 1 Axes>"
      ]
     },
     "execution_count": 61,
     "metadata": {},
     "output_type": "execute_result"
    }
   ],
   "source": [
    "qc_4 = QuantumCircuit(8)\n",
    "\n",
    "# Layer 1\n",
    "qc_2.h(0)\n",
    "qc_2.s(1)\n",
    "qc_2.y(1)\n",
    "qc_2.s(2)\n",
    "qc_2.z(2)\n",
    "qc_2.h(3)\n",
    "qc_2.s(5)\n",
    "qc_2.z(5)\n",
    "qc_2.h(6)\n",
    "\n",
    "# Layer 2\n",
    "qc_2.h(1)\n",
    "qc_2.s(3)\n",
    "qc_2.cx(2, 4)\n",
    "qc_2.cx(5, 6)\n",
    "qc_2.cz(5, 6)\n",
    "\n",
    "# Layer 3\n",
    "qc_2.cx(6, 3)\n",
    "qc_2.cz(6, 3)\n",
    "qc_2.cx(5, 4)\n",
    "qc_2.s(0)\n",
    "qc_2.z(0)\n",
    "\n",
    "# Layer 4\n",
    "qc_2.cx(0, 5)\n",
    "qc_2.s(7)\n",
    "qc_2.t(7)\n",
    "\n",
    "# Layer 5\n",
    "qc_2.s(3)\n",
    "qc_2.s(7)\n",
    "qc_2.h(5)\n",
    "\n",
    "qc_2.cx(6, 1)\n",
    "qc_2.cx(2, 4)\n",
    "qc_2.tdg(5)\n",
    "qc_2.s(2)\n",
    "qc_2.s(6)\n",
    "\n",
    "qc_2.measure_all()\n",
    "\n",
    "qc_2.draw('mpl')"
   ]
  },
  {
   "cell_type": "code",
   "execution_count": 62,
   "metadata": {},
   "outputs": [],
   "source": [
    "import random\n",
    "\n",
    "\n",
    "def random_clifford_circuit(n, depth):\n",
    "    qc = QuantumCircuit(n)\n",
    "    for _ in range(depth):\n",
    "        for q in range(n):\n",
    "            if random.choice([True, False]):\n",
    "                qc.h(q)\n",
    "            else:\n",
    "                qc.s(q)\n",
    "        # Add some entangling gates\n",
    "        for i in range(n - 1):\n",
    "            qc.cx(i, i + 1)\n",
    "    return qc\n",
    "\n",
    "qc_3 = random_clifford_circuit(1000, 2230)\n",
    "# qc_3.draw('mpl')"
   ]
  },
  {
   "cell_type": "code",
   "execution_count": 63,
   "metadata": {},
   "outputs": [],
   "source": [
    "# qc_to_benchmark = qc_1\n",
    "qc_to_benchmark = qc_2\n",
    "# qc_to_benchmark = qc_3\n",
    "# qc_to_benchmark = qc_4\n",
    "\n",
    "#TODO: La simulazione automaticamente sceglie sempre l'approccio migliore"
   ]
  },
  {
   "cell_type": "markdown",
   "metadata": {},
   "source": [
    "<h5>Density benchmark</h5>"
   ]
  },
  {
   "cell_type": "code",
   "execution_count": 64,
   "metadata": {},
   "outputs": [
    {
     "name": "stdout",
     "output_type": "stream",
     "text": [
      "('automatic', 'statevector', 'density_matrix', 'stabilizer', 'matrix_product_state', 'extended_stabilizer', 'unitary', 'superop')\n"
     ]
    }
   ],
   "source": [
    "simulator_density = AerSimulator(method=\"density_matrix\") \n",
    "# # Start measuring memory usage\n",
    "# bm_m.start()\n",
    "# start_time = bm_t.time()\n",
    "print(simulator_density.available_methods())\n",
    "# Run the circuit simulation\n",
    "result = simulator_density.run(qc_to_benchmark, shots=shots, method=\"density_matrix\").result()\n",
    "\n",
    "# elapsed_time = bm_t.time() - start_time\n",
    "# current, peak = bm_m.get_traced_memory()\n",
    "# bm_m.stop()\n",
    "\n",
    "# print(elapsed_time, peak / 1024)  # peak in KB\n",
    "\n"
   ]
  },
  {
   "cell_type": "markdown",
   "metadata": {},
   "source": [
    "<h5>Stabilizer benchmark</h5>"
   ]
  },
  {
   "cell_type": "code",
   "execution_count": 65,
   "metadata": {},
   "outputs": [],
   "source": [
    "simulator_stabilizer = AerSimulator(method=\"stabilizer\") \n",
    "\n",
    "# Start measuring memory usage\n",
    "# bm_m.start()\n",
    "# start_time = bm_t.time()\n",
    "\n",
    "# Run the circuit simulation\n",
    "result = simulator_stabilizer.run(qc_to_benchmark, shots=shots, method=\"stabilizer\").result()\n",
    "\n",
    "# elapsed_time = bm_t.time() - start_time\n",
    "# current, peak = bm_m.get_traced_memory()\n",
    "# bm_m.stop()\n",
    "\n",
    "# print(elapsed_time, peak / 1024)  # peak in KB"
   ]
  },
  {
   "cell_type": "markdown",
   "metadata": {},
   "source": [
    "---"
   ]
  },
  {
   "cell_type": "markdown",
   "metadata": {},
   "source": [
    "<h2>Process Tomography</h2>"
   ]
  },
  {
   "cell_type": "code",
   "execution_count": 66,
   "metadata": {},
   "outputs": [
    {
     "data": {
      "image/png": "[encoded data removed]",
      "text/plain": [
       "<Figure size 413.165x200.667 with 1 Axes>"
      ]
     },
     "execution_count": 66,
     "metadata": {},
     "output_type": "execute_result"
    }
   ],
   "source": [
    "qc_tomo_overhead = QuantumCircuit(1)\n",
    "\n",
    "# Layer 1\n",
    "qc_tomo_overhead.h(0)\n",
    "# qc_tomo.s(1)\n",
    "\n",
    "qc_tomo_overhead.measure_all()\n",
    "\n",
    "qc_tomo_overhead.draw('mpl')"
   ]
  },
  {
   "cell_type": "code",
   "execution_count": 67,
   "metadata": {},
   "outputs": [
    {
     "data": {
      "image/png": "[encoded data removed]",
      "text/plain": [
       "<Figure size 663.998x284.278 with 1 Axes>"
      ]
     },
     "execution_count": 67,
     "metadata": {},
     "output_type": "execute_result"
    }
   ],
   "source": [
    "# Crea un circuito quantistico con 2 qubit\n",
    "qc_tomo = QuantumCircuit(2)\n",
    "\n",
    "# Layer 1: Crea entanglement\n",
    "qc_tomo.h(0)\n",
    "qc_tomo.cx(0, 1)\n",
    "\n",
    "# Layer 2: Aggiungi una porta singola\n",
    "qc_tomo.s(1)\n",
    "\n",
    "# Misura tutti i qubit\n",
    "qc_tomo.measure_all()\n",
    "\n",
    "qc_tomo.draw('mpl')"
   ]
  },
  {
   "cell_type": "code",
   "execution_count": 68,
   "metadata": {},
   "outputs": [],
   "source": [
    "# qc_to_ps_tomo = qc_tomo_overhead\n",
    "qc_to_ps_tomo = qc_tomo"
   ]
  },
  {
   "cell_type": "markdown",
   "metadata": {},
   "source": [
    "<h5>Density matrix</h5>"
   ]
  },
  {
   "cell_type": "code",
   "execution_count": 69,
   "metadata": {},
   "outputs": [
    {
     "name": "stdout",
     "output_type": "stream",
     "text": [
      "[{'counts': {'00 00': 4, '11 11': 6}, 'job_id': 'b5fca0b4-d612-4d8e-8f76-7863a144f8db', 'metadata': {'clbits': [2, 3], 'cond_clbits': None, 'm_idx': [0, 0], 'p_idx': [0, 0]}, 'shots': 10, 'meas_level': <MeasLevel.CLASSIFIED: 2>}, {'counts': {'01 11': 1, '10 00': 4, '00 00': 4, '11 11': 1}, 'job_id': 'b5fca0b4-d612-4d8e-8f76-7863a144f8db', 'metadata': {'clbits': [2, 3], 'cond_clbits': None, 'm_idx': [0, 1], 'p_idx': [0, 0]}, 'shots': 10, 'meas_level': <MeasLevel.CLASSIFIED: 2>}, {'counts': {'10 00': 2, '00 00': 4, '11 11': 3, '01 11': 1}, 'job_id': 'b5fca0b4-d612-4d8e-8f76-7863a144f8db', 'metadata': {'clbits': [2, 3], 'cond_clbits': None, 'm_idx': [0, 2], 'p_idx': [0, 0]}, 'shots': 10, 'meas_level': <MeasLevel.CLASSIFIED: 2>}, {'counts': {'11 11': 4, '10 11': 3, '01 00': 1, '00 00': 2}, 'job_id': 'b5fca0b4-d612-4d8e-8f76-7863a144f8db', 'metadata': {'clbits': [2, 3], 'cond_clbits': None, 'm_idx': [1, 0], 'p_idx': [0, 0]}, 'shots': 10, 'meas_level': <MeasLevel.CLASSIFIED: 2>}, {'counts': {'11 11': 1, '01 00': 2, '10 11': 4, '10 00': 1, '11 00': 1, '01 11': 1}, 'job_id': 'b5fca0b4-d612-4d8e-8f76-7863a144f8db', 'metadata': {'clbits': [2, 3], 'cond_clbits': None, 'm_idx': [1, 1], 'p_idx': [0, 0]}, 'shots': 10, 'meas_level': <MeasLevel.CLASSIFIED: 2>}, {'counts': {'01 00': 1, '10 11': 2, '10 00': 1, '00 00': 1, '01 11': 2, '11 11': 1, '11 00': 1, '00 11': 1}, 'job_id': 'b5fca0b4-d612-4d8e-8f76-7863a144f8db', 'metadata': {'clbits': [2, 3], 'cond_clbits': None, 'm_idx': [1, 2], 'p_idx': [0, 0]}, 'shots': 10, 'meas_level': <MeasLevel.CLASSIFIED: 2>}, {'counts': {'00 00': 4, '11 11': 2, '10 11': 2, '01 00': 2}, 'job_id': 'b5fca0b4-d612-4d8e-8f76-7863a144f8db', 'metadata': {'clbits': [2, 3], 'cond_clbits': None, 'm_idx': [2, 0], 'p_idx': [0, 0]}, 'shots': 10, 'meas_level': <MeasLevel.CLASSIFIED: 2>}, {'counts': {'00 11': 2, '11 00': 2, '00 00': 1, '10 00': 2, '11 11': 2, '01 00': 1}, 'job_id': 'b5fca0b4-d612-4d8e-8f76-7863a144f8db', 'metadata': {'clbits': [2, 3], 'cond_clbits': None, 'm_idx': [2, 1], 'p_idx': [0, 0]}, 'shots': 10, 'meas_level': <MeasLevel.CLASSIFIED: 2>}, {'counts': {'11 11': 2, '01 00': 1, '01 11': 2, '00 00': 1, '10 00': 1, '10 11': 2, '00 11': 1}, 'job_id': 'b5fca0b4-d612-4d8e-8f76-7863a144f8db', 'metadata': {'clbits': [2, 3], 'cond_clbits': None, 'm_idx': [2, 2], 'p_idx': [0, 0]}, 'shots': 10, 'meas_level': <MeasLevel.CLASSIFIED: 2>}, {'counts': {'01 01': 6, '10 10': 4}, 'job_id': 'b5fca0b4-d612-4d8e-8f76-7863a144f8db', 'metadata': {'clbits': [2, 3], 'cond_clbits': None, 'm_idx': [0, 0], 'p_idx': [0, 1]}, 'shots': 10, 'meas_level': <MeasLevel.CLASSIFIED: 2>}, {'counts': {'11 01': 3, '01 01': 3, '00 10': 4}, 'job_id': 'b5fca0b4-d612-4d8e-8f76-7863a144f8db', 'metadata': {'clbits': [2, 3], 'cond_clbits': None, 'm_idx': [0, 1], 'p_idx': [0, 1]}, 'shots': 10, 'meas_level': <MeasLevel.CLASSIFIED: 2>}, {'counts': {'00 10': 3, '01 01': 2, '11 01': 3, '10 10': 2}, 'job_id': 'b5fca0b4-d612-4d8e-8f76-7863a144f8db', 'metadata': {'clbits': [2, 3], 'cond_clbits': None, 'm_idx': [0, 2], 'p_idx': [0, 1]}, 'shots': 10, 'meas_level': <MeasLevel.CLASSIFIED: 2>}, {'counts': {'10 10': 1, '00 01': 6, '01 01': 3}, 'job_id': 'b5fca0b4-d612-4d8e-8f76-7863a144f8db', 'metadata': {'clbits': [2, 3], 'cond_clbits': None, 'm_idx': [1, 0], 'p_idx': [0, 1]}, 'shots': 10, 'meas_level': <MeasLevel.CLASSIFIED: 2>}, {'counts': {'10 10': 2, '00 01': 2, '01 10': 3, '11 01': 1, '11 10': 1, '01 01': 1}, 'job_id': 'b5fca0b4-d612-4d8e-8f76-7863a144f8db', 'metadata': {'clbits': [2, 3], 'cond_clbits': None, 'm_idx': [1, 1], 'p_idx': [0, 1]}, 'shots': 10, 'meas_level': <MeasLevel.CLASSIFIED: 2>}, {'counts': {'11 01': 2, '10 10': 2, '10 01': 3, '01 01': 1, '11 10': 1, '01 10': 1}, 'job_id': 'b5fca0b4-d612-4d8e-8f76-7863a144f8db', 'metadata': {'clbits': [2, 3], 'cond_clbits': None, 'm_idx': [1, 2], 'p_idx': [0, 1]}, 'shots': 10, 'meas_level': <MeasLevel.CLASSIFIED: 2>}, {'counts': {'10 10': 2, '00 01': 4, '01 01': 4}, 'job_id': 'b5fca0b4-d612-4d8e-8f76-7863a144f8db', 'metadata': {'clbits': [2, 3], 'cond_clbits': None, 'm_idx': [2, 0], 'p_idx': [0, 1]}, 'shots': 10, 'meas_level': <MeasLevel.CLASSIFIED: 2>}, {'counts': {'11 10': 1, '01 01': 2, '00 10': 2, '10 01': 1, '00 01': 1, '11 01': 1, '01 10': 2}, 'job_id': 'b5fca0b4-d612-4d8e-8f76-7863a144f8db', 'metadata': {'clbits': [2, 3], 'cond_clbits': None, 'm_idx': [2, 1], 'p_idx': [0, 1]}, 'shots': 10, 'meas_level': <MeasLevel.CLASSIFIED: 2>}, {'counts': {'11 01': 2, '00 01': 3, '10 01': 3, '00 10': 1, '01 10': 1}, 'job_id': 'b5fca0b4-d612-4d8e-8f76-7863a144f8db', 'metadata': {'clbits': [2, 3], 'cond_clbits': None, 'm_idx': [2, 2], 'p_idx': [0, 1]}, 'shots': 10, 'meas_level': <MeasLevel.CLASSIFIED: 2>}, {'counts': {'00 00': 3, '11 11': 3, '01 01': 2, '10 10': 2}, 'job_id': 'b5fca0b4-d612-4d8e-8f76-7863a144f8db', 'metadata': {'clbits': [2, 3], 'cond_clbits': None, 'm_idx': [0, 0], 'p_idx': [0, 2]}, 'shots': 10, 'meas_level': <MeasLevel.CLASSIFIED: 2>}, {'counts': {'01 11': 2, '11 11': 3, '01 01': 1, '10 00': 1, '00 00': 2, '11 01': 1}, 'job_id': 'b5fca0b4-d612-4d8e-8f76-7863a144f8db', 'metadata': {'clbits': [2, 3], 'cond_clbits': None, 'm_idx': [0, 1], 'p_idx': [0, 2]}, 'shots': 10, 'meas_level': <MeasLevel.CLASSIFIED: 2>}, {'counts': {'10 10': 3, '01 11': 1, '00 00': 2, '00 10': 2, '01 01': 1, '11 01': 1}, 'job_id': 'b5fca0b4-d612-4d8e-8f76-7863a144f8db', 'metadata': {'clbits': [2, 3], 'cond_clbits': None, 'm_idx': [0, 2], 'p_idx': [0, 2]}, 'shots': 10, 'meas_level': <MeasLevel.CLASSIFIED: 2>}, {'counts': {'11 10': 5, '00 01': 1, '10 10': 2, '00 00': 2}, 'job_id': 'b5fca0b4-d612-4d8e-8f76-7863a144f8db', 'metadata': {'clbits': [2, 3], 'cond_clbits': None, 'm_idx': [1, 0], 'p_idx': [0, 2]}, 'shots': 10, 'meas_level': <MeasLevel.CLASSIFIED: 2>}, {'counts': {'00 10': 3, '10 11': 2, '10 01': 1, '01 11': 1, '10 00': 2, '00 00': 1}, 'job_id': 'b5fca0b4-d612-4d8e-8f76-7863a144f8db', 'metadata': {'clbits': [2, 3], 'cond_clbits': None, 'm_idx': [1, 1], 'p_idx': [0, 2]}, 'shots': 10, 'meas_level': <MeasLevel.CLASSIFIED: 2>}, {'counts': {'01 00': 1, '10 01': 3, '00 01': 1, '11 11': 1, '01 10': 2, '10 00': 1, '10 11': 1}, 'job_id': 'b5fca0b4-d612-4d8e-8f76-7863a144f8db', 'metadata': {'clbits': [2, 3], 'cond_clbits': None, 'm_idx': [1, 2], 'p_idx': [0, 2]}, 'shots': 10, 'meas_level': <MeasLevel.CLASSIFIED: 2>}, {'counts': {'00 01': 1, '11 11': 2, '11 10': 4, '10 11': 2, '01 00': 1}, 'job_id': 'b5fca0b4-d612-4d8e-8f76-7863a144f8db', 'metadata': {'clbits': [2, 3], 'cond_clbits': None, 'm_idx': [2, 0], 'p_idx': [0, 2]}, 'shots': 10, 'meas_level': <MeasLevel.CLASSIFIED: 2>}, {'counts': {'11 11': 1, '01 10': 1, '00 01': 1, '10 10': 2, '01 11': 2, '10 00': 1, '11 10': 1, '01 00': 1}, 'job_id': 'b5fca0b4-d612-4d8e-8f76-7863a144f8db', 'metadata': {'clbits': [2, 3], 'cond_clbits': None, 'm_idx': [2, 1], 'p_idx': [0, 2]}, 'shots': 10, 'meas_level': <MeasLevel.CLASSIFIED: 2>}, {'counts': {'10 11': 1, '10 00': 2, '00 01': 1, '10 10': 1, '11 10': 1, '01 01': 1, '11 01': 1, '11 11': 1, '01 11': 1}, 'job_id': 'b5fca0b4-d612-4d8e-8f76-7863a144f8db', 'metadata': {'clbits': [2, 3], 'cond_clbits': None, 'm_idx': [2, 2], 'p_idx': [0, 2]}, 'shots': 10, 'meas_level': <MeasLevel.CLASSIFIED: 2>}, {'counts': {'10 10': 3, '11 11': 1, '00 00': 4, '01 01': 2}, 'job_id': 'b5fca0b4-d612-4d8e-8f76-7863a144f8db', 'metadata': {'clbits': [2, 3], 'cond_clbits': None, 'm_idx': [0, 0], 'p_idx': [0, 3]}, 'shots': 10, 'meas_level': <MeasLevel.CLASSIFIED: 2>}, {'counts': {'11 01': 3, '00 00': 2, '10 00': 2, '11 11': 1, '10 10': 1, '00 10': 1}, 'job_id': 'b5fca0b4-d612-4d8e-8f76-7863a144f8db', 'metadata': {'clbits': [2, 3], 'cond_clbits': None, 'm_idx': [0, 1], 'p_idx': [0, 3]}, 'shots': 10, 'meas_level': <MeasLevel.CLASSIFIED: 2>}, {'counts': {'10 10': 3, '01 01': 1, '11 11': 2, '00 00': 1, '10 00': 1, '11 01': 1, '00 10': 1}, 'job_id': 'b5fca0b4-d612-4d8e-8f76-7863a144f8db', 'metadata': {'clbits': [2, 3], 'cond_clbits': None, 'm_idx': [0, 2], 'p_idx': [0, 3]}, 'shots': 10, 'meas_level': <MeasLevel.CLASSIFIED: 2>}, {'counts': {'01 01': 2, '11 10': 1, '01 00': 1, '10 10': 1, '00 01': 2, '11 11': 1, '00 00': 1, '10 11': 1}, 'job_id': 'b5fca0b4-d612-4d8e-8f76-7863a144f8db', 'metadata': {'clbits': [2, 3], 'cond_clbits': None, 'm_idx': [1, 0], 'p_idx': [0, 3]}, 'shots': 10, 'meas_level': <MeasLevel.CLASSIFIED: 2>}, {'counts': {'01 11': 1, '10 01': 2, '00 10': 1, '11 01': 1, '01 00': 1, '01 01': 1, '11 10': 1, '10 00': 2}, 'job_id': 'b5fca0b4-d612-4d8e-8f76-7863a144f8db', 'metadata': {'clbits': [2, 3], 'cond_clbits': None, 'm_idx': [1, 1], 'p_idx': [0, 3]}, 'shots': 10, 'meas_level': <MeasLevel.CLASSIFIED: 2>}, {'counts': {'10 01': 1, '10 10': 1, '10 00': 2, '01 10': 1, '11 11': 1, '10 11': 1, '11 00': 1, '00 11': 1, '11 10': 1}, 'job_id': 'b5fca0b4-d612-4d8e-8f76-7863a144f8db', 'metadata': {'clbits': [2, 3], 'cond_clbits': None, 'm_idx': [1, 2], 'p_idx': [0, 3]}, 'shots': 10, 'meas_level': <MeasLevel.CLASSIFIED: 2>}, {'counts': {'10 11': 2, '00 01': 1, '10 10': 1, '01 00': 1, '11 11': 4, '01 01': 1}, 'job_id': 'b5fca0b4-d612-4d8e-8f76-7863a144f8db', 'metadata': {'clbits': [2, 3], 'cond_clbits': None, 'm_idx': [2, 0], 'p_idx': [0, 3]}, 'shots': 10, 'meas_level': <MeasLevel.CLASSIFIED: 2>}, {'counts': {'11 11': 1, '10 01': 1, '10 10': 2, '00 00': 1, '10 00': 2, '01 00': 1, '11 10': 1, '01 01': 1}, 'job_id': 'b5fca0b4-d612-4d8e-8f76-7863a144f8db', 'metadata': {'clbits': [2, 3], 'cond_clbits': None, 'm_idx': [2, 1], 'p_idx': [0, 3]}, 'shots': 10, 'meas_level': <MeasLevel.CLASSIFIED: 2>}, {'counts': {'01 01': 1, '00 10': 1, '00 01': 1, '10 10': 1, '10 01': 2, '01 10': 1, '11 01': 1, '10 00': 1, '11 10': 1}, 'job_id': 'b5fca0b4-d612-4d8e-8f76-7863a144f8db', 'metadata': {'clbits': [2, 3], 'cond_clbits': None, 'm_idx': [2, 2], 'p_idx': [0, 3]}, 'shots': 10, 'meas_level': <MeasLevel.CLASSIFIED: 2>}, {'counts': {'00 00': 7, '11 11': 3}, 'job_id': 'b5fca0b4-d612-4d8e-8f76-7863a144f8db', 'metadata': {'clbits': [2, 3], 'cond_clbits': None, 'm_idx': [0, 0], 'p_idx': [1, 0]}, 'shots': 10, 'meas_level': <MeasLevel.CLASSIFIED: 2>}, {'counts': {'00 00': 4, '11 11': 4, '01 11': 2}, 'job_id': 'b5fca0b4-d612-4d8e-8f76-7863a144f8db', 'metadata': {'clbits': [2, 3], 'cond_clbits': None, 'm_idx': [0, 1], 'p_idx': [1, 0]}, 'shots': 10, 'meas_level': <MeasLevel.CLASSIFIED: 2>}, {'counts': {'10 00': 5, '00 00': 1, '11 11': 1, '01 11': 3}, 'job_id': 'b5fca0b4-d612-4d8e-8f76-7863a144f8db', 'metadata': {'clbits': [2, 3], 'cond_clbits': None, 'm_idx': [0, 2], 'p_idx': [1, 0]}, 'shots': 10, 'meas_level': <MeasLevel.CLASSIFIED: 2>}, {'counts': {'00 00': 4, '11 11': 2, '01 00': 3, '10 11': 1}, 'job_id': 'b5fca0b4-d612-4d8e-8f76-7863a144f8db', 'metadata': {'clbits': [2, 3], 'cond_clbits': None, 'm_idx': [1, 0], 'p_idx': [1, 0]}, 'shots': 10, 'meas_level': <MeasLevel.CLASSIFIED: 2>}, {'counts': {'11 11': 3, '10 00': 2, '00 00': 3, '01 11': 1, '10 11': 1}, 'job_id': 'b5fca0b4-d612-4d8e-8f76-7863a144f8db', 'metadata': {'clbits': [2, 3], 'cond_clbits': None, 'm_idx': [1, 1], 'p_idx': [1, 0]}, 'shots': 10, 'meas_level': <MeasLevel.CLASSIFIED: 2>}, {'counts': {'01 00': 2, '01 11': 2, '00 00': 1, '10 00': 3, '10 11': 1, '11 11': 1}, 'job_id': 'b5fca0b4-d612-4d8e-8f76-7863a144f8db', 'metadata': {'clbits': [2, 3], 'cond_clbits': None, 'm_idx': [1, 2], 'p_idx': [1, 0]}, 'shots': 10, 'meas_level': <MeasLevel.CLASSIFIED: 2>}, {'counts': {'10 11': 2, '00 00': 2, '11 11': 5, '01 00': 1}, 'job_id': 'b5fca0b4-d612-4d8e-8f76-7863a144f8db', 'metadata': {'clbits': [2, 3], 'cond_clbits': None, 'm_idx': [2, 0], 'p_idx': [1, 0]}, 'shots': 10, 'meas_level': <MeasLevel.CLASSIFIED: 2>}, {'counts': {'00 11': 3, '11 00': 2, '00 00': 2, '10 00': 2, '01 11': 1}, 'job_id': 'b5fca0b4-d612-4d8e-8f76-7863a144f8db', 'metadata': {'clbits': [2, 3], 'cond_clbits': None, 'm_idx': [2, 1], 'p_idx': [1, 0]}, 'shots': 10, 'meas_level': <MeasLevel.CLASSIFIED: 2>}, {'counts': {'10 11': 6, '11 11': 1, '00 11': 1, '00 00': 1, '01 00': 1}, 'job_id': 'b5fca0b4-d612-4d8e-8f76-7863a144f8db', 'metadata': {'clbits': [2, 3], 'cond_clbits': None, 'm_idx': [2, 2], 'p_idx': [1, 0]}, 'shots': 10, 'meas_level': <MeasLevel.CLASSIFIED: 2>}, {'counts': {'01 01': 5, '10 10': 5}, 'job_id': 'b5fca0b4-d612-4d8e-8f76-7863a144f8db', 'metadata': {'clbits': [2, 3], 'cond_clbits': None, 'm_idx': [0, 0], 'p_idx': [1, 1]}, 'shots': 10, 'meas_level': <MeasLevel.CLASSIFIED: 2>}, {'counts': {'01 01': 1, '00 10': 3, '11 01': 2, '10 10': 4}, 'job_id': 'b5fca0b4-d612-4d8e-8f76-7863a144f8db', 'metadata': {'clbits': [2, 3], 'cond_clbits': None, 'm_idx': [0, 1], 'p_idx': [1, 1]}, 'shots': 10, 'meas_level': <MeasLevel.CLASSIFIED: 2>}, {'counts': {'10 10': 6, '01 01': 2, '11 01': 1, '00 10': 1}, 'job_id': 'b5fca0b4-d612-4d8e-8f76-7863a144f8db', 'metadata': {'clbits': [2, 3], 'cond_clbits': None, 'm_idx': [0, 2], 'p_idx': [1, 1]}, 'shots': 10, 'meas_level': <MeasLevel.CLASSIFIED: 2>}, {'counts': {'00 01': 3, '10 10': 3, '01 01': 4}, 'job_id': 'b5fca0b4-d612-4d8e-8f76-7863a144f8db', 'metadata': {'clbits': [2, 3], 'cond_clbits': None, 'm_idx': [1, 0], 'p_idx': [1, 1]}, 'shots': 10, 'meas_level': <MeasLevel.CLASSIFIED: 2>}, {'counts': {'01 01': 1, '10 01': 1, '00 01': 3, '10 10': 1, '01 10': 3, '11 01': 1}, 'job_id': 'b5fca0b4-d612-4d8e-8f76-7863a144f8db', 'metadata': {'clbits': [2, 3], 'cond_clbits': None, 'm_idx': [1, 1], 'p_idx': [1, 1]}, 'shots': 10, 'meas_level': <MeasLevel.CLASSIFIED: 2>}, {'counts': {'10 10': 4, '00 01': 2, '10 01': 1, '00 10': 1, '11 01': 2}, 'job_id': 'b5fca0b4-d612-4d8e-8f76-7863a144f8db', 'metadata': {'clbits': [2, 3], 'cond_clbits': None, 'm_idx': [1, 2], 'p_idx': [1, 1]}, 'shots': 10, 'meas_level': <MeasLevel.CLASSIFIED: 2>}, {'counts': {'10 10': 4, '00 01': 2, '11 10': 4}, 'job_id': 'b5fca0b4-d612-4d8e-8f76-7863a144f8db', 'metadata': {'clbits': [2, 3], 'cond_clbits': None, 'm_idx': [2, 0], 'p_idx': [1, 1]}, 'shots': 10, 'meas_level': <MeasLevel.CLASSIFIED: 2>}, {'counts': {'01 10': 1, '00 01': 1, '10 10': 1, '10 01': 1, '00 10': 1, '11 01': 2, '01 01': 2, '11 10': 1}, 'job_id': 'b5fca0b4-d612-4d8e-8f76-7863a144f8db', 'metadata': {'clbits': [2, 3], 'cond_clbits': None, 'm_idx': [2, 1], 'p_idx': [1, 1]}, 'shots': 10, 'meas_level': <MeasLevel.CLASSIFIED: 2>}, {'counts': {'11 01': 2, '01 10': 2, '10 10': 1, '00 01': 3, '01 01': 1, '11 10': 1}, 'job_id': 'b5fca0b4-d612-4d8e-8f76-7863a144f8db', 'metadata': {'clbits': [2, 3], 'cond_clbits': None, 'm_idx': [2, 2], 'p_idx': [1, 1]}, 'shots': 10, 'meas_level': <MeasLevel.CLASSIFIED: 2>}, {'counts': {'10 10': 4, '01 01': 4, '00 00': 2}, 'job_id': 'b5fca0b4-d612-4d8e-8f76-7863a144f8db', 'metadata': {'clbits': [2, 3], 'cond_clbits': None, 'm_idx': [0, 0], 'p_idx': [1, 2]}, 'shots': 10, 'meas_level': <MeasLevel.CLASSIFIED: 2>}, {'counts': {'01 11': 1, '01 01': 3, '10 00': 1, '00 00': 3, '00 10': 1, '10 10': 1}, 'job_id': 'b5fca0b4-d612-4d8e-8f76-7863a144f8db', 'metadata': {'clbits': [2, 3], 'cond_clbits': None, 'm_idx': [0, 1], 'p_idx': [1, 2]}, 'shots': 10, 'meas_level': <MeasLevel.CLASSIFIED: 2>}, {'counts': {'01 01': 1, '00 10': 1, '01 11': 2, '10 00': 3, '00 00': 2, '11 01': 1}, 'job_id': 'b5fca0b4-d612-4d8e-8f76-7863a144f8db', 'metadata': {'clbits': [2, 3], 'cond_clbits': None, 'm_idx': [0, 2], 'p_idx': [1, 2]}, 'shots': 10, 'meas_level': <MeasLevel.CLASSIFIED: 2>}, {'counts': {'00 01': 1, '10 10': 3, '11 11': 2, '11 10': 1, '01 01': 2, '10 11': 1}, 'job_id': 'b5fca0b4-d612-4d8e-8f76-7863a144f8db', 'metadata': {'clbits': [2, 3], 'cond_clbits': None, 'm_idx': [1, 0], 'p_idx': [1, 2]}, 'shots': 10, 'meas_level': <MeasLevel.CLASSIFIED: 2>}, {'counts': {'01 01': 1, '11 10': 2, '00 10': 1, '11 01': 2, '01 00': 1, '10 10': 1, '00 00': 1, '00 11': 1}, 'job_id': 'b5fca0b4-d612-4d8e-8f76-7863a144f8db', 'metadata': {'clbits': [2, 3], 'cond_clbits': None, 'm_idx': [1, 1], 'p_idx': [1, 2]}, 'shots': 10, 'meas_level': <MeasLevel.CLASSIFIED: 2>}, {'counts': {'00 10': 1, '00 01': 1, '10 01': 1, '11 11': 2, '01 10': 1, '01 01': 1, '11 10': 1, '11 00': 2}, 'job_id': 'b5fca0b4-d612-4d8e-8f76-7863a144f8db', 'metadata': {'clbits': [2, 3], 'cond_clbits': None, 'm_idx': [1, 2], 'p_idx': [1, 2]}, 'shots': 10, 'meas_level': <MeasLevel.CLASSIFIED: 2>}, {'counts': {'01 01': 1, '00 01': 1, '10 10': 3, '10 11': 1, '11 11': 2, '01 00': 1, '00 00': 1}, 'job_id': 'b5fca0b4-d612-4d8e-8f76-7863a144f8db', 'metadata': {'clbits': [2, 3], 'cond_clbits': None, 'm_idx': [2, 0], 'p_idx': [1, 2]}, 'shots': 10, 'meas_level': <MeasLevel.CLASSIFIED: 2>}, {'counts': {'10 00': 1, '00 00': 1, '01 00': 2, '11 00': 1, '01 11': 2, '00 10': 1, '11 11': 1, '01 01': 1}, 'job_id': 'b5fca0b4-d612-4d8e-8f76-7863a144f8db', 'metadata': {'clbits': [2, 3], 'cond_clbits': None, 'm_idx': [2, 1], 'p_idx': [1, 2]}, 'shots': 10, 'meas_level': <MeasLevel.CLASSIFIED: 2>}, {'counts': {'11 00': 2, '00 00': 1, '10 01': 1, '01 01': 1, '11 10': 1, '01 11': 1, '11 11': 1, '11 01': 1, '00 10': 1}, 'job_id': 'b5fca0b4-d612-4d8e-8f76-7863a144f8db', 'metadata': {'clbits': [2, 3], 'cond_clbits': None, 'm_idx': [2, 2], 'p_idx': [1, 2]}, 'shots': 10, 'meas_level': <MeasLevel.CLASSIFIED: 2>}, {'counts': {'01 01': 2, '11 11': 3, '00 00': 3, '10 10': 2}, 'job_id': 'b5fca0b4-d612-4d8e-8f76-7863a144f8db', 'metadata': {'clbits': [2, 3], 'cond_clbits': None, 'm_idx': [0, 0], 'p_idx': [1, 3]}, 'shots': 10, 'meas_level': <MeasLevel.CLASSIFIED: 2>}, {'counts': {'01 11': 1, '00 00': 3, '10 00': 2, '01 01': 2, '00 10': 1, '10 10': 1}, 'job_id': 'b5fca0b4-d612-4d8e-8f76-7863a144f8db', 'metadata': {'clbits': [2, 3], 'cond_clbits': None, 'm_idx': [0, 1], 'p_idx': [1, 3]}, 'shots': 10, 'meas_level': <MeasLevel.CLASSIFIED: 2>}, {'counts': {'11 01': 2, '11 11': 2, '00 10': 1, '00 00': 2, '10 00': 2, '01 01': 1}, 'job_id': 'b5fca0b4-d612-4d8e-8f76-7863a144f8db', 'metadata': {'clbits': [2, 3], 'cond_clbits': None, 'm_idx': [0, 2], 'p_idx': [1, 3]}, 'shots': 10, 'meas_level': <MeasLevel.CLASSIFIED: 2>}, {'counts': {'01 00': 4, '10 10': 3, '00 01': 1, '11 11': 1, '10 11': 1}, 'job_id': 'b5fca0b4-d612-4d8e-8f76-7863a144f8db', 'metadata': {'clbits': [2, 3], 'cond_clbits': None, 'm_idx': [1, 0], 'p_idx': [1, 3]}, 'shots': 10, 'meas_level': <MeasLevel.CLASSIFIED: 2>}, {'counts': {'11 11': 2, '00 01': 2, '11 00': 2, '00 11': 1, '00 10': 1, '11 10': 1, '01 11': 1}, 'job_id': 'b5fca0b4-d612-4d8e-8f76-7863a144f8db', 'metadata': {'clbits': [2, 3], 'cond_clbits': None, 'm_idx': [1, 1], 'p_idx': [1, 3]}, 'shots': 10, 'meas_level': <MeasLevel.CLASSIFIED: 2>}, {'counts': {'00 01': 1, '10 11': 1, '11 00': 2, '00 11': 3, '11 11': 1, '01 01': 1, '11 01': 1}, 'job_id': 'b5fca0b4-d612-4d8e-8f76-7863a144f8db', 'metadata': {'clbits': [2, 3], 'cond_clbits': None, 'm_idx': [1, 2], 'p_idx': [1, 3]}, 'shots': 10, 'meas_level': <MeasLevel.CLASSIFIED: 2>}, {'counts': {'01 00': 1, '10 10': 2, '00 01': 2, '01 01': 1, '00 00': 2, '11 11': 1, '10 11': 1}, 'job_id': 'b5fca0b4-d612-4d8e-8f76-7863a144f8db', 'metadata': {'clbits': [2, 3], 'cond_clbits': None, 'm_idx': [2, 0], 'p_idx': [1, 3]}, 'shots': 10, 'meas_level': <MeasLevel.CLASSIFIED: 2>}, {'counts': {'10 11': 1, '00 10': 1, '01 10': 1, '00 11': 1, '01 00': 2, '01 01': 1, '10 10': 1, '00 00': 1, '11 11': 1}, 'job_id': 'b5fca0b4-d612-4d8e-8f76-7863a144f8db', 'metadata': {'clbits': [2, 3], 'cond_clbits': None, 'm_idx': [2, 1], 'p_idx': [1, 3]}, 'shots': 10, 'meas_level': <MeasLevel.CLASSIFIED: 2>}, {'counts': {'00 11': 2, '00 00': 1, '11 11': 1, '01 01': 2, '10 01': 1, '10 10': 1, '11 01': 1, '10 11': 1}, 'job_id': 'b5fca0b4-d612-4d8e-8f76-7863a144f8db', 'metadata': {'clbits': [2, 3], 'cond_clbits': None, 'm_idx': [2, 2], 'p_idx': [1, 3]}, 'shots': 10, 'meas_level': <MeasLevel.CLASSIFIED: 2>}, {'counts': {'00 00': 10}, 'job_id': 'b5fca0b4-d612-4d8e-8f76-7863a144f8db', 'metadata': {'clbits': [2, 3], 'cond_clbits': None, 'm_idx': [0, 0], 'p_idx': [2, 0]}, 'shots': 10, 'meas_level': <MeasLevel.CLASSIFIED: 2>}, {'counts': {'00 00': 4, '10 00': 6}, 'job_id': 'b5fca0b4-d612-4d8e-8f76-7863a144f8db', 'metadata': {'clbits': [2, 3], 'cond_clbits': None, 'm_idx': [0, 1], 'p_idx': [2, 0]}, 'shots': 10, 'meas_level': <MeasLevel.CLASSIFIED: 2>}, {'counts': {'00 00': 5, '10 00': 5}, 'job_id': 'b5fca0b4-d612-4d8e-8f76-7863a144f8db', 'metadata': {'clbits': [2, 3], 'cond_clbits': None, 'm_idx': [0, 2], 'p_idx': [2, 0]}, 'shots': 10, 'meas_level': <MeasLevel.CLASSIFIED: 2>}, {'counts': {'00 00': 7, '01 00': 3}, 'job_id': 'b5fca0b4-d612-4d8e-8f76-7863a144f8db', 'metadata': {'clbits': [2, 3], 'cond_clbits': None, 'm_idx': [1, 0], 'p_idx': [2, 0]}, 'shots': 10, 'meas_level': <MeasLevel.CLASSIFIED: 2>}, {'counts': {'00 00': 3, '10 00': 4, '01 00': 2, '11 00': 1}, 'job_id': 'b5fca0b4-d612-4d8e-8f76-7863a144f8db', 'metadata': {'clbits': [2, 3], 'cond_clbits': None, 'm_idx': [1, 1], 'p_idx': [2, 0]}, 'shots': 10, 'meas_level': <MeasLevel.CLASSIFIED: 2>}, {'counts': {'11 00': 5, '01 00': 2, '00 00': 3}, 'job_id': 'b5fca0b4-d612-4d8e-8f76-7863a144f8db', 'metadata': {'clbits': [2, 3], 'cond_clbits': None, 'm_idx': [1, 2], 'p_idx': [2, 0]}, 'shots': 10, 'meas_level': <MeasLevel.CLASSIFIED: 2>}, {'counts': {'01 00': 4, '00 00': 6}, 'job_id': 'b5fca0b4-d612-4d8e-8f76-7863a144f8db', 'metadata': {'clbits': [2, 3], 'cond_clbits': None, 'm_idx': [2, 0], 'p_idx': [2, 0]}, 'shots': 10, 'meas_level': <MeasLevel.CLASSIFIED: 2>}, {'counts': {'10 00': 5, '00 00': 2, '01 00': 1, '11 00': 2}, 'job_id': 'b5fca0b4-d612-4d8e-8f76-7863a144f8db', 'metadata': {'clbits': [2, 3], 'cond_clbits': None, 'm_idx': [2, 1], 'p_idx': [2, 0]}, 'shots': 10, 'meas_level': <MeasLevel.CLASSIFIED: 2>}, {'counts': {'01 00': 5, '10 00': 4, '11 00': 1}, 'job_id': 'b5fca0b4-d612-4d8e-8f76-7863a144f8db', 'metadata': {'clbits': [2, 3], 'cond_clbits': None, 'm_idx': [2, 2], 'p_idx': [2, 0]}, 'shots': 10, 'meas_level': <MeasLevel.CLASSIFIED: 2>}, {'counts': {'10 10': 10}, 'job_id': 'b5fca0b4-d612-4d8e-8f76-7863a144f8db', 'metadata': {'clbits': [2, 3], 'cond_clbits': None, 'm_idx': [0, 0], 'p_idx': [2, 1]}, 'shots': 10, 'meas_level': <MeasLevel.CLASSIFIED: 2>}, {'counts': {'00 10': 5, '10 10': 5}, 'job_id': 'b5fca0b4-d612-4d8e-8f76-7863a144f8db', 'metadata': {'clbits': [2, 3], 'cond_clbits': None, 'm_idx': [0, 1], 'p_idx': [2, 1]}, 'shots': 10, 'meas_level': <MeasLevel.CLASSIFIED: 2>}, {'counts': {'00 10': 7, '10 10': 3}, 'job_id': 'b5fca0b4-d612-4d8e-8f76-7863a144f8db', 'metadata': {'clbits': [2, 3], 'cond_clbits': None, 'm_idx': [0, 2], 'p_idx': [2, 1]}, 'shots': 10, 'meas_level': <MeasLevel.CLASSIFIED: 2>}, {'counts': {'10 10': 5, '11 10': 5}, 'job_id': 'b5fca0b4-d612-4d8e-8f76-7863a144f8db', 'metadata': {'clbits': [2, 3], 'cond_clbits': None, 'm_idx': [1, 0], 'p_idx': [2, 1]}, 'shots': 10, 'meas_level': <MeasLevel.CLASSIFIED: 2>}, {'counts': {'10 10': 5, '11 10': 1, '01 10': 3, '00 10': 1}, 'job_id': 'b5fca0b4-d612-4d8e-8f76-7863a144f8db', 'metadata': {'clbits': [2, 3], 'cond_clbits': None, 'm_idx': [1, 1], 'p_idx': [2, 1]}, 'shots': 10, 'meas_level': <MeasLevel.CLASSIFIED: 2>}, {'counts': {'11 10': 2, '01 10': 4, '00 10': 2, '10 10': 2}, 'job_id': 'b5fca0b4-d612-4d8e-8f76-7863a144f8db', 'metadata': {'clbits': [2, 3], 'cond_clbits': None, 'm_idx': [1, 2], 'p_idx': [2, 1]}, 'shots': 10, 'meas_level': <MeasLevel.CLASSIFIED: 2>}, {'counts': {'10 10': 5, '11 10': 5}, 'job_id': 'b5fca0b4-d612-4d8e-8f76-7863a144f8db', 'metadata': {'clbits': [2, 3], 'cond_clbits': None, 'm_idx': [2, 0], 'p_idx': [2, 1]}, 'shots': 10, 'meas_level': <MeasLevel.CLASSIFIED: 2>}, {'counts': {'10 10': 5, '00 10': 3, '11 10': 2}, 'job_id': 'b5fca0b4-d612-4d8e-8f76-7863a144f8db', 'metadata': {'clbits': [2, 3], 'cond_clbits': None, 'm_idx': [2, 1], 'p_idx': [2, 1]}, 'shots': 10, 'meas_level': <MeasLevel.CLASSIFIED: 2>}, {'counts': {'11 10': 2, '10 10': 3, '01 10': 3, '00 10': 2}, 'job_id': 'b5fca0b4-d612-4d8e-8f76-7863a144f8db', 'metadata': {'clbits': [2, 3], 'cond_clbits': None, 'm_idx': [2, 2], 'p_idx': [2, 1]}, 'shots': 10, 'meas_level': <MeasLevel.CLASSIFIED: 2>}, {'counts': {'10 10': 7, '00 00': 3}, 'job_id': 'b5fca0b4-d612-4d8e-8f76-7863a144f8db', 'metadata': {'clbits': [2, 3], 'cond_clbits': None, 'm_idx': [0, 0], 'p_idx': [2, 2]}, 'shots': 10, 'meas_level': <MeasLevel.CLASSIFIED: 2>}, {'counts': {'10 00': 1, '00 00': 3, '00 10': 3, '10 10': 3}, 'job_id': 'b5fca0b4-d612-4d8e-8f76-7863a144f8db', 'metadata': {'clbits': [2, 3], 'cond_clbits': None, 'm_idx': [0, 1], 'p_idx': [2, 2]}, 'shots': 10, 'meas_level': <MeasLevel.CLASSIFIED: 2>}, {'counts': {'00 10': 3, '10 00': 2, '00 00': 1, '10 10': 4}, 'job_id': 'b5fca0b4-d612-4d8e-8f76-7863a144f8db', 'metadata': {'clbits': [2, 3], 'cond_clbits': None, 'm_idx': [0, 2], 'p_idx': [2, 2]}, 'shots': 10, 'meas_level': <MeasLevel.CLASSIFIED: 2>}, {'counts': {'01 00': 4, '00 00': 3, '10 10': 2, '11 10': 1}, 'job_id': 'b5fca0b4-d612-4d8e-8f76-7863a144f8db', 'metadata': {'clbits': [2, 3], 'cond_clbits': None, 'm_idx': [1, 0], 'p_idx': [2, 2]}, 'shots': 10, 'meas_level': <MeasLevel.CLASSIFIED: 2>}, {'counts': {'10 10': 2, '01 00': 1, '11 10': 3, '00 10': 2, '11 00': 1, '10 00': 1}, 'job_id': 'b5fca0b4-d612-4d8e-8f76-7863a144f8db', 'metadata': {'clbits': [2, 3], 'cond_clbits': None, 'm_idx': [1, 1], 'p_idx': [2, 2]}, 'shots': 10, 'meas_level': <MeasLevel.CLASSIFIED: 2>}, {'counts': {'00 10': 3, '10 10': 4, '01 10': 2, '00 00': 1}, 'job_id': 'b5fca0b4-d612-4d8e-8f76-7863a144f8db', 'metadata': {'clbits': [2, 3], 'cond_clbits': None, 'm_idx': [1, 2], 'p_idx': [2, 2]}, 'shots': 10, 'meas_level': <MeasLevel.CLASSIFIED: 2>}, {'counts': {'00 00': 3, '01 00': 4, '10 10': 3}, 'job_id': 'b5fca0b4-d612-4d8e-8f76-7863a144f8db', 'metadata': {'clbits': [2, 3], 'cond_clbits': None, 'm_idx': [2, 0], 'p_idx': [2, 2]}, 'shots': 10, 'meas_level': <MeasLevel.CLASSIFIED: 2>}, {'counts': {'01 00': 3, '10 00': 3, '00 00': 1, '10 10': 1, '11 00': 2}, 'job_id': 'b5fca0b4-d612-4d8e-8f76-7863a144f8db', 'metadata': {'clbits': [2, 3], 'cond_clbits': None, 'm_idx': [2, 1], 'p_idx': [2, 2]}, 'shots': 10, 'meas_level': <MeasLevel.CLASSIFIED: 2>}, {'counts': {'11 10': 2, '00 10': 2, '11 00': 4, '00 00': 1, '01 00': 1}, 'job_id': 'b5fca0b4-d612-4d8e-8f76-7863a144f8db', 'metadata': {'clbits': [2, 3], 'cond_clbits': None, 'm_idx': [2, 2], 'p_idx': [2, 2]}, 'shots': 10, 'meas_level': <MeasLevel.CLASSIFIED: 2>}, {'counts': {'10 10': 6, '00 00': 4}, 'job_id': 'b5fca0b4-d612-4d8e-8f76-7863a144f8db', 'metadata': {'clbits': [2, 3], 'cond_clbits': None, 'm_idx': [0, 0], 'p_idx': [2, 3]}, 'shots': 10, 'meas_level': <MeasLevel.CLASSIFIED: 2>}, {'counts': {'00 00': 2, '10 00': 4, '10 10': 1, '00 10': 3}, 'job_id': 'b5fca0b4-d612-4d8e-8f76-7863a144f8db', 'metadata': {'clbits': [2, 3], 'cond_clbits': None, 'm_idx': [0, 1], 'p_idx': [2, 3]}, 'shots': 10, 'meas_level': <MeasLevel.CLASSIFIED: 2>}, {'counts': {'00 10': 3, '10 00': 4, '00 00': 2, '10 10': 1}, 'job_id': 'b5fca0b4-d612-4d8e-8f76-7863a144f8db', 'metadata': {'clbits': [2, 3], 'cond_clbits': None, 'm_idx': [0, 2], 'p_idx': [2, 3]}, 'shots': 10, 'meas_level': <MeasLevel.CLASSIFIED: 2>}, {'counts': {'11 10': 3, '10 10': 2, '01 00': 3, '00 00': 2}, 'job_id': 'b5fca0b4-d612-4d8e-8f76-7863a144f8db', 'metadata': {'clbits': [2, 3], 'cond_clbits': None, 'm_idx': [1, 0], 'p_idx': [2, 3]}, 'shots': 10, 'meas_level': <MeasLevel.CLASSIFIED: 2>}, {'counts': {'11 10': 1, '10 10': 1, '01 00': 2, '00 10': 1, '11 00': 2, '00 00': 1, '01 10': 2}, 'job_id': 'b5fca0b4-d612-4d8e-8f76-7863a144f8db', 'metadata': {'clbits': [2, 3], 'cond_clbits': None, 'm_idx': [1, 1], 'p_idx': [2, 3]}, 'shots': 10, 'meas_level': <MeasLevel.CLASSIFIED: 2>}, {'counts': {'10 00': 1, '00 00': 2, '11 10': 4, '00 10': 1, '01 10': 1, '10 10': 1}, 'job_id': 'b5fca0b4-d612-4d8e-8f76-7863a144f8db', 'metadata': {'clbits': [2, 3], 'cond_clbits': None, 'm_idx': [1, 2], 'p_idx': [2, 3]}, 'shots': 10, 'meas_level': <MeasLevel.CLASSIFIED: 2>}, {'counts': {'10 10': 2, '00 00': 5, '11 10': 2, '01 00': 1}, 'job_id': 'b5fca0b4-d612-4d8e-8f76-7863a144f8db', 'metadata': {'clbits': [2, 3], 'cond_clbits': None, 'm_idx': [2, 0], 'p_idx': [2, 3]}, 'shots': 10, 'meas_level': <MeasLevel.CLASSIFIED: 2>}, {'counts': {'10 00': 3, '00 00': 1, '01 00': 2, '10 10': 1, '11 10': 1, '01 10': 2}, 'job_id': 'b5fca0b4-d612-4d8e-8f76-7863a144f8db', 'metadata': {'clbits': [2, 3], 'cond_clbits': None, 'm_idx': [2, 1], 'p_idx': [2, 3]}, 'shots': 10, 'meas_level': <MeasLevel.CLASSIFIED: 2>}, {'counts': {'01 00': 2, '00 10': 2, '11 00': 2, '00 00': 1, '01 10': 1, '10 10': 2}, 'job_id': 'b5fca0b4-d612-4d8e-8f76-7863a144f8db', 'metadata': {'clbits': [2, 3], 'cond_clbits': None, 'm_idx': [2, 2], 'p_idx': [2, 3]}, 'shots': 10, 'meas_level': <MeasLevel.CLASSIFIED: 2>}, {'counts': {'11 11': 6, '00 00': 4}, 'job_id': 'b5fca0b4-d612-4d8e-8f76-7863a144f8db', 'metadata': {'clbits': [2, 3], 'cond_clbits': None, 'm_idx': [0, 0], 'p_idx': [3, 0]}, 'shots': 10, 'meas_level': <MeasLevel.CLASSIFIED: 2>}, {'counts': {'11 11': 2, '00 00': 5, '01 11': 3}, 'job_id': 'b5fca0b4-d612-4d8e-8f76-7863a144f8db', 'metadata': {'clbits': [2, 3], 'cond_clbits': None, 'm_idx': [0, 1], 'p_idx': [3, 0]}, 'shots': 10, 'meas_level': <MeasLevel.CLASSIFIED: 2>}, {'counts': {'11 11': 4, '01 11': 2, '00 00': 4}, 'job_id': 'b5fca0b4-d612-4d8e-8f76-7863a144f8db', 'metadata': {'clbits': [2, 3], 'cond_clbits': None, 'm_idx': [0, 2], 'p_idx': [3, 0]}, 'shots': 10, 'meas_level': <MeasLevel.CLASSIFIED: 2>}, {'counts': {'11 11': 4, '10 11': 2, '01 00': 2, '00 00': 2}, 'job_id': 'b5fca0b4-d612-4d8e-8f76-7863a144f8db', 'metadata': {'clbits': [2, 3], 'cond_clbits': None, 'm_idx': [1, 0], 'p_idx': [3, 0]}, 'shots': 10, 'meas_level': <MeasLevel.CLASSIFIED: 2>}, {'counts': {'01 11': 4, '11 00': 2, '01 00': 1, '10 11': 2, '11 11': 1}, 'job_id': 'b5fca0b4-d612-4d8e-8f76-7863a144f8db', 'metadata': {'clbits': [2, 3], 'cond_clbits': None, 'm_idx': [1, 1], 'p_idx': [3, 0]}, 'shots': 10, 'meas_level': <MeasLevel.CLASSIFIED: 2>}, {'counts': {'11 00': 1, '00 11': 1, '01 00': 1, '00 00': 2, '10 00': 3, '11 11': 2}, 'job_id': 'b5fca0b4-d612-4d8e-8f76-7863a144f8db', 'metadata': {'clbits': [2, 3], 'cond_clbits': None, 'm_idx': [1, 2], 'p_idx': [3, 0]}, 'shots': 10, 'meas_level': <MeasLevel.CLASSIFIED: 2>}, {'counts': {'00 00': 3, '10 11': 1, '01 00': 4, '11 11': 2}, 'job_id': 'b5fca0b4-d612-4d8e-8f76-7863a144f8db', 'metadata': {'clbits': [2, 3], 'cond_clbits': None, 'm_idx': [2, 0], 'p_idx': [3, 0]}, 'shots': 10, 'meas_level': <MeasLevel.CLASSIFIED: 2>}, {'counts': {'00 11': 3, '11 00': 1, '10 11': 1, '00 00': 1, '10 00': 2, '01 11': 2}, 'job_id': 'b5fca0b4-d612-4d8e-8f76-7863a144f8db', 'metadata': {'clbits': [2, 3], 'cond_clbits': None, 'm_idx': [2, 1], 'p_idx': [3, 0]}, 'shots': 10, 'meas_level': <MeasLevel.CLASSIFIED: 2>}, {'counts': {'10 11': 1, '01 11': 1, '00 11': 2, '11 00': 1, '01 00': 2, '00 00': 1, '10 00': 2}, 'job_id': 'b5fca0b4-d612-4d8e-8f76-7863a144f8db', 'metadata': {'clbits': [2, 3], 'cond_clbits': None, 'm_idx': [2, 2], 'p_idx': [3, 0]}, 'shots': 10, 'meas_level': <MeasLevel.CLASSIFIED: 2>}, {'counts': {'10 10': 5, '01 01': 5}, 'job_id': 'b5fca0b4-d612-4d8e-8f76-7863a144f8db', 'metadata': {'clbits': [2, 3], 'cond_clbits': None, 'm_idx': [0, 0], 'p_idx': [3, 1]}, 'shots': 10, 'meas_level': <MeasLevel.CLASSIFIED: 2>}, {'counts': {'00 10': 2, '10 10': 5, '01 01': 2, '11 01': 1}, 'job_id': 'b5fca0b4-d612-4d8e-8f76-7863a144f8db', 'metadata': {'clbits': [2, 3], 'cond_clbits': None, 'm_idx': [0, 1], 'p_idx': [3, 1]}, 'shots': 10, 'meas_level': <MeasLevel.CLASSIFIED: 2>}, {'counts': {'11 01': 4, '01 01': 1, '00 10': 2, '10 10': 3}, 'job_id': 'b5fca0b4-d612-4d8e-8f76-7863a144f8db', 'metadata': {'clbits': [2, 3], 'cond_clbits': None, 'm_idx': [0, 2], 'p_idx': [3, 1]}, 'shots': 10, 'meas_level': <MeasLevel.CLASSIFIED: 2>}, {'counts': {'11 10': 1, '01 01': 2, '00 01': 4, '10 10': 3}, 'job_id': 'b5fca0b4-d612-4d8e-8f76-7863a144f8db', 'metadata': {'clbits': [2, 3], 'cond_clbits': None, 'm_idx': [1, 0], 'p_idx': [3, 1]}, 'shots': 10, 'meas_level': <MeasLevel.CLASSIFIED: 2>}, {'counts': {'10 01': 4, '00 01': 2, '10 10': 3, '11 10': 1}, 'job_id': 'b5fca0b4-d612-4d8e-8f76-7863a144f8db', 'metadata': {'clbits': [2, 3], 'cond_clbits': None, 'm_idx': [1, 1], 'p_idx': [3, 1]}, 'shots': 10, 'meas_level': <MeasLevel.CLASSIFIED: 2>}, {'counts': {'10 10': 2, '10 01': 3, '11 10': 1, '01 01': 2, '11 01': 2}, 'job_id': 'b5fca0b4-d612-4d8e-8f76-7863a144f8db', 'metadata': {'clbits': [2, 3], 'cond_clbits': None, 'm_idx': [1, 2], 'p_idx': [3, 1]}, 'shots': 10, 'meas_level': <MeasLevel.CLASSIFIED: 2>}, {'counts': {'11 10': 3, '01 01': 2, '10 10': 5}, 'job_id': 'b5fca0b4-d612-4d8e-8f76-7863a144f8db', 'metadata': {'clbits': [2, 3], 'cond_clbits': None, 'm_idx': [2, 0], 'p_idx': [3, 1]}, 'shots': 10, 'meas_level': <MeasLevel.CLASSIFIED: 2>}, {'counts': {'01 10': 2, '10 10': 1, '00 01': 4, '11 10': 1, '01 01': 1, '11 01': 1}, 'job_id': 'b5fca0b4-d612-4d8e-8f76-7863a144f8db', 'metadata': {'clbits': [2, 3], 'cond_clbits': None, 'm_idx': [2, 1], 'p_idx': [3, 1]}, 'shots': 10, 'meas_level': <MeasLevel.CLASSIFIED: 2>}, {'counts': {'10 10': 4, '10 01': 2, '01 01': 1, '11 10': 1, '01 10': 2}, 'job_id': 'b5fca0b4-d612-4d8e-8f76-7863a144f8db', 'metadata': {'clbits': [2, 3], 'cond_clbits': None, 'm_idx': [2, 2], 'p_idx': [3, 1]}, 'shots': 10, 'meas_level': <MeasLevel.CLASSIFIED: 2>}, {'counts': {'11 11': 4, '00 00': 3, '10 10': 2, '01 01': 1}, 'job_id': 'b5fca0b4-d612-4d8e-8f76-7863a144f8db', 'metadata': {'clbits': [2, 3], 'cond_clbits': None, 'm_idx': [0, 0], 'p_idx': [3, 2]}, 'shots': 10, 'meas_level': <MeasLevel.CLASSIFIED: 2>}, {'counts': {'10 00': 1, '01 11': 1, '11 01': 2, '11 11': 3, '10 10': 2, '01 01': 1}, 'job_id': 'b5fca0b4-d612-4d8e-8f76-7863a144f8db', 'metadata': {'clbits': [2, 3], 'cond_clbits': None, 'm_idx': [0, 1], 'p_idx': [3, 2]}, 'shots': 10, 'meas_level': <MeasLevel.CLASSIFIED: 2>}, {'counts': {'01 01': 4, '01 11': 2, '00 10': 1, '11 01': 1, '10 10': 1, '00 00': 1}, 'job_id': 'b5fca0b4-d612-4d8e-8f76-7863a144f8db', 'metadata': {'clbits': [2, 3], 'cond_clbits': None, 'm_idx': [0, 2], 'p_idx': [3, 2]}, 'shots': 10, 'meas_level': <MeasLevel.CLASSIFIED: 2>}, {'counts': {'00 00': 1, '10 11': 4, '10 10': 3, '11 11': 2}, 'job_id': 'b5fca0b4-d612-4d8e-8f76-7863a144f8db', 'metadata': {'clbits': [2, 3], 'cond_clbits': None, 'm_idx': [1, 0], 'p_idx': [3, 2]}, 'shots': 10, 'meas_level': <MeasLevel.CLASSIFIED: 2>}, {'counts': {'10 00': 1, '11 00': 1, '00 11': 2, '01 10': 1, '01 00': 2, '01 01': 1, '11 10': 1, '00 01': 1}, 'job_id': 'b5fca0b4-d612-4d8e-8f76-7863a144f8db', 'metadata': {'clbits': [2, 3], 'cond_clbits': None, 'm_idx': [1, 1], 'p_idx': [3, 2]}, 'shots': 10, 'meas_level': <MeasLevel.CLASSIFIED: 2>}, {'counts': {'11 00': 1, '00 11': 2, '01 00': 2, '11 01': 2, '01 01': 1, '01 10': 1, '00 00': 1}, 'job_id': 'b5fca0b4-d612-4d8e-8f76-7863a144f8db', 'metadata': {'clbits': [2, 3], 'cond_clbits': None, 'm_idx': [1, 2], 'p_idx': [3, 2]}, 'shots': 10, 'meas_level': <MeasLevel.CLASSIFIED: 2>}, {'counts': {'00 01': 2, '10 10': 2, '01 00': 1, '10 11': 1, '01 01': 1, '11 10': 1, '11 11': 1, '00 00': 1}, 'job_id': 'b5fca0b4-d612-4d8e-8f76-7863a144f8db', 'metadata': {'clbits': [2, 3], 'cond_clbits': None, 'm_idx': [2, 0], 'p_idx': [3, 2]}, 'shots': 10, 'meas_level': <MeasLevel.CLASSIFIED: 2>}, {'counts': {'11 11': 3, '10 01': 1, '00 01': 2, '01 11': 1, '11 01': 1, '01 00': 1, '00 11': 1}, 'job_id': 'b5fca0b4-d612-4d8e-8f76-7863a144f8db', 'metadata': {'clbits': [2, 3], 'cond_clbits': None, 'm_idx': [2, 1], 'p_idx': [3, 2]}, 'shots': 10, 'meas_level': <MeasLevel.CLASSIFIED: 2>}, {'counts': {'01 01': 3, '10 10': 1, '01 00': 1, '00 10': 1, '01 11': 2, '00 00': 1, '10 00': 1}, 'job_id': 'b5fca0b4-d612-4d8e-8f76-7863a144f8db', 'metadata': {'clbits': [2, 3], 'cond_clbits': None, 'm_idx': [2, 2], 'p_idx': [3, 2]}, 'shots': 10, 'meas_level': <MeasLevel.CLASSIFIED: 2>}, {'counts': {'00 00': 2, '10 10': 3, '01 01': 3, '11 11': 2}, 'job_id': 'b5fca0b4-d612-4d8e-8f76-7863a144f8db', 'metadata': {'clbits': [2, 3], 'cond_clbits': None, 'm_idx': [0, 0], 'p_idx': [3, 3]}, 'shots': 10, 'meas_level': <MeasLevel.CLASSIFIED: 2>}, {'counts': {'00 10': 3, '01 11': 3, '11 11': 1, '10 00': 2, '10 10': 1}, 'job_id': 'b5fca0b4-d612-4d8e-8f76-7863a144f8db', 'metadata': {'clbits': [2, 3], 'cond_clbits': None, 'm_idx': [0, 1], 'p_idx': [3, 3]}, 'shots': 10, 'meas_level': <MeasLevel.CLASSIFIED: 2>}, {'counts': {'11 11': 2, '01 11': 2, '01 01': 1, '00 10': 3, '00 00': 1, '11 01': 1}, 'job_id': 'b5fca0b4-d612-4d8e-8f76-7863a144f8db', 'metadata': {'clbits': [2, 3], 'cond_clbits': None, 'm_idx': [0, 2], 'p_idx': [3, 3]}, 'shots': 10, 'meas_level': <MeasLevel.CLASSIFIED: 2>}, {'counts': {'11 11': 2, '10 10': 1, '00 01': 2, '11 10': 3, '01 00': 2}, 'job_id': 'b5fca0b4-d612-4d8e-8f76-7863a144f8db', 'metadata': {'clbits': [2, 3], 'cond_clbits': None, 'm_idx': [1, 0], 'p_idx': [3, 3]}, 'shots': 10, 'meas_level': <MeasLevel.CLASSIFIED: 2>}, {'counts': {'01 00': 1, '11 01': 2, '00 00': 1, '00 01': 2, '00 11': 1, '01 11': 1, '11 11': 2}, 'job_id': 'b5fca0b4-d612-4d8e-8f76-7863a144f8db', 'metadata': {'clbits': [2, 3], 'cond_clbits': None, 'm_idx': [1, 1], 'p_idx': [3, 3]}, 'shots': 10, 'meas_level': <MeasLevel.CLASSIFIED: 2>}, {'counts': {'01 11': 1, '11 00': 1, '00 11': 1, '10 01': 1, '00 01': 2, '11 11': 1, '10 00': 2, '01 01': 1}, 'job_id': 'b5fca0b4-d612-4d8e-8f76-7863a144f8db', 'metadata': {'clbits': [2, 3], 'cond_clbits': None, 'm_idx': [1, 2], 'p_idx': [3, 3]}, 'shots': 10, 'meas_level': <MeasLevel.CLASSIFIED: 2>}, {'counts': {'00 00': 1, '11 10': 3, '10 10': 2, '11 11': 2, '10 11': 2}, 'job_id': 'b5fca0b4-d612-4d8e-8f76-7863a144f8db', 'metadata': {'clbits': [2, 3], 'cond_clbits': None, 'm_idx': [2, 0], 'p_idx': [3, 3]}, 'shots': 10, 'meas_level': <MeasLevel.CLASSIFIED: 2>}, {'counts': {'11 10': 1, '01 01': 1, '00 00': 1, '00 01': 1, '10 10': 1, '01 11': 2, '00 11': 1, '11 01': 1, '10 00': 1}, 'job_id': 'b5fca0b4-d612-4d8e-8f76-7863a144f8db', 'metadata': {'clbits': [2, 3], 'cond_clbits': None, 'm_idx': [2, 1], 'p_idx': [3, 3]}, 'shots': 10, 'meas_level': <MeasLevel.CLASSIFIED: 2>}, {'counts': {'01 11': 1, '10 01': 1, '01 01': 1, '11 10': 1, '11 00': 2, '01 00': 1, '11 01': 2, '10 00': 1}, 'job_id': 'b5fca0b4-d612-4d8e-8f76-7863a144f8db', 'metadata': {'clbits': [2, 3], 'cond_clbits': None, 'm_idx': [2, 2], 'p_idx': [3, 3]}, 'shots': 10, 'meas_level': <MeasLevel.CLASSIFIED: 2>}]\n"
     ]
    }
   ],
   "source": [
    "simulator_density = AerSimulator(method=\"density_matrix\") \n",
    "\n",
    "circuit_tomo_density = ProcessTomography(qc_to_ps_tomo, simulator_density)\n",
    "\n",
    "res = circuit_tomo_density.run(simulator_density, shots=10)\n",
    "print(res.data())"
   ]
  },
  {
   "cell_type": "markdown",
   "metadata": {},
   "source": [
    "<h5>Stabilizer</h5>"
   ]
  },
  {
   "cell_type": "code",
   "execution_count": 70,
   "metadata": {},
   "outputs": [
    {
     "name": "stderr",
     "output_type": "stream",
     "text": [
      "Provider for ExperimentData object doesn't exist, resulting in a failed attempt to retrieve data from the server; no stored result data exists\n"
     ]
    },
    {
     "name": "stdout",
     "output_type": "stream",
     "text": [
      "[]\n"
     ]
    }
   ],
   "source": [
    "simulator_stabilizer = AerSimulator(method=\"stabilizer\") \n",
    "\n",
    "circuit_tomo_stabilizer = ProcessTomography(qc_to_ps_tomo, simulator_stabilizer)\n",
    "\n",
    "res = circuit_tomo_stabilizer.run(simulator_stabilizer, shots=10)\n",
    "print(res.data())"
   ]
  },
  {
   "cell_type": "markdown",
   "metadata": {},
   "source": [
    "---"
   ]
  },
  {
   "cell_type": "markdown",
   "metadata": {},
   "source": [
    "<h2>Quantum Error Correction</h2>"
   ]
  },
  {
   "cell_type": "markdown",
   "metadata": {},
   "source": [
    "<h5>Setup 1 + 2 qubit channel</h5>"
   ]
  },
  {
   "cell_type": "code",
   "execution_count": null,
   "metadata": {},
   "outputs": [
    {
     "name": "stdout",
     "output_type": "stream",
     "text": [
      "{'11': 9}\n"
     ]
    }
   ],
   "source": [
    "q_number = 3\n",
    "\n",
    "q_logical = QuantumRegister(1, 'Message')\n",
    "q_ancillas_sender = QuantumRegister(q_number - 1, 'Alice\\'s ancilla')\n",
    "q_ancillas_receiver = QuantumRegister(q_number - 1, 'Bob\\'s ancilla')\n",
    "c_measure_result = ClassicalRegister(q_number - 1, 'Error Syndrome')\n",
    "\n",
    "qc_qec = QuantumCircuit(q_logical, q_ancillas_sender, q_ancillas_receiver, c_measure_result)\n",
    "\n",
    "# set logical qubit to |1>\n",
    "qc_qec.x(0)\n",
    "\n",
    "# distribute state\n",
    "for q in range(1,q_number):\n",
    "    qc_qec.cx(0, q)\n",
    "\n",
    "qc_qec.barrier(range(q_number), label=\"|111>\")\n",
    "\n",
    "# ERROR PHASE\n",
    "\n",
    "# simulate error X, Y or Z on a single qubit\n",
    "errors = [qc_qec.x, qc_qec.y, qc_qec.z]\n",
    "\n",
    "# random version\n",
    "# for q in range(q_number):\n",
    "#     if random.getrandbits(1):\n",
    "#             random.choice(errors)(q)\n",
    "#             break\n",
    "\n",
    "# test version\n",
    "qc_qec.x(1)\n",
    "\n",
    "\n",
    "\n",
    "# ERROR SYNDROME PHASE\n",
    "\n",
    "for q in range(3, 5):\n",
    "    qc_qec.h(q)\n",
    "\n",
    "# XZZXI\n",
    "qc_qec.cz(0, 3)  \n",
    "qc_qec.cz(0, 4) \n",
    "\n",
    "qc_qec.barrier(range((q_number * 2) - 1))  \n",
    "qc_qec.cz(1, 3)  \n",
    "qc_qec.cz(1, 4) \n",
    "\n",
    "qc_qec.barrier(range((q_number * 2) - 1))  \n",
    "\n",
    "# Final Hadamard and measurement gates to extract the syndrome\n",
    "for q in range(3, 5):\n",
    "    qc_qec.h(q)  # Apply Hadamard to ancilla qubits to complete the syndrome extraction\n",
    "    qc_qec.measure(q, q - 3)  # Measure ancilla qubits and store results in classical bits\n",
    "\n",
    "\n",
    "# setup receiver circuit\n",
    "qc_qec.draw('mpl', plot_barriers=True)\n",
    "\n",
    "# Simulate the circuit using AerSimulator\n",
    "simulator = AerSimulator()\n",
    "job = simulator.run(qc_qec, shots=9)\n",
    "result = job.result()\n",
    "\n",
    "# Get the counts from the simulation\n",
    "counts = result.get_counts(qc_qec)\n",
    "\n",
    "# Print the counts (which are the classical register values)\n",
    "print(counts)"
   ]
  },
  {
   "cell_type": "code",
   "execution_count": 143,
   "metadata": {},
   "outputs": [
    {
     "name": "stdout",
     "output_type": "stream",
     "text": [
      "{'1011': 10}\n",
      "Error found: Y1\n"
     ]
    }
   ],
   "source": [
    "# 5 qubit quantum error correction\n",
    "\n",
    "# INIT PHASE\n",
    "q_number = 5\n",
    "\n",
    "q_logical = QuantumRegister(1, 'Logical qubit')\n",
    "\n",
    "q_ancillas_sender = QuantumRegister(q_number - 1, 'Alice\\'s ancilla')\n",
    "q_ancillas_receiver = QuantumRegister(q_number - 1, 'Bob\\'s ancilla')\n",
    "c_measure_result = ClassicalRegister(q_number - 1, 'Error Syndrome')\n",
    "\n",
    "qc_qec = QuantumCircuit(q_logical, q_ancillas_sender, q_ancillas_receiver, c_measure_result)\n",
    "\n",
    "# Set logical qubit in super position (Comment out if you want only |0>)\n",
    "# rand_amplitude = random.random()\n",
    "# a = math.sqrt(rand_amplitude)\n",
    "# b = math.sqrt((1 - rand_amplitude))\n",
    "# qc_qec.initialize([a, b], 0)\n",
    "\n",
    "\n",
    "qc_qec.barrier(range(q_number), label=\"a|0>+b|1>\")\n",
    "\n",
    "# ENCODING LOGICAL QUBIT PHASE\n",
    "\n",
    "qc_qec.h(0)               \n",
    "qc_qec.cz(0, 1)          \n",
    "qc_qec.cz(0, 3)          \n",
    "qc_qec.cx(0, 4)          \n",
    "qc_qec.cz(0, 4)          \n",
    "\n",
    "qc_qec.barrier(range(q_number))\n",
    "qc_qec.h(1)               \n",
    "qc_qec.cz(1, 2)          \n",
    "qc_qec.cz(1, 3)          \n",
    "qc_qec.cx(1, 4)              \n",
    "\n",
    "qc_qec.barrier(range(q_number))\n",
    "qc_qec.h(2)               \n",
    "qc_qec.cz(2, 0)          \n",
    "qc_qec.cz(2, 1)          \n",
    "qc_qec.cx(2, 4)                  \n",
    "\n",
    "qc_qec.barrier(range(q_number))\n",
    "qc_qec.h(3)               \n",
    "qc_qec.cz(3, 0)          \n",
    "qc_qec.cz(3, 2)          \n",
    "qc_qec.cx(3, 4)      \n",
    "qc_qec.cz(3, 4)  \n",
    "\n",
    "qc_qec.barrier(range(q_number), label=\"|ψ⟩L\")\n",
    "\n",
    "\n",
    "# NOISE PHASE\n",
    "\n",
    "# Simulate error X, Y or Z on a single qubit\n",
    "errors = [qc_qec.x, qc_qec.y, qc_qec.z]\n",
    "# random version\n",
    "# for q in range(q_number):\n",
    "#     if random.getrandbits(1):\n",
    "#             random.choice(errors)(q)\n",
    "#             break\n",
    "\n",
    "# Manually set error\n",
    "qc_qec.y(0)\n",
    "\n",
    "\n",
    "qc_qec.barrier(range((q_number * 2) - 1), label=\"Channel\")\n",
    "\n",
    "\n",
    "# ERROR SYNDROME PHASE\n",
    "\n",
    "for q in range(5, 9):\n",
    "    qc_qec.h(q)\n",
    "\n",
    "# XZZXI\n",
    "qc_qec.cx(5, 0)\n",
    "qc_qec.cz(5, 1)\n",
    "qc_qec.cz(5, 2)\n",
    "qc_qec.cx(5, 3)\n",
    "\n",
    "qc_qec.barrier(range((q_number * 2) - 1)) \n",
    "\n",
    "# IXZZX\n",
    "qc_qec.cx(6, 1)\n",
    "qc_qec.cz(6, 2)\n",
    "qc_qec.cz(6, 3)\n",
    "qc_qec.cx(6, 4)\n",
    "\n",
    "qc_qec.barrier(range((q_number * 2) - 1))\n",
    "\n",
    "# XIXZZ\n",
    "qc_qec.cx(7, 0)\n",
    "qc_qec.cx(7, 2)\n",
    "qc_qec.cz(7, 3)\n",
    "qc_qec.cz(7, 4)\n",
    "\n",
    "qc_qec.barrier(range((q_number * 2) - 1))\n",
    "\n",
    "# ZXIXZ\n",
    "qc_qec.cz(8, 0)\n",
    "qc_qec.cx(8, 1)\n",
    "qc_qec.cx(8, 3)\n",
    "qc_qec.cz(8, 4)\n",
    "\n",
    "qc_qec.barrier(range((q_number * 2) - 1))\n",
    "\n",
    "for q in range(5, 9):\n",
    "    qc_qec.h(q) \n",
    "\n",
    "qc_qec.measure(5, 3)\n",
    "qc_qec.measure(6, 2)\n",
    "qc_qec.measure(7, 1)\n",
    "qc_qec.measure(8, 0)\n",
    "\n",
    "\n",
    "qc_qec.draw('mpl', plot_barriers=True)\n",
    "\n",
    "# simulate circuit (comment everything below to draw it instead)\n",
    "simulator = AerSimulator()\n",
    "job = simulator.run(qc_qec, shots=10)\n",
    "result = job.result()\n",
    "\n",
    "counts = result.get_counts(qc_qec)\n",
    "\n",
    "error_syndrome_lut = {\n",
    "    \"0001\": \"X1\",\n",
    "    \"1010\": \"Z1\",\n",
    "    \"1011\": \"Y1\",\n",
    "    \"1000\": \"X2\",\n",
    "    \"0101\": \"Z2\",\n",
    "    \"1101\": \"Y2\",\n",
    "    \"1100\": \"X3\",\n",
    "    \"0010\": \"Z3\",\n",
    "    \"1110\": \"Y3\",\n",
    "    \"0110\": \"X4\",\n",
    "    \"1001\": \"Z4\",\n",
    "    \"1111\": \"Y4\",\n",
    "    \"0011\": \"X5\",\n",
    "    \"0100\": \"Z5\",\n",
    "    \"0111\": \"Y5\"\n",
    "}\n",
    "print(counts)\n",
    "\n",
    "print(f\"Error found: {error_syndrome_lut[list(counts)[0]]}\")"
   ]
  }
 ],
 "metadata": {
  "kernelspec": {
   "display_name": "Python 3",
   "language": "python",
   "name": "python3"
  },
  "language_info": {
   "codemirror_mode": {
    "name": "ipython",
    "version": 3
   },
   "file_extension": ".py",
   "mimetype": "text/x-python",
   "name": "python",
   "nbconvert_exporter": "python",
   "pygments_lexer": "ipython3",
   "version": "3.12.4"
  }
 },
 "nbformat": 4,
 "nbformat_minor": 2
}

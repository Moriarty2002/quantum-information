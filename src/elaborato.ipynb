{
 "cells": [
  {
   "cell_type": "markdown",
   "metadata": {},
   "source": [
    "<h1> ELABORATO QUANTUM INFORMATION </h1>"
   ]
  },
  {
   "cell_type": "markdown",
   "metadata": {
    "notebookRunGroups": {
     "groupValue": "1"
    }
   },
   "source": [
    "<h5>D'amora Agostino M6300...</h5>\n",
    "<h5>Esposito Marcello M63001768</h5>"
   ]
  },
  {
   "cell_type": "markdown",
   "metadata": {},
   "source": [
    "__________________________________________________________________________________________________________________________________"
   ]
  },
  {
   "cell_type": "markdown",
   "metadata": {},
   "source": [
    "<h3>Libs</h3>"
   ]
  },
  {
   "cell_type": "code",
   "execution_count": null,
   "metadata": {},
   "outputs": [],
   "source": [
    "%pip install qiskit-aer==0.14.2\n",
    "%pip install qiskit==1.1.1\n",
    "%pip install qiskit-ibm-runtime==0.26.0\n",
    "%pip install qiskit_experiments==0.7.0\n",
    "%pip install matplotlib==3.8.4\n",
    "%pip install pylatexenc==2.10\n",
    "%pip install seaborn==0.13.2"
   ]
  },
  {
   "cell_type": "code",
   "execution_count": null,
   "metadata": {},
   "outputs": [],
   "source": [
    "from qiskit import QuantumCircuit, transpile, QuantumRegister\n",
    "from qiskit.providers.basic_provider import BasicSimulator\n",
    "from qiskit_aer import AerSimulator\n",
    "from qiskit_experiments.library import ProcessTomography\n",
    "from qiskit.visualization import plot_bloch_multivector, plot_state_city, array_to_latex\n",
    "from qiskit.quantum_info import partial_trace, Statevector, DensityMatrix, Operator, StabilizerState"
   ]
  }
 ],
 "metadata": {
  "kernelspec": {
   "display_name": "Python 3",
   "language": "python",
   "name": "python3"
  },
  "language_info": {
   "codemirror_mode": {
    "name": "ipython",
    "version": 3
   },
   "file_extension": ".py",
   "mimetype": "text/x-python",
   "name": "python",
   "nbconvert_exporter": "python",
   "pygments_lexer": "ipython3",
   "version": "3.12.4"
  }
 },
 "nbformat": 4,
 "nbformat_minor": 2
}
